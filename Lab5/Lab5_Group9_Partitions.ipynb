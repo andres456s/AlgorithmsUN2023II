{
  "cells": [
    {
      "cell_type": "markdown",
      "metadata": {
        "id": "view-in-github",
        "colab_type": "text"
      },
      "source": [
        "<a href=\"https://colab.research.google.com/github/andres456s/AlgorithmsUN2023II/blob/main/Lab5/Lab5_Group9_Partitions.ipynb\" target=\"_parent\"><img src=\"https://colab.research.google.com/assets/colab-badge.svg\" alt=\"Open In Colab\"/></a>"
      ]
    },
    {
      "cell_type": "markdown",
      "metadata": {
        "id": "138HHQxvs_U7"
      },
      "source": [
        "# **Names:** David A. Rativa G. - Andrés F. Patiño C. - Byron D. Giraldo C.\n",
        "# **UN Id:** drativa - anpatino - bygiraldoc\n",
        "# **List number:** 25 - 9 - 19\n",
        "# **Group :** 9"
      ]
    },
    {
      "cell_type": "markdown",
      "metadata": {
        "id": "rdu7PcWttfnz"
      },
      "source": [
        "# Write a code that produces the the ** Bell numbers** count the possible partitions of a set.\n",
        "\n",
        "**Hint**:\n",
        ". Output the n-th Bell Number - [stackexchange](https://codegolf.stackexchange.com/questions/132379/output-the-n-th-bell-number)"
      ]
    },
    {
      "cell_type": "code",
      "execution_count": 1,
      "metadata": {
        "colab": {
          "base_uri": "https://localhost:8080/"
        },
        "id": "OeC0654QrLvw",
        "outputId": "d5ec7b11-a5de-4c5b-ffb1-8b56cda866e7"
      },
      "outputs": [
        {
          "output_type": "stream",
          "name": "stdout",
          "text": [
            "Ingrese un valor para n: 7\n",
            "El 7-ésimo número de Bell es 877\n"
          ]
        }
      ],
      "source": [
        "def bell_number(n):\n",
        "  # Crea una matriz llamada bell. Esta matriz se utiliza para almacenar valores intermedios al calcular los números de Bell. Tiene dimensiones (n+1) para almacenar valores para cada combinación de i y j\n",
        "    bell = [[0 for x in range(n+1)] for x in range(n+1)]\n",
        "    bell[0][0] = 1\n",
        "    for i in range(1, n+1):\n",
        "        bell[i][0] = bell[i-1][i-1]\n",
        "        for j in range(1, i+1):\n",
        "   # calcula el valor de la celda actual que es el valor de la celda diagonalmente arriba y a la izquierda y bell[i][j-1] es el valor de la celda inmediatamente a la izquierda.\n",
        "            bell[i][j] = bell[i-1][j-1] + bell[i][j-1]\n",
        "    return bell[n][0]\n",
        "\n",
        "n = int(input(\"Ingrese un valor para n: \"))\n",
        "result = bell_number(n)\n",
        "print(f\"El {n}-ésimo número de Bell es {result}\")\n"
      ]
    },
    {
      "cell_type": "markdown",
      "metadata": {
        "id": "vSafufOkvDht"
      },
      "source": [
        "###Write a code that produces list of all partititions of the set of $[n]=\\{ 1,2,3,4\\cdots , n-1, n\\}$ with $0 \\le n \\le 65$ and also list all the partitions for which the sum of element of the partition is the same constant for all."
      ]
    },
    {
      "cell_type": "code",
      "execution_count": 2,
      "metadata": {
        "id": "bahIxhWdtfJG",
        "colab": {
          "base_uri": "https://localhost:8080/"
        },
        "outputId": "e3500a0a-f9ea-42d6-e3e1-8600fa0bb759"
      },
      "outputs": [
        {
          "output_type": "stream",
          "name": "stdout",
          "text": [
            "Ingrese el n deseado: 3\n",
            "{ 1 2 3 } \n",
            "{ 1 2 } { 3 } \n",
            "{ 1 3 } { 2 } \n",
            "{ 1 } { 2 3 } \n",
            "{ 1 } { 2 } { 3 } \n"
          ]
        }
      ],
      "source": [
        "def print_partition(ans):\n",
        "    for i in ans:\n",
        "        print(\"{\", end=\" \")\n",
        "        for element in i:\n",
        "            print(element, end=\" \")\n",
        "        print(\"}\", end=\" \")\n",
        "    print()\n",
        "\n",
        "def partition_set(set, index, ans):\n",
        "    if index == len(set):\n",
        "        print_partition(ans)\n",
        "        return\n",
        "\n",
        "\n",
        "    for i in range(len(ans)):\n",
        "        ans[i].append(set[index])\n",
        "        partition_set(set, index + 1, ans)\n",
        "        ans[i].pop()\n",
        "\n",
        "    ans.append([set[index]])\n",
        "    partition_set(set, index + 1, ans)\n",
        "    ans.pop()\n",
        "\n",
        "\n",
        "def all_partitions(set):\n",
        "    ans = []\n",
        "    partition_set(set, 0, ans)\n",
        "\n",
        "if __name__ == \"__main__\":\n",
        "    n = int(input(\"Ingrese el n deseado: \"))\n",
        "\n",
        "    set = list(range(1, n + 1))\n",
        "\n",
        "    all_partitions(set)\n"
      ]
    },
    {
      "cell_type": "markdown",
      "metadata": {
        "id": "nt9ekZ7kzjPr"
      },
      "source": [
        "# Write a code that produces the partition with all the parts having same sum value, identify the formula for $n < 16$."
      ]
    },
    {
      "cell_type": "code",
      "source": [
        "def partition_equal_sum(data, target_sum, partial=[]):\n",
        "    s = sum(partial)\n",
        "\n",
        "    if s == target_sum:\n",
        "        yield partial\n",
        "\n",
        "    if s >= target_sum:\n",
        "        return\n",
        "\n",
        "    for i, item in enumerate(data):\n",
        "        remaining = data[i+1:]\n",
        "        yield from partition_equal_sum(remaining, target_sum, partial + [item])\n",
        "\n",
        "\n",
        "def constant_partition(n):\n",
        "  b =[i for i in range(1, n)]\n",
        "  # your code goes here\n",
        "  return b\n",
        "\n",
        "data =  constant_partition(int(input()))\n",
        "target_sum = len(data)\n",
        "\n",
        "print(len(data))\n",
        "\n",
        "partitions = list(partition_equal_sum(data, target_sum))\n",
        "\n",
        "print(f\"Conjunto de datos: {data}\")\n",
        "print(f\"Suma objetivo: {target_sum}\")\n",
        "\n",
        "for i, partition in enumerate(partitions):\n",
        "    print(f\"Partición {i + 1}: {partition}\")\n"
      ],
      "metadata": {
        "colab": {
          "base_uri": "https://localhost:8080/"
        },
        "id": "WZF4xIQg4-it",
        "outputId": "293c6394-e12a-427b-f879-7fd4189a8e80"
      },
      "execution_count": 14,
      "outputs": [
        {
          "output_type": "stream",
          "name": "stdout",
          "text": [
            "12\n",
            "11\n",
            "Conjunto de datos: [1, 2, 3, 4, 5, 6, 7, 8, 9, 10, 11]\n",
            "Suma objetivo: 11\n",
            "Partición 1: [1, 2, 3, 5]\n",
            "Partición 2: [1, 2, 8]\n",
            "Partición 3: [1, 3, 7]\n",
            "Partición 4: [1, 4, 6]\n",
            "Partición 5: [1, 10]\n",
            "Partición 6: [2, 3, 6]\n",
            "Partición 7: [2, 4, 5]\n",
            "Partición 8: [2, 9]\n",
            "Partición 9: [3, 8]\n",
            "Partición 10: [4, 7]\n",
            "Partición 11: [5, 6]\n",
            "Partición 12: [11]\n"
          ]
        }
      ]
    },
    {
      "cell_type": "code",
      "execution_count": null,
      "metadata": {
        "id": "oeaYwUFFs78I"
      },
      "outputs": [],
      "source": []
    }
  ],
  "metadata": {
    "colab": {
      "provenance": [],
      "include_colab_link": true
    },
    "kernelspec": {
      "display_name": "Python 3",
      "name": "python3"
    },
    "language_info": {
      "name": "python"
    }
  },
  "nbformat": 4,
  "nbformat_minor": 0
}