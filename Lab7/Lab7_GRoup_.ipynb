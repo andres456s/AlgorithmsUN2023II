{
  "nbformat": 4,
  "nbformat_minor": 0,
  "metadata": {
    "colab": {
      "provenance": [],
      "include_colab_link": true
    },
    "kernelspec": {
      "name": "python3",
      "display_name": "Python 3"
    },
    "language_info": {
      "name": "python"
    }
  },
  "cells": [
    {
      "cell_type": "markdown",
      "metadata": {
        "id": "view-in-github",
        "colab_type": "text"
      },
      "source": [
        "<a href=\"https://colab.research.google.com/github/andres456s/AlgorithmsUN2023II/blob/main/Lab7/Lab7_GRoup_.ipynb\" target=\"_parent\"><img src=\"https://colab.research.google.com/assets/colab-badge.svg\" alt=\"Open In Colab\"/></a>"
      ]
    },
    {
      "cell_type": "markdown",
      "source": [
        "#**Punto 1**"
      ],
      "metadata": {
        "id": "a3U_hdvYFRuA"
      }
    },
    {
      "cell_type": "markdown",
      "source": [
        "Algoritmo Gale-Shapley"
      ],
      "metadata": {
        "id": "QKf4HXYwjIi4"
      }
    },
    {
      "cell_type": "code",
      "source": [
        "\n",
        "\n",
        "# This function returns true if\n",
        "# woman 'w' prefers man 'm1' over man 'm'\n",
        "def wPrefersM1OverM(prefer, w, m, m1):\n",
        "\n",
        "    # Check if w prefers m over her\n",
        "    # current engagement m1\n",
        "    for i in range(N):\n",
        "\n",
        "        # If m1 comes before m in list of w,\n",
        "        # then w prefers her current engagement,\n",
        "        # don't do anything\n",
        "        if (prefer[w][i] == m1):\n",
        "            return True\n",
        "\n",
        "        # If m comes before m1 in w's list,\n",
        "        # then free her current engagement\n",
        "        # and engage her with m\n",
        "        if (prefer[w][i] == m):\n",
        "            return False\n",
        "\n",
        "# Prints stable matching for N boys and N girls.\n",
        "# Boys are numbered as 0 to N-1.\n",
        "# Girls are numbered as N to 2N-1.\n",
        "def stableMarriage(prefer):\n",
        "\n",
        "    # Stores partner of women. This is our output\n",
        "    # array that stores passing information.\n",
        "    # The value of wPartner[i] indicates the partner\n",
        "    # assigned to woman N+i. Note that the woman numbers\n",
        "    # between N and 2*N-1. The value -1 indicates\n",
        "    # that (N+i)'th woman is free\n",
        "    wPartner = [-1 for i in range(N)]\n",
        "\n",
        "    # An array to store availability of men.\n",
        "    # If mFree[i] is false, then man 'i' is free,\n",
        "    # otherwise engaged.\n",
        "    mFree = [False for i in range(N)]\n",
        "\n",
        "    freeCount = N\n",
        "\n",
        "    # While there are free men\n",
        "    while (freeCount > 0):\n",
        "\n",
        "        # Pick the first free man (we could pick any)\n",
        "        m = 0\n",
        "        while (m < N):\n",
        "            if (mFree[m] == False):\n",
        "                break\n",
        "            m += 1\n",
        "\n",
        "        # One by one go to all women according to\n",
        "        # m's preferences. Here m is the picked free man\n",
        "        i = 0\n",
        "        while i < N and mFree[m] == False:\n",
        "            w = prefer[m][i]\n",
        "\n",
        "            # The woman of preference is free,\n",
        "            # w and m become partners (Note that\n",
        "            # the partnership maybe changed later).\n",
        "            # So we can say they are engaged not married\n",
        "            if (wPartner[w - N] == -1):\n",
        "                wPartner[w - N] = m\n",
        "                mFree[m] = True\n",
        "                freeCount -= 1\n",
        "\n",
        "            else:\n",
        "\n",
        "                # If w is not free\n",
        "                # Find current engagement of w\n",
        "                m1 = wPartner[w - N]\n",
        "\n",
        "                # If w prefers m over her current engagement m1,\n",
        "                # then break the engagement between w and m1 and\n",
        "                # engage m with w.\n",
        "                if (wPrefersM1OverM(prefer, w, m, m1) == False):\n",
        "                    wPartner[w - N] = m\n",
        "                    mFree[m] = True\n",
        "                    mFree[m1] = False\n",
        "            i += 1\n",
        "\n",
        "            # End of Else\n",
        "        # End of the for loop that goes\n",
        "        # to all women in m's list\n",
        "    # End of main while loop\n",
        "\n",
        "    # Print solution\n",
        "    print(\"Woman \", \" Man\")\n",
        "    for i in range(N):\n",
        "        print(i + N, \"\\t\", wPartner[i])\n",
        "\n",
        "# Driver Code\n",
        "prefer = [[7, 5, 6, 4], [5, 4, 6, 7],\n",
        "          [4, 5, 6, 7], [4, 5, 6, 7],\n",
        "          [0, 1, 2, 3], [0, 1, 2, 3],\n",
        "          [0, 1, 2, 3], [0, 1, 2, 3]]\n",
        "\n",
        "stableMarriage(prefer)\n"
      ],
      "metadata": {
        "id": "TF7gwirbFTVP",
        "colab": {
          "base_uri": "https://localhost:8080/"
        },
        "outputId": "11677d69-0514-42e2-e933-5ee17e9773c2"
      },
      "execution_count": null,
      "outputs": [
        {
          "output_type": "stream",
          "name": "stdout",
          "text": [
            "Woman   Man\n",
            "4 \t 2\n",
            "5 \t 1\n",
            "6 \t 3\n",
            "7 \t 0\n"
          ]
        }
      ]
    },
    {
      "cell_type": "code",
      "source": [
        "import random\n",
        "\n",
        "N = 5\n",
        "\n",
        "menprefer = [random.sample(range(1, N + 1), N) for _ in range(N)]\n",
        "wowmenprefer = [random.sample(range(1, N + 1), N) for _ in range(N)]\n",
        "prefer = menprefer + wowmenprefer\n",
        "\n",
        "print(f\"Gale-Shapley algorithm with N={N}\\n\")\n",
        "print(f\"Preferences array: \\n{menprefer+wowmenprefer}\\n\")\n",
        "stableMarriage(prefer)"
      ],
      "metadata": {
        "colab": {
          "base_uri": "https://localhost:8080/"
        },
        "id": "bIw-a2tecsDj",
        "outputId": "8d1128a1-578f-49c4-9c74-e45c19584c4b"
      },
      "execution_count": null,
      "outputs": [
        {
          "output_type": "stream",
          "name": "stdout",
          "text": [
            "Gale-Shapley algorithm with N=5\n",
            "\n",
            "Preferences array: \n",
            "[[4, 3, 1, 5, 2], [1, 5, 3, 2, 4], [5, 1, 3, 2, 4], [3, 2, 4, 1, 5], [3, 4, 5, 2, 1], [2, 1, 3, 4, 5], [5, 3, 1, 4, 2], [4, 5, 2, 1, 3], [1, 4, 3, 2, 5], [5, 3, 2, 1, 4]]\n",
            "\n",
            "Woman   Man\n",
            "5 \t 2\n",
            "6 \t 1\n",
            "7 \t 0\n",
            "8 \t 3\n",
            "9 \t 4\n"
          ]
        }
      ]
    },
    {
      "cell_type": "code",
      "source": [
        "import random\n",
        "\n",
        "N = 40\n",
        "\n",
        "menprefer = [random.sample(range(1, N + 1), N) for _ in range(N)]\n",
        "wowmenprefer = [random.sample(range(1, N + 1), N) for _ in range(N)]\n",
        "prefer = menprefer + wowmenprefer\n",
        "\n",
        "print(f\"Gale-Shapley algorithm with N={N}\\n\")\n",
        "print(f\"Preferences array: \\n{menprefer+wowmenprefer}\\n\")\n",
        "stableMarriage(prefer)"
      ],
      "metadata": {
        "colab": {
          "base_uri": "https://localhost:8080/"
        },
        "id": "5_-0uA0EihTZ",
        "outputId": "7e8fcbc2-d0e1-46fb-e620-87b73386041d"
      },
      "execution_count": null,
      "outputs": [
        {
          "output_type": "stream",
          "name": "stdout",
          "text": [
            "Gale-Shapley algorithm with N=40\n",
            "\n",
            "Preferences array: \n",
            "[[26, 38, 28, 29, 5, 30, 20, 23, 31, 2, 17, 14, 24, 27, 13, 22, 33, 39, 25, 9, 3, 4, 35, 12, 15, 11, 34, 10, 18, 19, 36, 7, 16, 37, 8, 40, 6, 1, 21, 32], [9, 25, 36, 26, 3, 40, 22, 2, 27, 16, 24, 33, 17, 29, 20, 7, 34, 30, 4, 19, 21, 11, 12, 1, 23, 35, 10, 14, 39, 38, 13, 32, 28, 37, 5, 31, 18, 15, 6, 8], [25, 19, 29, 14, 26, 38, 1, 21, 37, 5, 31, 30, 4, 22, 34, 33, 2, 8, 39, 24, 32, 35, 23, 40, 17, 15, 18, 36, 27, 9, 7, 12, 20, 10, 11, 28, 13, 3, 6, 16], [8, 4, 17, 25, 22, 40, 7, 18, 31, 3, 35, 33, 13, 23, 38, 11, 27, 24, 32, 14, 28, 26, 20, 36, 21, 37, 12, 16, 2, 29, 19, 9, 30, 6, 15, 1, 34, 10, 39, 5], [32, 34, 10, 19, 18, 31, 36, 38, 20, 22, 11, 33, 39, 35, 14, 28, 30, 8, 6, 15, 26, 21, 40, 24, 23, 1, 9, 29, 13, 2, 25, 16, 27, 17, 7, 37, 12, 4, 3, 5], [40, 6, 37, 23, 36, 10, 21, 20, 29, 16, 31, 39, 28, 8, 5, 17, 9, 24, 26, 30, 12, 27, 35, 1, 33, 34, 19, 15, 38, 4, 13, 18, 3, 2, 25, 22, 32, 14, 7, 11], [38, 5, 36, 16, 34, 23, 2, 22, 21, 40, 27, 12, 30, 39, 20, 10, 13, 15, 7, 33, 26, 37, 18, 3, 19, 31, 8, 17, 4, 32, 9, 25, 35, 29, 1, 11, 6, 28, 24, 14], [22, 7, 31, 32, 21, 24, 9, 34, 15, 25, 28, 36, 29, 39, 13, 38, 10, 37, 30, 4, 12, 20, 27, 18, 40, 26, 2, 11, 16, 8, 17, 23, 14, 6, 5, 35, 3, 19, 33, 1], [32, 1, 5, 13, 11, 4, 6, 23, 31, 20, 34, 15, 38, 40, 36, 18, 9, 27, 37, 19, 16, 33, 14, 8, 2, 26, 22, 25, 24, 21, 35, 12, 3, 29, 39, 10, 7, 17, 28, 30], [20, 33, 2, 6, 39, 11, 21, 30, 29, 25, 10, 22, 3, 32, 23, 38, 36, 4, 17, 24, 7, 31, 27, 8, 15, 16, 26, 40, 13, 14, 35, 37, 28, 9, 18, 5, 1, 12, 34, 19], [9, 6, 27, 4, 12, 37, 23, 18, 30, 11, 40, 35, 34, 14, 22, 5, 19, 32, 26, 38, 8, 17, 28, 31, 15, 33, 24, 20, 39, 25, 13, 16, 29, 2, 7, 21, 1, 10, 3, 36], [33, 23, 9, 5, 40, 6, 20, 3, 26, 2, 35, 29, 27, 11, 34, 4, 39, 17, 28, 1, 38, 30, 24, 16, 21, 18, 13, 15, 14, 19, 8, 10, 7, 12, 36, 31, 32, 37, 22, 25], [17, 20, 35, 32, 16, 29, 5, 40, 19, 6, 10, 34, 33, 25, 4, 3, 9, 27, 36, 23, 39, 21, 7, 18, 2, 1, 11, 8, 14, 38, 30, 31, 22, 37, 12, 28, 13, 15, 26, 24], [6, 11, 20, 24, 5, 7, 14, 37, 29, 16, 15, 8, 4, 39, 36, 35, 26, 28, 31, 23, 10, 21, 40, 34, 2, 17, 19, 32, 12, 3, 27, 33, 38, 1, 9, 30, 25, 13, 22, 18], [9, 16, 38, 17, 2, 25, 14, 1, 35, 11, 20, 39, 33, 28, 30, 22, 27, 18, 23, 37, 32, 5, 29, 21, 12, 24, 7, 4, 8, 13, 10, 19, 31, 26, 6, 36, 40, 34, 15, 3], [31, 10, 23, 35, 25, 20, 28, 37, 16, 4, 33, 3, 30, 1, 21, 12, 14, 7, 29, 39, 6, 5, 22, 13, 19, 27, 2, 17, 32, 24, 15, 8, 26, 36, 18, 38, 34, 11, 9, 40], [6, 37, 23, 31, 26, 11, 8, 19, 9, 2, 33, 7, 13, 28, 32, 34, 20, 12, 38, 35, 36, 15, 24, 16, 40, 25, 27, 29, 30, 18, 17, 3, 10, 5, 22, 39, 14, 4, 21, 1], [21, 1, 32, 27, 8, 10, 36, 4, 14, 18, 15, 2, 33, 31, 24, 37, 23, 20, 6, 19, 39, 22, 13, 26, 17, 38, 7, 12, 25, 40, 35, 34, 28, 30, 29, 11, 16, 5, 9, 3], [33, 3, 23, 5, 34, 13, 28, 25, 9, 40, 21, 36, 37, 14, 16, 35, 6, 32, 29, 15, 1, 17, 10, 38, 24, 18, 11, 31, 7, 27, 19, 30, 20, 2, 12, 39, 4, 26, 22, 8], [12, 37, 17, 39, 34, 9, 35, 29, 25, 20, 32, 15, 13, 4, 21, 28, 5, 8, 38, 40, 3, 11, 27, 1, 23, 2, 14, 22, 19, 10, 24, 7, 26, 16, 36, 30, 31, 18, 33, 6], [9, 32, 12, 36, 26, 13, 1, 31, 8, 3, 35, 6, 24, 18, 22, 19, 10, 27, 20, 4, 16, 28, 29, 5, 37, 33, 34, 25, 38, 11, 14, 39, 30, 17, 40, 21, 2, 23, 15, 7], [32, 22, 37, 24, 18, 12, 31, 9, 36, 2, 19, 4, 29, 25, 27, 26, 17, 20, 35, 21, 23, 15, 5, 33, 16, 14, 34, 38, 1, 30, 39, 10, 40, 28, 6, 8, 3, 11, 13, 7], [26, 34, 39, 1, 10, 29, 13, 3, 23, 7, 19, 22, 35, 2, 25, 30, 38, 40, 31, 18, 32, 5, 17, 33, 37, 9, 20, 8, 11, 12, 16, 14, 27, 21, 6, 4, 15, 28, 36, 24], [25, 28, 10, 4, 7, 37, 11, 14, 16, 17, 19, 23, 32, 30, 36, 20, 9, 39, 13, 24, 5, 12, 6, 27, 35, 26, 1, 34, 18, 22, 8, 2, 15, 3, 33, 40, 29, 21, 38, 31], [38, 13, 30, 10, 28, 2, 22, 16, 11, 14, 20, 34, 27, 12, 26, 8, 39, 35, 17, 9, 15, 19, 5, 29, 6, 31, 36, 18, 21, 32, 4, 3, 7, 40, 33, 24, 37, 25, 23, 1], [22, 36, 28, 8, 5, 34, 29, 12, 10, 4, 18, 24, 32, 9, 31, 3, 13, 19, 35, 25, 20, 7, 11, 1, 40, 6, 33, 15, 27, 2, 30, 23, 39, 14, 16, 37, 38, 17, 26, 21], [35, 7, 21, 1, 27, 24, 14, 39, 15, 28, 38, 26, 16, 3, 25, 17, 18, 36, 9, 31, 37, 19, 32, 2, 20, 40, 12, 11, 33, 22, 29, 23, 8, 10, 5, 6, 4, 13, 34, 30], [34, 30, 25, 18, 21, 23, 24, 39, 15, 2, 4, 3, 38, 33, 10, 35, 32, 12, 22, 37, 13, 20, 9, 14, 27, 7, 16, 31, 6, 28, 29, 5, 1, 40, 19, 11, 36, 26, 17, 8], [6, 19, 38, 18, 17, 5, 8, 2, 15, 29, 36, 35, 11, 9, 1, 30, 32, 24, 37, 7, 21, 22, 10, 4, 26, 39, 33, 16, 34, 31, 13, 28, 20, 23, 12, 3, 40, 25, 27, 14], [38, 30, 28, 4, 27, 32, 9, 29, 24, 26, 15, 25, 8, 34, 3, 2, 10, 1, 6, 12, 7, 22, 31, 33, 23, 39, 11, 21, 36, 14, 16, 19, 35, 5, 37, 20, 17, 18, 13, 40], [27, 6, 22, 1, 5, 30, 35, 7, 31, 11, 19, 38, 17, 2, 15, 10, 3, 16, 33, 26, 32, 9, 36, 8, 25, 4, 39, 37, 21, 18, 20, 34, 29, 23, 12, 28, 13, 40, 24, 14], [9, 30, 38, 34, 6, 36, 37, 5, 1, 13, 2, 11, 24, 40, 33, 27, 20, 29, 25, 7, 18, 17, 4, 16, 19, 31, 10, 14, 28, 3, 32, 12, 39, 23, 26, 22, 8, 21, 35, 15], [17, 3, 32, 24, 9, 5, 20, 37, 29, 38, 28, 14, 25, 16, 27, 21, 7, 39, 4, 1, 35, 15, 18, 23, 19, 36, 40, 34, 26, 10, 13, 11, 22, 12, 33, 6, 2, 31, 8, 30], [15, 10, 39, 37, 16, 5, 35, 24, 14, 32, 36, 2, 34, 17, 6, 21, 19, 23, 12, 13, 18, 9, 29, 28, 1, 3, 33, 7, 20, 40, 11, 38, 27, 26, 8, 4, 30, 31, 25, 22], [35, 6, 19, 10, 22, 2, 33, 36, 32, 16, 11, 1, 29, 12, 15, 3, 18, 25, 4, 37, 27, 13, 23, 40, 24, 28, 17, 7, 14, 26, 38, 31, 30, 9, 21, 5, 8, 20, 34, 39], [16, 2, 5, 31, 7, 28, 24, 23, 11, 13, 12, 18, 34, 26, 40, 37, 29, 17, 6, 25, 14, 4, 10, 39, 32, 20, 1, 15, 19, 8, 22, 9, 21, 33, 36, 30, 27, 35, 38, 3], [21, 28, 13, 19, 35, 36, 33, 7, 3, 38, 2, 40, 14, 26, 24, 11, 39, 6, 18, 20, 9, 8, 32, 5, 17, 27, 22, 23, 16, 29, 10, 12, 31, 25, 37, 30, 4, 34, 15, 1], [2, 29, 13, 35, 5, 8, 21, 23, 19, 3, 18, 31, 37, 36, 9, 22, 7, 38, 27, 28, 34, 12, 11, 33, 17, 30, 40, 32, 24, 26, 14, 15, 39, 16, 10, 6, 1, 20, 4, 25], [30, 24, 35, 31, 28, 34, 29, 11, 8, 12, 20, 36, 7, 40, 6, 22, 39, 33, 21, 37, 18, 23, 3, 14, 9, 17, 27, 10, 16, 2, 32, 15, 25, 1, 4, 19, 5, 26, 38, 13], [24, 7, 8, 1, 13, 32, 40, 23, 26, 22, 11, 38, 5, 16, 18, 29, 3, 31, 15, 28, 39, 33, 20, 19, 34, 14, 21, 30, 6, 12, 27, 25, 37, 9, 35, 10, 17, 36, 2, 4], [29, 1, 12, 35, 39, 26, 18, 21, 40, 37, 32, 30, 28, 8, 4, 9, 11, 33, 27, 22, 23, 34, 6, 16, 7, 3, 24, 2, 10, 38, 20, 19, 31, 13, 25, 14, 15, 36, 17, 5], [13, 31, 14, 17, 2, 12, 3, 9, 29, 6, 27, 19, 5, 11, 32, 39, 23, 7, 36, 4, 33, 35, 22, 28, 38, 8, 10, 20, 40, 21, 1, 24, 16, 25, 15, 30, 26, 37, 34, 18], [25, 2, 27, 31, 37, 17, 22, 12, 10, 13, 6, 21, 11, 26, 28, 38, 1, 19, 36, 18, 3, 14, 7, 35, 23, 8, 40, 39, 34, 16, 20, 32, 29, 9, 15, 24, 4, 5, 30, 33], [25, 17, 9, 3, 6, 12, 28, 29, 23, 34, 2, 26, 40, 8, 36, 31, 22, 27, 7, 30, 20, 24, 14, 18, 13, 10, 4, 38, 21, 1, 5, 11, 37, 15, 39, 16, 35, 19, 32, 33], [11, 14, 18, 31, 39, 30, 28, 36, 2, 16, 33, 27, 37, 19, 20, 9, 29, 4, 35, 23, 3, 6, 13, 32, 21, 10, 24, 1, 26, 40, 8, 22, 38, 34, 12, 15, 25, 17, 7, 5], [8, 40, 1, 20, 39, 7, 28, 18, 12, 26, 38, 3, 2, 11, 23, 6, 9, 35, 16, 31, 5, 10, 32, 34, 13, 17, 19, 15, 33, 24, 4, 27, 14, 30, 22, 36, 29, 21, 25, 37], [9, 11, 24, 29, 6, 8, 12, 1, 14, 37, 32, 25, 22, 4, 28, 5, 33, 3, 39, 13, 40, 31, 38, 10, 18, 26, 16, 36, 21, 17, 7, 15, 34, 27, 23, 20, 19, 30, 35, 2], [25, 10, 22, 19, 9, 24, 13, 15, 33, 17, 39, 21, 3, 16, 12, 18, 36, 26, 4, 35, 5, 8, 40, 30, 28, 23, 32, 6, 1, 31, 34, 38, 29, 37, 11, 14, 2, 20, 27, 7], [38, 16, 24, 28, 18, 35, 27, 37, 31, 22, 25, 21, 39, 20, 36, 1, 30, 17, 2, 26, 34, 15, 40, 4, 3, 10, 13, 32, 19, 6, 11, 14, 8, 5, 7, 29, 12, 9, 33, 23], [10, 8, 33, 34, 2, 3, 6, 5, 23, 16, 24, 11, 12, 1, 22, 35, 7, 37, 14, 15, 38, 39, 28, 27, 29, 4, 40, 19, 31, 30, 21, 32, 17, 26, 36, 9, 18, 25, 20, 13], [31, 27, 37, 7, 11, 32, 20, 22, 25, 5, 10, 34, 14, 24, 39, 33, 13, 8, 1, 3, 16, 38, 2, 19, 21, 35, 4, 36, 12, 26, 30, 9, 23, 40, 17, 29, 18, 6, 15, 28], [30, 3, 7, 15, 14, 24, 20, 10, 17, 1, 13, 28, 25, 39, 34, 32, 16, 5, 38, 31, 23, 26, 27, 18, 21, 35, 29, 6, 4, 12, 37, 40, 11, 19, 9, 22, 2, 8, 36, 33], [2, 30, 17, 14, 16, 35, 37, 6, 9, 22, 23, 8, 15, 25, 34, 21, 18, 11, 39, 27, 28, 36, 19, 38, 3, 12, 26, 29, 13, 4, 31, 5, 33, 1, 10, 24, 40, 20, 32, 7], [30, 12, 23, 22, 25, 35, 38, 7, 5, 33, 20, 28, 8, 6, 24, 9, 39, 16, 36, 17, 32, 13, 21, 1, 34, 18, 40, 27, 3, 14, 31, 29, 26, 19, 10, 11, 15, 37, 4, 2], [12, 4, 26, 1, 40, 18, 14, 36, 13, 10, 8, 9, 37, 17, 38, 16, 33, 19, 11, 29, 7, 39, 20, 21, 27, 3, 15, 35, 28, 31, 30, 24, 6, 25, 32, 22, 23, 2, 5, 34], [17, 9, 27, 18, 21, 12, 10, 2, 25, 30, 6, 3, 36, 7, 11, 33, 31, 14, 40, 15, 23, 29, 20, 13, 39, 28, 37, 32, 1, 35, 4, 19, 8, 22, 5, 24, 34, 16, 26, 38], [13, 33, 17, 7, 22, 15, 25, 2, 26, 23, 5, 30, 18, 9, 37, 12, 39, 29, 6, 20, 3, 28, 31, 16, 38, 40, 21, 35, 4, 10, 32, 8, 1, 27, 11, 34, 14, 36, 24, 19], [32, 15, 6, 40, 23, 36, 18, 5, 16, 34, 1, 29, 38, 31, 19, 11, 20, 17, 2, 9, 22, 7, 25, 14, 33, 12, 26, 28, 10, 13, 37, 35, 30, 3, 4, 39, 21, 8, 24, 27], [7, 32, 9, 33, 17, 5, 25, 21, 12, 31, 39, 30, 37, 35, 27, 38, 13, 18, 40, 10, 22, 36, 1, 8, 16, 23, 20, 6, 24, 15, 19, 14, 29, 34, 11, 26, 28, 4, 2, 3], [30, 39, 14, 18, 34, 36, 38, 19, 13, 24, 33, 40, 26, 22, 17, 20, 27, 28, 2, 3, 5, 31, 7, 32, 1, 37, 23, 35, 25, 10, 21, 11, 6, 4, 9, 12, 16, 8, 29, 15], [18, 26, 12, 34, 30, 38, 3, 2, 20, 39, 10, 5, 14, 15, 1, 8, 21, 4, 24, 25, 40, 13, 28, 31, 9, 11, 22, 36, 35, 27, 37, 19, 17, 33, 16, 7, 32, 29, 23, 6], [8, 2, 3, 34, 21, 20, 24, 40, 13, 9, 25, 22, 28, 18, 37, 23, 17, 27, 5, 7, 16, 1, 10, 14, 35, 12, 6, 19, 15, 30, 11, 4, 36, 38, 33, 31, 39, 32, 29, 26], [16, 35, 7, 14, 12, 13, 17, 37, 1, 36, 4, 8, 27, 32, 24, 30, 33, 19, 38, 2, 10, 18, 34, 31, 22, 3, 20, 9, 29, 11, 28, 39, 21, 25, 23, 15, 6, 5, 40, 26], [16, 23, 31, 33, 26, 37, 13, 6, 22, 18, 1, 34, 38, 11, 10, 14, 2, 24, 3, 40, 7, 12, 9, 19, 35, 36, 28, 39, 8, 21, 25, 5, 20, 4, 27, 30, 17, 32, 15, 29], [37, 5, 33, 13, 14, 30, 28, 11, 6, 29, 7, 1, 15, 21, 25, 32, 18, 3, 31, 16, 34, 8, 36, 26, 38, 9, 35, 10, 17, 20, 27, 39, 23, 19, 22, 24, 4, 2, 40, 12], [33, 19, 22, 37, 3, 27, 26, 2, 28, 15, 38, 25, 7, 1, 34, 6, 29, 20, 12, 13, 9, 4, 35, 21, 40, 36, 23, 5, 17, 39, 16, 8, 32, 30, 18, 31, 10, 14, 24, 11], [30, 38, 32, 13, 31, 10, 26, 11, 18, 37, 6, 39, 3, 20, 4, 34, 14, 27, 9, 2, 40, 35, 21, 29, 1, 5, 12, 19, 16, 24, 7, 36, 8, 28, 17, 15, 23, 33, 22, 25], [17, 2, 23, 3, 37, 32, 33, 39, 21, 36, 16, 28, 5, 27, 11, 35, 15, 12, 25, 10, 18, 13, 24, 14, 4, 38, 31, 7, 8, 40, 6, 22, 30, 9, 1, 20, 19, 34, 26, 29], [7, 23, 13, 38, 36, 37, 21, 22, 11, 25, 5, 8, 34, 29, 33, 15, 31, 1, 20, 6, 14, 40, 3, 9, 4, 12, 35, 19, 39, 17, 18, 27, 26, 24, 32, 28, 30, 16, 2, 10], [33, 26, 12, 2, 15, 32, 1, 35, 40, 37, 18, 29, 11, 21, 28, 20, 22, 4, 7, 36, 24, 25, 17, 23, 10, 31, 5, 13, 3, 27, 6, 30, 14, 19, 38, 8, 9, 39, 34, 16], [34, 24, 19, 9, 15, 22, 11, 28, 25, 18, 4, 23, 8, 5, 3, 26, 20, 33, 13, 7, 39, 1, 29, 17, 37, 21, 12, 36, 10, 2, 32, 16, 27, 6, 35, 38, 40, 14, 30, 31], [6, 37, 5, 9, 38, 32, 40, 31, 21, 23, 28, 2, 13, 39, 15, 33, 17, 1, 26, 22, 36, 34, 14, 16, 12, 27, 7, 3, 10, 24, 29, 20, 4, 11, 25, 8, 30, 19, 18, 35], [23, 1, 22, 13, 24, 21, 16, 9, 5, 12, 31, 29, 3, 20, 17, 38, 37, 25, 14, 26, 27, 7, 8, 11, 19, 18, 39, 10, 15, 32, 40, 35, 30, 33, 34, 28, 2, 6, 4, 36], [38, 26, 18, 5, 6, 19, 31, 27, 4, 10, 35, 22, 32, 37, 30, 24, 1, 17, 16, 14, 20, 28, 15, 8, 7, 9, 11, 29, 25, 12, 21, 40, 13, 34, 36, 23, 2, 39, 3, 33], [26, 18, 5, 12, 16, 25, 30, 29, 1, 38, 31, 32, 37, 3, 33, 24, 15, 39, 10, 35, 2, 23, 28, 36, 21, 8, 17, 6, 7, 13, 14, 20, 22, 4, 34, 9, 27, 11, 19, 40], [38, 17, 29, 14, 36, 39, 32, 5, 13, 22, 4, 16, 1, 31, 30, 19, 8, 40, 24, 28, 37, 33, 34, 2, 9, 23, 6, 20, 25, 35, 26, 11, 7, 27, 18, 21, 3, 12, 15, 10], [40, 5, 3, 22, 31, 29, 37, 7, 4, 10, 19, 30, 32, 11, 39, 1, 33, 23, 27, 20, 13, 2, 17, 15, 36, 12, 9, 16, 25, 38, 26, 18, 24, 35, 14, 28, 34, 6, 21, 8], [38, 24, 29, 2, 18, 8, 28, 5, 3, 37, 35, 7, 23, 11, 27, 20, 17, 26, 13, 25, 9, 15, 6, 21, 31, 40, 30, 33, 32, 39, 19, 4, 12, 1, 36, 34, 10, 14, 16, 22], [30, 39, 35, 22, 3, 38, 33, 40, 13, 1, 10, 8, 16, 12, 7, 11, 5, 28, 4, 27, 18, 14, 15, 21, 23, 32, 36, 31, 24, 29, 9, 26, 20, 19, 6, 37, 34, 25, 17, 2], [38, 27, 25, 1, 3, 34, 7, 21, 5, 9, 39, 12, 36, 17, 32, 16, 2, 15, 23, 33, 22, 31, 40, 19, 30, 6, 18, 20, 35, 29, 26, 10, 24, 11, 14, 37, 28, 13, 8, 4]]\n",
            "\n",
            "Woman   Man\n",
            "40 \t 39\n",
            "41 \t 26\n",
            "42 \t 14\n",
            "43 \t 0\n",
            "44 \t 10\n",
            "45 \t 6\n",
            "46 \t 5\n",
            "47 \t 7\n",
            "48 \t 25\n",
            "49 \t 20\n",
            "50 \t 4\n",
            "51 \t 23\n",
            "52 \t 35\n",
            "53 \t 37\n",
            "54 \t 2\n",
            "55 \t 33\n",
            "56 \t 8\n",
            "57 \t 32\n",
            "58 \t 28\n",
            "59 \t 34\n",
            "60 \t 9\n",
            "61 \t 36\n",
            "62 \t 3\n",
            "63 \t 11\n",
            "64 \t 38\n",
            "65 \t 31\n",
            "66 \t 1\n",
            "67 \t 30\n",
            "68 \t 15\n",
            "69 \t 29\n",
            "70 \t 27\n",
            "71 \t 16\n",
            "72 \t 17\n",
            "73 \t 18\n",
            "74 \t 22\n",
            "75 \t 12\n",
            "76 \t 21\n",
            "77 \t 13\n",
            "78 \t 24\n",
            "79 \t 19\n"
          ]
        }
      ]
    },
    {
      "cell_type": "markdown",
      "source": [
        "Algoritmo Irving"
      ],
      "metadata": {
        "id": "MFmNSzK1jJ1m"
      }
    },
    {
      "cell_type": "code",
      "source": [
        "#Code from https://github.com/szhangbi\n",
        "\n",
        "import numpy as np\n",
        "# import pandas as pd\n",
        "import random\n",
        "# import copy\n",
        "import matplotlib.pyplot as plt\n",
        "# import csv\n",
        "\n",
        "ENABLE_PRINT = 0\n",
        "DETAILED_ENABLE_PRINT=0\n",
        "#convert the preference matrix into ranking matrix\n",
        "def get_ranking(preference):\n",
        "    ranking = np.zeros(preference.shape,dtype=int)\n",
        "    for row in range(0,len(preference[:,0])):\n",
        "        for col in range(0,len(preference[0,:])):\n",
        "            ranking[row,col]=list(preference[row,:]).index(col)\n",
        "    return ranking\n",
        "\n",
        "\n",
        "def phaseI_reduction(preference, leftmost, rightmost, ranking):\n",
        "    ## leftmost and rightmost is updated here\n",
        "    set_proposed_to=set() ## this set contains the players who has been proposed to and holds someone\n",
        "    for person in range(0,len((preference[0,:]))):\n",
        "        proposer = person\n",
        "        while True:\n",
        "            next_choice = preference[proposer,leftmost[proposer]]\n",
        "            current = preference[next_choice,rightmost[next_choice]]\n",
        "\n",
        "            while ranking[next_choice,proposer]> ranking[next_choice,current]:\n",
        "                ## proposer proposed to his next choice but being rejected\n",
        "                if ENABLE_PRINT and DETAILED_ENABLE_PRINT: print(\"player\", proposer+1, \"proposed to\", next_choice+1, \"; \", next_choice+1, \"rejects\", proposer+1 )\n",
        "                leftmost[proposer] = leftmost[proposer] + 1 ##proposer's preference list got reduced by 1 from the left\n",
        "                next_choice = preference[proposer, leftmost[proposer]]\n",
        "                current = preference[next_choice, rightmost[next_choice]]\n",
        "\n",
        "            ## proposer being accepted by his next choice and next choice rejected his current partner\n",
        "            if current!= next_choice: ##if next choice currently holds somebody\n",
        "                if ENABLE_PRINT and DETAILED_ENABLE_PRINT: print(\"player\", proposer + 1, \"proposed to\", next_choice + 1,\"; \",next_choice + 1, \"rejects\", current + 1, \" and holds\", proposer+1 )\n",
        "                leftmost[current]=leftmost[current]+1\n",
        "            else: ##if next choice currently holds no body\n",
        "                if ENABLE_PRINT and DETAILED_ENABLE_PRINT: print(\"player\", proposer + 1, \"proposed to\", next_choice+1, \"; \", next_choice+1, \"holds\", proposer+1)\n",
        "\n",
        "            rightmost[next_choice] = ranking[next_choice, proposer] ##next choice's preference's list got reduced, rightmost is proposer now\n",
        "\n",
        "            if not (next_choice in set_proposed_to): ##if no one is rejected <=> next choice has not been proposed before proposer proposed\n",
        "                break\n",
        "            proposer = current ##the one who being rejected is the next proposer\n",
        "        set_proposed_to.add(next_choice)\n",
        "\n",
        "    soln_possible = not (proposer==next_choice)\n",
        "    ##Claim1: if there is a player i who is rejected by all, then he must be the last proposer in the loop\n",
        "    ##Proof: bc if someone who has not proposed anyone, then there must be at least 1 person besides player i who holds nobody\n",
        "    ##This fact is used to decide whether the solution exists or not\n",
        "\n",
        "    #if soln_possible:\n",
        "    if ENABLE_PRINT:  print(\"The table after phase-I execution is:\")\n",
        "    if ENABLE_PRINT:  friendly_print_current_table(preference, leftmost, rightmost)\n",
        "    return soln_possible, leftmost, rightmost\n",
        "\n",
        "def get_all_unmatched(leftmost, rightmost):\n",
        "    unmatched_players = []\n",
        "    for person in range(0, len(leftmost)):\n",
        "        if leftmost[person] != rightmost[person]:\n",
        "            if ENABLE_PRINT and DETAILED_ENABLE_PRINT: print(person + 1, \"is unmatched\")\n",
        "            unmatched_players.append(person)\n",
        "    return unmatched_players\n",
        "\n",
        "\n",
        "def update_second2(person,preference, second, leftmost, rightmost, ranking):\n",
        "    second[person]=leftmost[person]+1 #before updation, second is simply leftmost +1\n",
        "    pos_in_list = second[person]\n",
        "    while True:  # a sophisticated way to update the second choice, as some person between leftmost and rightmost might be dropped as well\n",
        "        next_choice = preference[person, pos_in_list]\n",
        "        pos_in_list += 1\n",
        "        if ranking[next_choice, person] <= rightmost[next_choice]:  # check whether person is still in next_choice's reduced list <=> next_choice is still in his list\n",
        "            second[person] = pos_in_list -1\n",
        "            return next_choice, second\n",
        "\n",
        "\n",
        "##Claim2: if a person whose reduced list contains only one person, he shall not appear in the cycle?\n",
        "##Proof: Assume person i's list only contains one person j, -> j holds i's proposal after the reduction\n",
        "# if there is l behind i in j's list, he must be deleted from i's list\n",
        "# if there is k before i in j's list, then j's proposal must be accepted by someone a other than i, a's proposal must be accepted by someone b other than i,j,\n",
        "#   b's proposal must be accepted by someone c other than a,i,j ... since there is only finite players, contradiction\n",
        "#->i is the only person in j's reduced list -> i,j won't be found by find_unmatched and won't be someone's last choice or second choice\n",
        "\n",
        "##Claim3: if a person whose reduced list contains more than one person, he must appear in the cycle?\n",
        "##Proof: False. Duplicate the preference matrix in the paper with each number +6, and put the last six person at the end of the list of the first six person,\n",
        "# and put the first six person at the end of the list of the last six person\n",
        "\n",
        "\n",
        "##This fact means that we only need to initialize cycle once and loop to reduce the element of it\n",
        "\n",
        "\n",
        "def seek_cycle2(preference, second,  first_unmatched, leftmost, rightmost, ranking):\n",
        "    #tail= set()\n",
        "    #print(\"I am in seek_cycle2\")\n",
        "    cycle =[]\n",
        "    posn_in_cycle = 0\n",
        "    person = first_unmatched\n",
        "    if ENABLE_PRINT and DETAILED_ENABLE_PRINT: print(\"p_\",posn_in_cycle+1,\":\",person+1)\n",
        "\n",
        "    while not (person in cycle): ##loop until the first repeat\n",
        "        cycle.append(person)\n",
        "        posn_in_cycle+=1\n",
        "        next_choice, second = update_second2(person,preference, second, leftmost, rightmost, ranking)\n",
        "        if ENABLE_PRINT and DETAILED_ENABLE_PRINT: print(\"q_\",posn_in_cycle,\":\",next_choice+1)\n",
        "        person = preference[next_choice,rightmost[next_choice]]\n",
        "        if ENABLE_PRINT and DETAILED_ENABLE_PRINT: print(\"p_\",posn_in_cycle+1,\":\",person+1)\n",
        "    #after this loop, person is the one who repeats first\n",
        "\n",
        "    last_in_cycle= posn_in_cycle-1 #position of the last one in cycle in the \"cycle\" list\n",
        "    #tail = set(cycle) #using the set object in Python, we don't need cycle_set\n",
        "    while True: #this is used to find the head of the cycle and its position in the \"cycle\" list\n",
        "        posn_in_cycle = posn_in_cycle - 1\n",
        "        #tail = tail.remove(cycle[posn_in_cycle])\n",
        "        if cycle[posn_in_cycle]==person: #loop until we get the person who repeat first\n",
        "            first_in_cycle = posn_in_cycle\n",
        "            break\n",
        "    #print(\"!!!\",first_in_cycle,last_in_cycle)\n",
        "    #print(\"I am out of seek_cycle2 now\")\n",
        "    friendly_print_rotation(cycle, first_in_cycle, last_in_cycle, preference, leftmost, second)\n",
        "    return first_in_cycle, last_in_cycle, cycle, second\n",
        "\n",
        "\n",
        "\n",
        "def phaseII_reduction2(preference, first_in_cycle, last_in_cycle, second, leftmost, rightmost,  soln_possible, cycle):\n",
        "    #print(\"I am in phase ii reduction2\")\n",
        "    #print(\"input is:\")\n",
        "    #print([ leftmost, rightmost, second])\n",
        "    for rank in range(first_in_cycle, last_in_cycle+1):\n",
        "        proposer = cycle[rank]\n",
        "        leftmost[proposer] = second[proposer]\n",
        "        second[proposer] = leftmost[proposer]+1 #it is mentioned that proper initialization is unnecessary\n",
        "        next_choice = preference[proposer,leftmost[proposer]]\n",
        "        if ENABLE_PRINT and DETAILED_ENABLE_PRINT: print(proposer+1, \"proposed to his second choice in the reduced list:\", next_choice+1, \";\", next_choice+1,\"accepted \", proposer+1, \"and rejected\", preference[next_choice,rightmost[next_choice]]+1 )\n",
        "        rightmost[next_choice] = get_ranking(preference)[next_choice,proposer]\n",
        "    #print([leftmost, rightmost, second])\n",
        "    #To check whether stable matching exists or not#\n",
        "    rank = first_in_cycle\n",
        "    while (rank <= last_in_cycle) and soln_possible:\n",
        "        proposer = cycle[rank]\n",
        "        soln_possible = leftmost[proposer] <= rightmost[proposer]\n",
        "        rank+=1\n",
        "    if not soln_possible:\n",
        "        if ENABLE_PRINT: print(\"No stable matching exists!!!\")\n",
        "        return soln_possible, first_in_cycle, last_in_cycle, second.copy(), leftmost.copy(), rightmost.copy(),  cycle\n",
        "\n",
        "    #A special step to handle the case of more than one cycle, seems not contained in the code in paper#\n",
        "    for person in range(first_in_cycle, last_in_cycle):\n",
        "        if leftmost[cycle[first_in_cycle]] != rightmost[cycle[first_in_cycle]]:\n",
        "            to_print =np.array(cycle[first_in_cycle:last_in_cycle + 1])+1\n",
        "            if ENABLE_PRINT and DETAILED_ENABLE_PRINT: print(\"E=\",to_print, \"is still unmatched\")\n",
        "            if ENABLE_PRINT: print(\"The table after rotation elimination is:\")\n",
        "            if ENABLE_PRINT:  friendly_print_current_table(preference, leftmost, rightmost)\n",
        "            return soln_possible, first_in_cycle,  last_in_cycle,  second.copy(), leftmost.copy(), rightmost.copy(),  cycle\n",
        "    to_print = np.array(cycle[first_in_cycle:last_in_cycle + 1]) + 1\n",
        "    if ENABLE_PRINT and DETAILED_ENABLE_PRINT: print(\"E=\",to_print, \"is all  matched\")\n",
        "    first_in_cycle=0\n",
        "\n",
        "    #print(\"I am out of phase II reduction2 now\")\n",
        "    if ENABLE_PRINT: print(\"The table after rotation elimination is:\")\n",
        "    if ENABLE_PRINT:  friendly_print_current_table(preference, leftmost, rightmost)\n",
        "    return soln_possible, first_in_cycle, last_in_cycle, second.copy(), leftmost.copy(), rightmost.copy(),  cycle\n",
        "\n",
        "def friendly_print_current_table(preference, leftmost, rightmost):\n",
        "    for person in range(0,len(preference)):\n",
        "        to_print = []\n",
        "        for entry in range(leftmost[person],rightmost[person]+1):\n",
        "            if get_ranking(preference)[preference[person, entry],person]<=rightmost[preference[person,entry]]:\n",
        "                to_print.append(preference[person,entry])\n",
        "        to_print=np.array(to_print)\n",
        "        print(person+1,\"|\",to_print+1)\n",
        "\n",
        "def friendly_print_rotation(cycle,first_in_cycle,last_in_cycle, preference,leftmost,second):\n",
        "    print(\"The rotation exposed is:\")\n",
        "    print(\"E| H S\")\n",
        "    for person in range(first_in_cycle,last_in_cycle+1):\n",
        "        print(\"{0}| {1} {2}\".format(cycle[person]+1,preference[cycle[person],leftmost[cycle[person]]]+1,preference[cycle[person],second[cycle[person]]]+1))\n",
        "\n",
        "def friendly_print_sol(partners):\n",
        "    seen = []\n",
        "    pairs=[]\n",
        "    to_print = []\n",
        "    for sol in partners:\n",
        "        for people in range(0, len(sol)):\n",
        "            if people not in seen:\n",
        "                seen.append(people)\n",
        "                pairs.append((people+1,sol[people]+1))\n",
        "                seen.append(sol[people])\n",
        "        to_print.append(pairs)\n",
        "        pairs = []\n",
        "        seen=[]\n",
        "    return to_print\n",
        "\n",
        "\n",
        "def Find_all_Irving_partner(preference):\n",
        "\n",
        "    ranking = get_ranking(preference)\n",
        "    leftmost = np.zeros(len(preference[0, :]), dtype=int) #leftmost indicates the position of the person who holds i's proposal\n",
        "    second = np.zeros(len(preference[0, :]), dtype=int) + 1\n",
        "    rightmost = np.zeros(len(preference[0, :]), dtype=int) + len(preference[0,:]) - 1 #rightmost indicates the position of the person whose proposal i holds\n",
        "    partner = np.zeros(len(preference[0, :]), dtype=int)\n",
        "    soln_possible = False\n",
        "    first_unmatched = 1\n",
        "    first_in_cycle = 0\n",
        "    last_in_cycle = 0\n",
        "    cycle=[]\n",
        "    partners = []\n",
        "    soln_found = False\n",
        "\n",
        "    if ENABLE_PRINT: print(\"The preference lists are:\")\n",
        "    if ENABLE_PRINT: print(preference+1)\n",
        "\n",
        "\n",
        "    soln_possible, leftmost, rightmost = phaseI_reduction(preference, leftmost, rightmost, ranking)\n",
        "    if not soln_possible:\n",
        "        if ENABLE_PRINT: print(\"No stable matching exists!!\")\n",
        "        return partners\n",
        "    second = leftmost + 1\n",
        "\n",
        "\n",
        "\n",
        "    seen = []\n",
        "    queue =[]\n",
        "    qlfmost =leftmost.copy()\n",
        "    qrtmost = rightmost.copy()\n",
        "    qsecond = second.copy()\n",
        "    seen.append([qlfmost,qrtmost, qsecond])\n",
        "    queue.append([qlfmost,qrtmost, qsecond])\n",
        "    while queue:\n",
        "        [qlfmost, qrtmost, qsecond] = queue.pop(0)\n",
        "\n",
        "        unmatched = get_all_unmatched(qlfmost, qrtmost)\n",
        "        if unmatched:\n",
        "            # if ENABLE_PRINT: print(\"The tripple is:\")\n",
        "            # if ENABLE_PRINT: print([qlfmost, qrtmost, qsecond])\n",
        "            # if ENABLE_PRINT: print(\"it is unmatched yet!\")\n",
        "            for person in unmatched:\n",
        "                if ENABLE_PRINT: print(\"person is:\", person+1)\n",
        "                #print(\"before skcycle:\",[qlfmost, qrtmost, qsecond])\n",
        "                first_in_cycle, last_in_cycle, cycle, cursecond = seek_cycle2(preference, qsecond.copy(), person, qlfmost.copy(), qrtmost.copy(), ranking)\n",
        "                #print(\"after skcycle:\", [qlfmost, qrtmost, qsecond])\n",
        "                soln_possible, first_in_cycle, last_in_cycle, cursecond,  curlfmost,  currtmost, cycle = phaseII_reduction2(preference, first_in_cycle, last_in_cycle, cursecond.copy(), qlfmost.copy(), qrtmost.copy(), soln_possible, cycle)\n",
        "                #print(\"The tripple is:\")\n",
        "                #print([curlfmost, currtmost, cursecond])\n",
        "                curtripple = [curlfmost, currtmost, cursecond]\n",
        "                if not any(all((pref1==pref2).all() for pref1, pref2 in zip(curtripple,tripple)) for tripple in seen) and soln_possible:\n",
        "                    # if ENABLE_PRINT: print(\"The new tripple is:\")\n",
        "                    # if ENABLE_PRINT: print([curlfmost, currtmost, cursecond])\n",
        "                    # if ENABLE_PRINT: print(\"it is added to the queue\")\n",
        "                    seen.append([curlfmost, currtmost, cursecond])\n",
        "                    queue.append([curlfmost, currtmost, cursecond])\n",
        "                #print(\"after phase ii:\", [qlfmost, qrtmost, qsecond])\n",
        "        else:\n",
        "            # if ENABLE_PRINT: print(\"The tripple is:\")\n",
        "            # if ENABLE_PRINT: print([qlfmost, qrtmost, qsecond])\n",
        "            # if ENABLE_PRINT: print(\"it is matched already!\")\n",
        "            partner = np.zeros(len(preference[0, :]), dtype=int)\n",
        "            for person in range(0, len(qlfmost)):\n",
        "                partner[person] = preference[person, qlfmost[person]]\n",
        "            if not any(partner.tolist() == p for p in partners):\n",
        "                partners.append(partner.tolist())\n",
        "\n",
        "            to_print = friendly_print_sol(partners)\n",
        "\n",
        "\n",
        "    if ENABLE_PRINT: print(\"The solution is: \", to_print)\n",
        "    return partners\n",
        "\n",
        "\n",
        "\n",
        "def gen_random_preference(SIZE = 4):\n",
        "    preference = np.zeros((SIZE,SIZE), dtype=int)\n",
        "    for i in range(0,SIZE):\n",
        "        preference[i,0:SIZE-1]= random.sample([j for j in range(0,SIZE) if j != i ],SIZE-1)\n",
        "        preference[i,SIZE-1] = i\n",
        "    return preference\n",
        "\n",
        "\n"
      ],
      "metadata": {
        "id": "MeFtAeUZr_d0"
      },
      "execution_count": null,
      "outputs": []
    },
    {
      "cell_type": "code",
      "source": [
        "import random\n",
        "import json\n",
        "\n",
        "N = 4\n",
        "\n",
        "#menprefer = [[random.sample(range(1, N + 1), N)].extend([5, 6, 7, 8]) for _ in range(N)]\n",
        "prefer = []\n",
        "\n",
        "for i in range(2*N):\n",
        "  #m=random.sample(range(1, 2*N + 1), N)\n",
        "  m=random.sample(range(1, 2*N + 1), 2*N)\n",
        "  m.remove(i+1)\n",
        "  m.append(i+1)\n",
        "  prefer.append(m)\n",
        "\n",
        "\n",
        "\n",
        "problem = json.dumps(prefer)\n",
        "#print(problem)\n",
        "\n",
        "preferences = np.array(eval(problem))-1\n",
        "#print(preferences)\n",
        "ENABLE_PRINT = 1\n",
        "Find_all_Irving_partner(preferences)\n",
        "\n"
      ],
      "metadata": {
        "colab": {
          "base_uri": "https://localhost:8080/"
        },
        "id": "lRLj-uC0sOWu",
        "outputId": "620f5132-dd35-401a-d6e6-f8ac048a8b21"
      },
      "execution_count": null,
      "outputs": [
        {
          "output_type": "stream",
          "name": "stdout",
          "text": [
            "The preference lists are:\n",
            "[[3 7 2 5 8 4 6 1]\n",
            " [6 1 4 5 7 3 8 2]\n",
            " [4 1 8 6 7 5 2 3]\n",
            " [6 7 5 3 8 2 1 4]\n",
            " [7 4 3 1 8 2 6 5]\n",
            " [7 2 8 3 5 4 1 6]\n",
            " [4 3 2 6 5 8 1 7]\n",
            " [5 4 1 2 6 3 7 8]]\n",
            "The table after phase-I execution is:\n",
            "1 | [3]\n",
            "2 | [6]\n",
            "3 | [1]\n",
            "4 | [7]\n",
            "5 | [8]\n",
            "6 | [2]\n",
            "7 | [4]\n",
            "8 | [5]\n",
            "The solution is:  [[(1, 3), (2, 6), (4, 7), (5, 8)]]\n"
          ]
        },
        {
          "output_type": "execute_result",
          "data": {
            "text/plain": [
              "[[2, 5, 0, 6, 7, 1, 3, 4]]"
            ]
          },
          "metadata": {},
          "execution_count": 122
        }
      ]
    },
    {
      "cell_type": "code",
      "source": [
        "import random\n",
        "\n",
        "# Número de listas\n",
        "num_listas = 8\n",
        "\n",
        "listas = []\n",
        "for i in range(num_listas):\n",
        "    primeros_siete = random.sample(range(1, 9), 7)\n",
        "    lista = primeros_siete + [i + 1]\n",
        "    random.shuffle(lista)\n",
        "    listas.append(lista)\n",
        "\n",
        "print(listas)"
      ],
      "metadata": {
        "colab": {
          "base_uri": "https://localhost:8080/"
        },
        "id": "15B7VWI50hqj",
        "outputId": "dfd90c34-490b-44dd-89da-df2968456e3e"
      },
      "execution_count": null,
      "outputs": [
        {
          "output_type": "stream",
          "name": "stdout",
          "text": [
            "[[6, 2, 7, 8, 5, 1, 1, 3], [2, 3, 4, 1, 7, 6, 2, 5], [7, 1, 3, 6, 4, 2, 3, 8], [4, 7, 2, 8, 6, 5, 3, 4], [2, 4, 6, 5, 8, 3, 1, 7], [1, 4, 8, 2, 3, 7, 5, 6], [5, 2, 4, 8, 6, 3, 7, 1], [6, 1, 5, 3, 2, 8, 8, 7]]\n"
          ]
        }
      ]
    },
    {
      "cell_type": "markdown",
      "source": [
        "#**Punto 2**"
      ],
      "metadata": {
        "id": "e9lnJn4Zzn_g"
      }
    },
    {
      "cell_type": "code",
      "execution_count": null,
      "metadata": {
        "id": "yvbKBH3Cidj9",
        "colab": {
          "base_uri": "https://localhost:8080/",
          "height": 1000
        },
        "outputId": "5c4ec9e6-e595-4fd8-b4a2-596bb01d6ce8"
      },
      "outputs": [
        {
          "output_type": "stream",
          "name": "stdout",
          "text": [
            "[[2, 0, 3, 1], [0, 2, 1, 3], [1, 0, 3, 2], [1, 2, 0, 3], [7, 4, 5, 6], [4, 6, 5, 7], [4, 6, 5, 7], [6, 4, 5, 7]]\n"
          ]
        },
        {
          "output_type": "display_data",
          "data": {
            "text/plain": [
              "<Figure size 640x480 with 1 Axes>"
            ],
            "image/png": "[encoded data removed]"
          },
          "metadata": {}
        },
        {
          "output_type": "stream",
          "name": "stdout",
          "text": [
            "Minimum Iterations: 4\n",
            "Maximum Iterations: 7\n",
            "Average Iterations: 5.12\n",
            "[[13, 15, 22, 20, 9, 26, 19, 37, 25, 5, 29, 21, 28, 23, 35, 18, 32, 0, 16, 36, 8, 31, 1, 11, 38, 39, 3, 17, 4, 12, 2, 6, 14, 33, 34, 10, 27, 7, 30, 24], [37, 6, 26, 11, 31, 4, 39, 24, 10, 27, 36, 18, 12, 35, 32, 20, 25, 28, 7, 17, 14, 5, 13, 23, 34, 29, 22, 2, 19, 30, 33, 21, 8, 15, 9, 0, 3, 38, 1, 16], [18, 14, 9, 12, 29, 35, 31, 7, 37, 24, 15, 20, 4, 38, 36, 0, 16, 5, 10, 39, 23, 27, 30, 1, 33, 3, 21, 6, 11, 26, 22, 28, 32, 17, 34, 19, 25, 8, 13, 2], [5, 13, 38, 29, 20, 31, 2, 27, 23, 12, 6, 21, 14, 24, 36, 18, 15, 30, 34, 3, 33, 0, 28, 4, 1, 16, 22, 8, 9, 37, 11, 17, 39, 25, 32, 19, 7, 26, 10, 35], [23, 2, 26, 13, 24, 12, 6, 5, 9, 0, 1, 32, 18, 17, 3, 33, 10, 7, 36, 14, 8, 35, 21, 38, 22, 19, 37, 11, 27, 20, 16, 4, 15, 39, 25, 29, 28, 31, 34, 30], [22, 12, 29, 18, 6, 28, 17, 0, 3, 27, 25, 4, 36, 7, 19, 11, 24, 13, 9, 14, 20, 34, 2, 32, 35, 31, 23, 8, 30, 5, 38, 26, 10, 16, 21, 33, 37, 15, 39, 1], [39, 27, 26, 24, 14, 9, 36, 1, 25, 20, 15, 21, 29, 10, 19, 12, 18, 7, 5, 16, 28, 33, 6, 37, 31, 0, 22, 13, 32, 35, 2, 11, 4, 34, 3, 30, 17, 23, 38, 8], [33, 19, 10, 27, 24, 32, 29, 15, 1, 30, 23, 8, 3, 13, 11, 31, 16, 26, 35, 4, 21, 12, 0, 6, 34, 14, 36, 22, 39, 9, 25, 2, 38, 28, 18, 20, 5, 7, 17, 37], [23, 36, 39, 25, 32, 16, 4, 2, 33, 24, 38, 6, 10, 26, 34, 35, 5, 30, 7, 8, 20, 29, 21, 31, 13, 11, 15, 19, 17, 22, 1, 14, 0, 9, 3, 12, 18, 27, 28, 37], [7, 28, 19, 2, 37, 15, 12, 20, 1, 38, 31, 21, 30, 34, 26, 0, 10, 17, 3, 22, 27, 13, 6, 23, 32, 25, 14, 8, 16, 9, 36, 24, 39, 4, 18, 5, 11, 33, 35, 29], [39, 38, 14, 27, 0, 1, 22, 24, 16, 5, 23, 28, 2, 6, 10, 4, 13, 26, 29, 17, 33, 30, 37, 34, 12, 11, 36, 3, 20, 9, 15, 18, 21, 19, 31, 7, 35, 8, 25, 32], [22, 29, 14, 26, 11, 34, 38, 9, 25, 16, 19, 10, 24, 7, 30, 23, 0, 31, 12, 36, 5, 20, 6, 17, 15, 21, 2, 35, 39, 37, 4, 18, 32, 27, 13, 28, 33, 1, 3, 8], [16, 2, 31, 3, 15, 35, 22, 21, 23, 34, 27, 24, 37, 32, 13, 19, 20, 25, 18, 8, 10, 36, 5, 38, 30, 39, 6, 28, 1, 0, 4, 7, 14, 17, 29, 12, 11, 9, 33, 26], [1, 38, 8, 17, 14, 33, 24, 27, 15, 19, 25, 4, 16, 3, 26, 12, 22, 13, 6, 18, 34, 39, 21, 2, 5, 11, 31, 32, 30, 9, 35, 29, 28, 7, 23, 36, 20, 10, 0, 37], [38, 23, 12, 17, 28, 3, 9, 31, 20, 5, 15, 22, 33, 0, 2, 32, 34, 6, 10, 18, 37, 36, 11, 21, 26, 13, 7, 16, 39, 24, 30, 8, 29, 19, 25, 1, 27, 4, 35, 14], [19, 31, 4, 33, 24, 32, 34, 29, 2, 3, 37, 20, 30, 1, 0, 18, 12, 10, 28, 14, 26, 25, 35, 17, 13, 21, 15, 16, 9, 23, 6, 36, 8, 11, 38, 39, 7, 5, 27, 22], [8, 25, 13, 3, 39, 27, 29, 2, 1, 37, 36, 35, 28, 31, 23, 32, 9, 17, 21, 20, 34, 12, 7, 33, 38, 16, 24, 0, 11, 30, 26, 22, 15, 10, 4, 5, 6, 18, 19, 14], [1, 34, 33, 17, 0, 21, 35, 13, 25, 32, 36, 31, 18, 8, 24, 4, 14, 3, 39, 38, 23, 10, 30, 37, 9, 6, 29, 2, 7, 19, 16, 27, 20, 11, 28, 22, 15, 12, 5, 26], [32, 36, 24, 31, 0, 39, 22, 19, 17, 13, 30, 15, 12, 7, 9, 16, 11, 25, 38, 28, 37, 4, 1, 2, 35, 29, 34, 5, 21, 18, 33, 10, 23, 8, 6, 20, 27, 3, 14, 26], [15, 1, 9, 24, 30, 4, 22, 17, 12, 20, 13, 11, 14, 25, 3, 2, 35, 38, 16, 39, 19, 21, 33, 27, 34, 37, 5, 36, 18, 32, 10, 28, 7, 26, 23, 6, 0, 8, 31, 29], [14, 8, 27, 35, 29, 34, 23, 15, 4, 12, 18, 17, 24, 32, 37, 3, 22, 10, 20, 2, 1, 26, 0, 5, 38, 11, 28, 30, 19, 36, 39, 9, 31, 21, 6, 33, 16, 13, 25, 7], [4, 28, 18, 19, 31, 21, 11, 33, 35, 1, 23, 32, 17, 9, 13, 6, 36, 20, 10, 29, 34, 5, 7, 24, 15, 26, 16, 0, 25, 8, 2, 22, 27, 37, 38, 30, 39, 14, 3, 12], [14, 24, 21, 32, 26, 25, 7, 10, 15, 39, 6, 12, 19, 17, 2, 0, 28, 35, 5, 37, 23, 27, 9, 38, 31, 16, 11, 18, 13, 4, 1, 30, 3, 33, 34, 29, 22, 36, 8, 20], [25, 23, 37, 4, 3, 32, 8, 18, 13, 9, 21, 0, 14, 26, 17, 12, 29, 28, 24, 16, 7, 33, 2, 31, 6, 20, 1, 19, 36, 27, 10, 5, 39, 15, 35, 38, 34, 30, 11, 22], [18, 1, 21, 16, 37, 19, 8, 27, 32, 30, 31, 2, 10, 23, 22, 20, 15, 13, 6, 33, 35, 9, 5, 7, 0, 11, 12, 4, 17, 24, 26, 34, 3, 38, 36, 14, 28, 39, 29, 25], [24, 5, 27, 2, 28, 1, 16, 3, 35, 32, 33, 20, 37, 10, 38, 36, 21, 9, 22, 4, 12, 8, 31, 18, 29, 25, 14, 23, 19, 0, 17, 13, 30, 39, 6, 7, 11, 15, 34, 26], [38, 36, 28, 22, 20, 24, 8, 27, 21, 17, 1, 39, 9, 12, 34, 5, 4, 11, 13, 25, 14, 7, 32, 10, 2, 18, 15, 0, 37, 30, 29, 31, 19, 35, 6, 16, 33, 26, 3, 23], [15, 29, 28, 26, 18, 37, 25, 6, 21, 5, 8, 16, 4, 17, 13, 39, 31, 14, 1, 38, 23, 27, 2, 0, 3, 36, 7, 10, 32, 24, 30, 20, 35, 12, 34, 11, 22, 9, 33, 19], [36, 30, 37, 10, 29, 7, 27, 3, 35, 28, 15, 21, 5, 13, 19, 26, 2, 39, 25, 8, 23, 16, 20, 22, 17, 6, 11, 38, 4, 0, 1, 31, 32, 9, 33, 12, 34, 18, 24, 14], [15, 20, 12, 37, 25, 1, 21, 31, 9, 22, 11, 17, 36, 13, 14, 26, 10, 4, 33, 18, 23, 24, 28, 27, 35, 8, 29, 19, 5, 0, 6, 30, 2, 3, 7, 38, 39, 16, 34, 32], [28, 38, 23, 34, 2, 16, 12, 20, 5, 21, 36, 19, 13, 32, 4, 29, 17, 8, 0, 33, 11, 39, 6, 25, 24, 1, 31, 37, 10, 18, 9, 35, 7, 14, 26, 3, 22, 30, 27, 15], [13, 24, 7, 0, 9, 30, 23, 12, 17, 21, 16, 3, 10, 19, 22, 18, 6, 20, 34, 39, 15, 25, 36, 27, 4, 37, 2, 5, 33, 28, 14, 31, 29, 11, 32, 8, 38, 26, 1, 35], [25, 38, 14, 8, 4, 33, 21, 9, 24, 29, 11, 31, 37, 36, 12, 7, 39, 35, 27, 10, 6, 28, 17, 22, 15, 1, 2, 23, 16, 19, 0, 18, 26, 30, 5, 20, 34, 32, 3, 13], [27, 30, 36, 2, 26, 32, 5, 37, 12, 6, 4, 24, 11, 20, 15, 16, 31, 10, 38, 21, 7, 23, 19, 28, 35, 25, 9, 17, 3, 39, 29, 8, 13, 14, 0, 18, 1, 34, 22, 33], [12, 18, 11, 29, 25, 4, 14, 13, 20, 6, 28, 32, 0, 8, 3, 23, 34, 21, 30, 19, 5, 31, 36, 38, 39, 1, 15, 35, 2, 37, 27, 9, 10, 33, 22, 17, 26, 24, 7, 16], [15, 6, 10, 19, 25, 7, 3, 0, 9, 37, 8, 36, 13, 28, 16, 31, 33, 29, 2, 17, 4, 21, 14, 18, 34, 39, 12, 26, 11, 24, 1, 20, 5, 32, 22, 23, 30, 27, 38, 35], [37, 7, 20, 9, 14, 27, 32, 6, 15, 24, 5, 34, 12, 28, 1, 38, 26, 10, 39, 3, 23, 2, 21, 4, 8, 36, 33, 13, 25, 11, 31, 16, 29, 19, 22, 17, 30, 18, 0, 35], [4, 38, 5, 15, 3, 30, 27, 22, 23, 2, 24, 20, 11, 35, 14, 13, 31, 17, 26, 10, 18, 28, 21, 36, 34, 33, 37, 32, 6, 29, 39, 7, 9, 8, 12, 0, 1, 19, 16, 25], [6, 38, 4, 5, 22, 37, 17, 2, 21, 18, 28, 19, 27, 34, 7, 3, 36, 23, 29, 16, 14, 30, 32, 31, 0, 15, 8, 25, 9, 24, 35, 20, 13, 1, 10, 11, 12, 26, 39, 33], [10, 31, 30, 7, 6, 27, 28, 1, 17, 25, 34, 13, 4, 5, 24, 39, 18, 37, 9, 19, 16, 32, 33, 2, 0, 36, 26, 14, 11, 3, 21, 38, 12, 23, 35, 29, 20, 22, 15, 8], [78, 69, 67, 46, 59, 66, 61, 68, 40, 53, 55, 48, 56, 76, 41, 73, 52, 71, 75, 65, 42, 72, 79, 74, 57, 51, 62, 44, 60, 47, 64, 43, 58, 63, 70, 49, 50, 54, 77, 45], [44, 73, 48, 50, 71, 77, 53, 68, 79, 57, 51, 62, 72, 74, 41, 63, 70, 52, 49, 59, 47, 43, 66, 65, 55, 76, 46, 61, 45, 60, 40, 75, 42, 54, 56, 67, 78, 69, 64, 58], [58, 53, 48, 45, 57, 41, 43, 40, 66, 64, 72, 69, 76, 59, 67, 77, 65, 56, 50, 78, 61, 49, 60, 62, 73, 68, 74, 71, 55, 47, 44, 70, 54, 63, 51, 46, 52, 42, 79, 75], [68, 79, 78, 76, 45, 46, 67, 57, 62, 47, 52, 50, 75, 64, 41, 43, 69, 66, 58, 48, 60, 55, 61, 51, 53, 74, 59, 72, 49, 73, 71, 54, 63, 44, 65, 42, 40, 77, 70, 56], [66, 76, 48, 59, 55, 41, 67, 43, 74, 68, 79, 56, 45, 51, 61, 70, 50, 71, 46, 54, 49, 65, 52, 57, 62, 64, 72, 69, 42, 60, 40, 47, 75, 73, 53, 58, 78, 44, 63, 77], [76, 44, 68, 56, 75, 69, 58, 67, 65, 51, 78, 45, 43, 52, 71, 79, 40, 57, 54, 62, 63, 72, 53, 59, 42, 74, 47, 48, 61, 60, 41, 50, 77, 64, 73, 66, 70, 49, 55, 46], [79, 73, 54, 78, 68, 53, 63, 56, 52, 57, 71, 75, 69, 77, 51, 44, 62, 41, 49, 61, 65, 67, 70, 58, 47, 55, 40, 43, 60, 45, 74, 66, 72, 50, 42, 59, 76, 64, 46, 48], [63, 69, 65, 72, 52, 73, 47, 68, 75, 59, 76, 56, 58, 43, 64, 48, 70, 66, 60, 45, 44, 67, 41, 61, 77, 53, 40, 62, 55, 57, 50, 49, 51, 71, 74, 79, 78, 46, 42, 54], [60, 68, 53, 79, 49, 54, 40, 70, 76, 61, 66, 63, 77, 41, 56, 78, 50, 67, 58, 48, 51, 47, 42, 59, 65, 69, 75, 43, 74, 64, 55, 72, 73, 71, 62, 46, 44, 52, 57, 45], [75, 50, 60, 58, 45, 49, 43, 74, 72, 42, 47, 62, 78, 56, 44, 76, 48, 52, 41, 65, 64, 69, 40, 70, 66, 57, 55, 61, 73, 71, 77, 53, 63, 54, 79, 67, 68, 59, 46, 51], [77, 64, 76, 41, 46, 58, 61, 56, 73, 60, 69, 44, 48, 68, 49, 53, 40, 79, 43, 63, 55, 42, 71, 59, 47, 66, 51, 67, 57, 62, 52, 65, 74, 45, 70, 54, 72, 50, 78, 75], [50, 70, 71, 54, 42, 75, 58, 47, 67, 45, 65, 46, 53, 48, 76, 64, 66, 55, 60, 41, 43, 61, 78, 63, 52, 73, 79, 57, 56, 59, 62, 44, 69, 49, 51, 68, 74, 40, 77, 72], [53, 59, 41, 64, 44, 55, 78, 68, 62, 77, 45, 71, 57, 69, 74, 58, 49, 75, 67, 42, 63, 46, 70, 61, 79, 43, 60, 51, 56, 50, 66, 73, 54, 48, 72, 47, 52, 65, 76, 40], [76, 70, 68, 58, 64, 43, 62, 63, 78, 66, 49, 55, 52, 57, 44, 45, 51, 59, 54, 41, 72, 61, 67, 50, 69, 65, 40, 60, 79, 53, 42, 56, 75, 77, 46, 47, 71, 73, 74, 48], [43, 41, 78, 66, 47, 70, 60, 52, 69, 65, 42, 54, 74, 46, 53, 73, 49, 68, 59, 55, 76, 58, 45, 40, 79, 72, 77, 44, 71, 67, 75, 62, 50, 51, 64, 57, 61, 63, 48, 56], [66, 60, 41, 70, 79, 59, 75, 57, 73, 69, 63, 48, 43, 72, 52, 78, 76, 56, 71, 55, 67, 47, 45, 53, 51, 40, 65, 64, 62, 42, 77, 50, 54, 49, 44, 74, 58, 46, 68, 61], [48, 68, 79, 58, 51, 53, 75, 71, 64, 61, 78, 44, 73, 62, 74, 59, 45, 76, 56, 43, 42, 72, 46, 57, 63, 66, 41, 70, 65, 49, 47, 60, 50, 67, 69, 55, 52, 40, 77, 54], [67, 77, 57, 43, 45, 74, 46, 41, 75, 68, 53, 62, 56, 73, 66, 64, 50, 69, 59, 55, 40, 42, 76, 49, 60, 63, 54, 72, 58, 44, 79, 65, 51, 61, 70, 52, 71, 48, 47, 78], [73, 59, 40, 50, 69, 52, 63, 45, 57, 66, 53, 64, 72, 65, 71, 49, 67, 60, 47, 44, 43, 79, 62, 78, 70, 74, 61, 48, 41, 42, 55, 76, 75, 56, 51, 68, 54, 58, 77, 46], [78, 68, 44, 65, 56, 67, 54, 64, 63, 76, 70, 57, 55, 49, 59, 75, 50, 52, 48, 62, 53, 79, 66, 72, 45, 43, 74, 58, 40, 41, 69, 73, 42, 77, 51, 60, 71, 61, 46, 47], [73, 42, 61, 72, 43, 58, 63, 50, 55, 74, 40, 60, 53, 76, 46, 71, 56, 79, 41, 47, 69, 51, 77, 66, 67, 49, 57, 64, 48, 78, 54, 44, 75, 68, 45, 70, 62, 65, 59, 52], [40, 50, 78, 72, 74, 65, 70, 71, 77, 79, 64, 68, 63, 59, 55, 49, 47, 54, 76, 58, 51, 56, 43, 53, 67, 57, 42, 62, 41, 69, 48, 73, 75, 66, 45, 52, 46, 61, 44, 60], [70, 72, 60, 49, 68, 43, 42, 56, 78, 58, 62, 65, 76, 61, 46, 69, 52, 66, 79, 48, 57, 75, 64, 40, 74, 51, 41, 71, 67, 55, 73, 50, 59, 63, 44, 54, 47, 45, 53, 77], [59, 79, 58, 53, 71, 66, 69, 68, 44, 76, 73, 41, 57, 65, 56, 64, 52, 40, 62, 55, 46, 43, 72, 60, 45, 74, 70, 77, 51, 49, 50, 61, 54, 48, 42, 75, 47, 78, 67, 63], [49, 67, 60, 45, 51, 63, 44, 53, 40, 47, 57, 41, 66, 79, 61, 62, 75, 55, 77, 48, 76, 68, 46, 50, 59, 72, 52, 65, 43, 73, 69, 74, 71, 78, 64, 70, 54, 58, 42, 56], [77, 41, 63, 42, 49, 64, 54, 47, 74, 70, 48, 72, 52, 51, 59, 56, 69, 76, 58, 46, 68, 75, 78, 40, 71, 57, 62, 45, 66, 43, 55, 53, 44, 79, 65, 60, 61, 73, 67, 50], [72, 46, 58, 44, 60, 79, 43, 61, 64, 42, 66, 55, 45, 73, 75, 62, 50, 53, 69, 71, 40, 59, 68, 63, 54, 76, 67, 52, 48, 78, 65, 74, 47, 70, 56, 51, 41, 57, 77, 49], [70, 40, 60, 42, 53, 52, 73, 61, 63, 54, 79, 68, 67, 65, 74, 72, 55, 71, 76, 49, 51, 59, 75, 58, 43, 69, 56, 78, 46, 66, 62, 44, 50, 64, 57, 41, 48, 47, 45, 77], [46, 74, 43, 61, 60, 55, 59, 51, 73, 54, 57, 68, 48, 50, 76, 49, 72, 65, 45, 63, 44, 69, 42, 67, 58, 47, 66, 53, 52, 40, 41, 77, 56, 70, 64, 75, 71, 79, 62, 78], [43, 76, 46, 55, 69, 48, 66, 53, 78, 59, 79, 56, 47, 63, 72, 42, 67, 62, 52, 40, 58, 74, 68, 60, 49, 73, 54, 75, 41, 70, 45, 57, 51, 65, 50, 61, 44, 64, 77, 71], [69, 52, 75, 57, 63, 70, 50, 44, 66, 53, 45, 78, 64, 43, 48, 60, 46, 77, 54, 68, 61, 72, 62, 67, 74, 40, 79, 42, 41, 47, 71, 58, 55, 59, 76, 51, 49, 65, 56, 73], [52, 71, 55, 75, 45, 66, 54, 60, 67, 58, 65, 57, 53, 78, 63, 42, 62, 48, 69, 47, 76, 61, 59, 73, 40, 68, 56, 43, 74, 77, 46, 50, 79, 44, 41, 49, 64, 51, 72, 70], [44, 72, 45, 49, 55, 50, 78, 51, 59, 58, 57, 47, 65, 68, 66, 73, 67, 62, 53, 69, 76, 52, 42, 41, 48, 71, 75, 74, 64, 63, 56, 61, 40, 77, 54, 70, 43, 60, 79, 46], [79, 66, 54, 60, 47, 72, 40, 57, 61, 48, 43, 56, 67, 45, 73, 42, 64, 69, 59, 58, 50, 68, 74, 77, 78, 63, 65, 49, 51, 71, 76, 75, 53, 70, 46, 62, 44, 52, 41, 55], [62, 74, 54, 48, 43, 46, 71, 68, 73, 76, 78, 45, 58, 53, 52, 65, 50, 41, 40, 44, 57, 47, 42, 55, 70, 72, 69, 59, 75, 49, 61, 63, 79, 51, 66, 77, 60, 67, 56, 64], [66, 42, 58, 56, 67, 75, 78, 59, 60, 63, 65, 77, 49, 52, 43, 71, 76, 70, 44, 47, 74, 57, 72, 45, 46, 40, 79, 50, 55, 61, 73, 62, 41, 51, 48, 64, 69, 54, 68, 53], [66, 78, 51, 54, 47, 67, 56, 59, 63, 43, 58, 57, 69, 48, 75, 42, 77, 53, 60, 40, 79, 68, 70, 71, 61, 44, 50, 62, 46, 41, 76, 49, 55, 45, 52, 74, 64, 73, 72, 65], [44, 72, 66, 40, 50, 58, 61, 59, 47, 70, 65, 43, 45, 75, 52, 67, 56, 64, 62, 77, 41, 74, 57, 69, 46, 76, 60, 73, 49, 68, 54, 79, 63, 48, 71, 42, 78, 53, 55, 51], [49, 77, 60, 54, 79, 62, 74, 78, 52, 63, 64, 75, 43, 69, 67, 73, 70, 40, 48, 66, 47, 42, 65, 51, 41, 44, 76, 61, 72, 50, 59, 53, 71, 58, 46, 57, 56, 45, 55, 68], [76, 43, 67, 44, 45, 68, 46, 40, 49, 58, 60, 72, 48, 69, 77, 65, 47, 59, 42, 41, 56, 52, 63, 51, 66, 71, 61, 79, 53, 57, 78, 73, 64, 50, 62, 74, 75, 55, 70, 54]]\n"
          ]
        },
        {
          "output_type": "display_data",
          "data": {
            "text/plain": [
              "<Figure size 640x480 with 1 Axes>"
            ],
            "image/png": "[encoded data removed]"
          },
          "metadata": {}
        },
        {
          "output_type": "stream",
          "name": "stdout",
          "text": [
            "Minimum Iterations: 56\n",
            "Maximum Iterations: 107\n",
            "Average Iterations: 77.89\n"
          ]
        }
      ],
      "source": [
        "import numpy as np\n",
        "import matplotlib.pyplot as plt\n",
        "\n",
        "#Gale-Shapley Algorithm\n",
        "def gale_shapley(prefer):\n",
        "    n = len(prefer) // 2\n",
        "    w_partner = [-1] * n\n",
        "    m_free = [True] * n\n",
        "    iterations = 0\n",
        "\n",
        "    while True:\n",
        "        try:\n",
        "            m = m_free.index(True)\n",
        "        except ValueError:\n",
        "            break\n",
        "\n",
        "        for i in prefer[m]:\n",
        "            w = i - n\n",
        "            if w_partner[w] == -1:\n",
        "                w_partner[w] = m\n",
        "                m_free[m] = False\n",
        "                break\n",
        "            else:\n",
        "                m1 = w_partner[w]\n",
        "                if prefer[w][m] < prefer[w][m1]:\n",
        "                    w_partner[w] = m\n",
        "                    m_free[m] = False\n",
        "                    m_free[m1] = True\n",
        "                    break\n",
        "\n",
        "        iterations += 1\n",
        "\n",
        "        # Check for stability\n",
        "        if all(partner != -1 for partner in w_partner):\n",
        "            break\n",
        "\n",
        "    return iterations\n",
        "\n",
        "def run_and_plot(n):\n",
        "    num_iterations = []\n",
        "    m=int(n/2)\n",
        "\n",
        "    for _ in range(100):  # Change the number of iterations\n",
        "\n",
        "        permutaciones_0_a_3 = [list(np.random.permutation(range(n))) for _ in range(n)]\n",
        "\n",
        "        permutaciones_4_a_7 = [list(np.random.permutation(range(n, 2 * n))) for _ in range(n)]\n",
        "\n",
        "        prefer = permutaciones_0_a_3 + permutaciones_4_a_7\n",
        "        iterations = gale_shapley(prefer)\n",
        "        num_iterations.append(iterations)\n",
        "    print(prefer)\n",
        "\n",
        "    min_iterations = min(num_iterations)\n",
        "    max_iterations = max(num_iterations)\n",
        "    avg_iterations = np.mean(num_iterations)\n",
        "\n",
        "    plt.hist(num_iterations, bins=20, edgecolor='black')\n",
        "    plt.title(f'Distribution of Iterations for n={n}')\n",
        "    plt.xlabel('Number of Iterations')\n",
        "    plt.ylabel('Frequency')\n",
        "    plt.show()\n",
        "\n",
        "    print(f\"Minimum Iterations: {min_iterations}\")\n",
        "    print(f\"Maximum Iterations: {max_iterations}\")\n",
        "    print(f\"Average Iterations: {avg_iterations}\")\n",
        "\n",
        "# Run and plot for n=4 and n=40\n",
        "run_and_plot(4)\n",
        "run_and_plot(40)\n"
      ]
    },
    {
      "cell_type": "code",
      "source": [],
      "metadata": {
        "colab": {
          "base_uri": "https://localhost:8080/"
        },
        "id": "mqDL90CjGrqv",
        "outputId": "ab6f7caa-6ac9-493e-9b89-030b9284e4a5"
      },
      "execution_count": null,
      "outputs": [
        {
          "output_type": "stream",
          "name": "stdout",
          "text": [
            "[[2, 0, 1, 3], [2, 1, 3, 0], [1, 0, 3, 2], [3, 2, 1, 0], [6, 7, 4, 5], [4, 5, 7, 6], [5, 4, 6, 7], [6, 5, 4, 7]]\n"
          ]
        }
      ]
    },
    {
      "cell_type": "markdown",
      "source": [
        "#**Punto 3**"
      ],
      "metadata": {
        "id": "Dq5qDl7ibxqQ"
      }
    },
    {
      "cell_type": "code",
      "source": [
        "import matplotlib.pyplot as plt\n",
        "import numpy as np\n",
        "import matplotlib.animation as animation\n",
        "\n",
        "def gale_shapley(n):\n",
        "    men_prefs = {i: np.random.permutation(range(n)) for i in range(n)}\n",
        "    women_prefs = {i: np.random.permutation(range(n)) for i in range(n)}\n",
        "\n",
        "    men_engaged = {i: None for i in range(n)}\n",
        "    women_engaged = {i: None for i in range(n)}\n",
        "\n",
        "    proposal_count = {i: 0 for i in range(n)}\n",
        "\n",
        "    proposals = []\n",
        "\n",
        "    while None in men_engaged.values():\n",
        "        for man in men_prefs:\n",
        "            if men_engaged[man] is None:\n",
        "                woman = men_prefs[man][proposal_count[man]]\n",
        "                proposal_count[man] += 1\n",
        "\n",
        "                if women_engaged[woman] is None:\n",
        "                    men_engaged[man] = woman\n",
        "                    women_engaged[woman] = man\n",
        "                    proposals.append((man, woman))\n",
        "                else:\n",
        "                    current_man = women_engaged[woman]\n",
        "                    if women_prefs[woman].tolist().index(man) < women_prefs[woman].tolist().index(current_man):\n",
        "                        men_engaged[current_man] = None\n",
        "                        men_engaged[man] = woman\n",
        "                        women_engaged[woman] = man\n",
        "                        proposals.append((man, woman))\n",
        "\n",
        "    return proposals\n",
        "\n",
        "def plot_matching(proposals, n):\n",
        "    fig, ax = plt.subplots()\n",
        "\n",
        "    men_x = np.arange(1, n + 1) * 2\n",
        "    women_x = np.arange(1, n + 1) * 2 + 1\n",
        "\n",
        "    for man, woman in proposals:\n",
        "        ax.plot([men_x[man], women_x[woman]], [0, 0], marker='o', markersize=10, color='black')\n",
        "\n",
        "    ax.set_xticks(np.concatenate([men_x, women_x]))\n",
        "    ax.set_xticklabels([f'M{idx}' if idx < n else f'W{idx - n}' for idx in range(1, 2 * n + 1)])\n",
        "\n",
        "    plt.title(\"Gale-Shapley Algorithm\")\n",
        "    plt.show()\n",
        "\n",
        "def create_gif(proposals, n):\n",
        "    fig, ax = plt.subplots()\n",
        "\n",
        "    men_x = np.arange(1, n + 1) * 2\n",
        "    women_x = np.arange(1, n + 1) * 2 + 1\n",
        "\n",
        "    def update(frame):\n",
        "        ax.clear()\n",
        "        for i in range(frame):\n",
        "            man, woman = proposals[i]\n",
        "            ax.plot([men_x[man], women_x[woman]], [0, 0], marker='o', markersize=10, color='black')\n",
        "        ax.set_xticks(np.concatenate([men_x, women_x]))\n",
        "        ax.set_xticklabels([f'M{idx}' if idx < n else f'W{idx - n}' for idx in range(1, 2 * n + 1)])\n",
        "        ax.set_title(\"Gale-Shapley Algorithm - Frame {}\".format(frame + 1))\n",
        "\n",
        "    ani = animation.FuncAnimation(fig, update, frames=len(proposals), interval=1000, repeat=False)\n",
        "    ani.save('gale_shapley_animation.gif', writer='imagemagick', fps=1)\n",
        "\n",
        "n = 4  # You can change n to 40 for a larger example\n",
        "proposals = gale_shapley(n)\n",
        "plot_matching(proposals, n)\n",
        "create_gif(proposals, n)\n"
      ],
      "metadata": {
        "id": "jnchPyoecIoG",
        "outputId": "cd2ea50c-2a12-4202-8f3f-31a4a71d7c2e",
        "colab": {
          "base_uri": "https://localhost:8080/",
          "height": 904
        }
      },
      "execution_count": null,
      "outputs": [
        {
          "output_type": "display_data",
          "data": {
            "text/plain": [
              "<Figure size 640x480 with 1 Axes>"
            ],
            "image/png": "[encoded data removed]"
          },
          "metadata": {}
        },
        {
          "output_type": "stream",
          "name": "stderr",
          "text": [
            "WARNING:matplotlib.animation:MovieWriter imagemagick unavailable; using Pillow instead.\n"
          ]
        },
        {
          "output_type": "display_data",
          "data": {
            "text/plain": [
              "<Figure size 640x480 with 1 Axes>"
            ],
            "image/png": "[encoded data removed]"
          },
          "metadata": {}
        }
      ]
    }
  ]
}