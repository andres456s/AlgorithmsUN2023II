{
  "cells": [
    {
      "cell_type": "markdown",
      "metadata": {
        "id": "view-in-github",
        "colab_type": "text"
      },
      "source": [
        "<a href=\"https://colab.research.google.com/github/andres456s/AlgorithmsUN2023II/blob/main/Lab_4.ipynb\" target=\"_parent\"><img src=\"https://colab.research.google.com/assets/colab-badge.svg\" alt=\"Open In Colab\"/></a>"
      ]
    },
    {
      "cell_type": "code",
      "execution_count": 1,
      "metadata": {
        "id": "im-VVd1__7VU",
        "colab": {
          "base_uri": "https://localhost:8080/"
        },
        "outputId": "0110dffc-dbe0-4cbb-a257-a4e1afc79373"
      },
      "outputs": [
        {
          "output_type": "stream",
          "name": "stdout",
          "text": [
            "processor\t: 0\n",
            "vendor_id\t: GenuineIntel\n",
            "cpu family\t: 6\n",
            "model\t\t: 79\n",
            "model name\t: Intel(R) Xeon(R) CPU @ 2.20GHz\n",
            "stepping\t: 0\n",
            "microcode\t: 0xffffffff\n",
            "cpu MHz\t\t: 2199.998\n",
            "cache size\t: 56320 KB\n",
            "physical id\t: 0\n",
            "siblings\t: 2\n",
            "core id\t\t: 0\n",
            "cpu cores\t: 1\n",
            "apicid\t\t: 0\n",
            "initial apicid\t: 0\n",
            "fpu\t\t: yes\n",
            "fpu_exception\t: yes\n",
            "cpuid level\t: 13\n",
            "wp\t\t: yes\n",
            "flags\t\t: fpu vme de pse tsc msr pae mce cx8 apic sep mtrr pge mca cmov pat pse36 clflush mmx fxsr sse sse2 ss ht syscall nx pdpe1gb rdtscp lm constant_tsc rep_good nopl xtopology nonstop_tsc cpuid tsc_known_freq pni pclmulqdq ssse3 fma cx16 pcid sse4_1 sse4_2 x2apic movbe popcnt aes xsave avx f16c rdrand hypervisor lahf_lm abm 3dnowprefetch invpcid_single ssbd ibrs ibpb stibp fsgsbase tsc_adjust bmi1 hle avx2 smep bmi2 erms invpcid rtm rdseed adx smap xsaveopt arat md_clear arch_capabilities\n",
            "bugs\t\t: cpu_meltdown spectre_v1 spectre_v2 spec_store_bypass l1tf mds swapgs taa mmio_stale_data retbleed\n",
            "bogomips\t: 4399.99\n",
            "clflush size\t: 64\n",
            "cache_alignment\t: 64\n",
            "address sizes\t: 46 bits physical, 48 bits virtual\n",
            "power management:\n",
            "\n",
            "processor\t: 1\n",
            "vendor_id\t: GenuineIntel\n",
            "cpu family\t: 6\n",
            "model\t\t: 79\n",
            "model name\t: Intel(R) Xeon(R) CPU @ 2.20GHz\n",
            "stepping\t: 0\n",
            "microcode\t: 0xffffffff\n",
            "cpu MHz\t\t: 2199.998\n",
            "cache size\t: 56320 KB\n",
            "physical id\t: 0\n",
            "siblings\t: 2\n",
            "core id\t\t: 0\n",
            "cpu cores\t: 1\n",
            "apicid\t\t: 1\n",
            "initial apicid\t: 1\n",
            "fpu\t\t: yes\n",
            "fpu_exception\t: yes\n",
            "cpuid level\t: 13\n",
            "wp\t\t: yes\n",
            "flags\t\t: fpu vme de pse tsc msr pae mce cx8 apic sep mtrr pge mca cmov pat pse36 clflush mmx fxsr sse sse2 ss ht syscall nx pdpe1gb rdtscp lm constant_tsc rep_good nopl xtopology nonstop_tsc cpuid tsc_known_freq pni pclmulqdq ssse3 fma cx16 pcid sse4_1 sse4_2 x2apic movbe popcnt aes xsave avx f16c rdrand hypervisor lahf_lm abm 3dnowprefetch invpcid_single ssbd ibrs ibpb stibp fsgsbase tsc_adjust bmi1 hle avx2 smep bmi2 erms invpcid rtm rdseed adx smap xsaveopt arat md_clear arch_capabilities\n",
            "bugs\t\t: cpu_meltdown spectre_v1 spectre_v2 spec_store_bypass l1tf mds swapgs taa mmio_stale_data retbleed\n",
            "bogomips\t: 4399.99\n",
            "clflush size\t: 64\n",
            "cache_alignment\t: 64\n",
            "address sizes\t: 46 bits physical, 48 bits virtual\n",
            "power management:\n",
            "\n"
          ]
        }
      ],
      "source": [
        "!cat /proc/cpuinfo"
      ]
    },
    {
      "cell_type": "markdown",
      "metadata": {
        "id": "N1ok_-56OjB1"
      },
      "source": [
        "# I Solving the Sum of Two Digits Programming Challenge"
      ]
    },
    {
      "cell_type": "markdown",
      "metadata": {
        "id": "MMY7kmDSO0KM"
      },
      "source": [
        "## C++"
      ]
    },
    {
      "cell_type": "code",
      "execution_count": 2,
      "metadata": {
        "colab": {
          "base_uri": "https://localhost:8080/"
        },
        "id": "2pGGf9BkPNIk",
        "outputId": "9da56a56-5077-4333-c5c3-9da649a9ef6b"
      },
      "outputs": [
        {
          "output_type": "stream",
          "name": "stdout",
          "text": [
            "Writing APlusB.cpp\n"
          ]
        }
      ],
      "source": [
        "%%writefile APlusB.cpp\n",
        "#include <iostream>\n",
        "\n",
        "int sum_of_two_digits(int first_digit, int second_digit) {\n",
        "    return first_digit + second_digit;\n",
        "}\n",
        "\n",
        "int main() {\n",
        "    int a = 0;\n",
        "    int b = 0;\n",
        "    std::cin >> a;\n",
        "    std::cin >> b;\n",
        "    std::cout << sum_of_two_digits(a, b);\n",
        "    return 0;\n",
        "}"
      ]
    },
    {
      "cell_type": "code",
      "execution_count": 3,
      "metadata": {
        "colab": {
          "base_uri": "https://localhost:8080/"
        },
        "id": "0G3ZKOYAPXSU",
        "outputId": "ad31d107-c68c-4352-96b9-d1b4e8c211a9"
      },
      "outputs": [
        {
          "output_type": "stream",
          "name": "stdout",
          "text": [
            "2\n",
            "3\n",
            "5"
          ]
        }
      ],
      "source": [
        "!g++ APlusB.cpp -o APlusB -std=c++11\n",
        "!./APlusB"
      ]
    },
    {
      "cell_type": "markdown",
      "metadata": {
        "id": "iNkG2HqfTl9c"
      },
      "source": [
        "### Test input output files"
      ]
    },
    {
      "cell_type": "code",
      "execution_count": 4,
      "metadata": {
        "colab": {
          "base_uri": "https://localhost:8080/"
        },
        "id": "aTzU2efzMxly",
        "outputId": "b0ce0a32-9dfa-4cee-f8d8-c088c55061cd"
      },
      "outputs": [
        {
          "output_type": "stream",
          "name": "stdout",
          "text": [
            "Writing input1.txt\n"
          ]
        }
      ],
      "source": [
        "%%writefile input1.txt\n",
        "4 8"
      ]
    },
    {
      "cell_type": "code",
      "execution_count": 5,
      "metadata": {
        "colab": {
          "base_uri": "https://localhost:8080/"
        },
        "id": "zBJ0Gc0NQRet",
        "outputId": "5f5454f6-de50-48ea-ef7a-ecf52ef75439"
      },
      "outputs": [
        {
          "output_type": "stream",
          "name": "stdout",
          "text": [
            "Writing output1.txt\n"
          ]
        }
      ],
      "source": [
        "%%writefile output1.txt\n",
        "12"
      ]
    },
    {
      "cell_type": "code",
      "execution_count": 6,
      "metadata": {
        "colab": {
          "base_uri": "https://localhost:8080/"
        },
        "id": "IjEcIx63PJAN",
        "outputId": "7381ecad-2a14-4ad5-b846-0233a2a777bf"
      },
      "outputs": [
        {
          "output_type": "stream",
          "name": "stdout",
          "text": [
            "Writing input2.txt\n"
          ]
        }
      ],
      "source": [
        "%%writefile input2.txt\n",
        "0 9"
      ]
    },
    {
      "cell_type": "code",
      "execution_count": 7,
      "metadata": {
        "colab": {
          "base_uri": "https://localhost:8080/"
        },
        "id": "Up9gOrxURTmd",
        "outputId": "dcf56c16-30c7-4dc8-cfa7-ba5d2235e8c9"
      },
      "outputs": [
        {
          "output_type": "stream",
          "name": "stdout",
          "text": [
            "Writing output2.txt\n"
          ]
        }
      ],
      "source": [
        "%%writefile output2.txt\n",
        "9"
      ]
    },
    {
      "cell_type": "code",
      "execution_count": 8,
      "metadata": {
        "colab": {
          "base_uri": "https://localhost:8080/"
        },
        "id": "PST6G-s-Pwgc",
        "outputId": "d5cba0a8-5f17-4f03-8a61-a0827c2707d1"
      },
      "outputs": [
        {
          "output_type": "stream",
          "name": "stdout",
          "text": [
            "12"
          ]
        }
      ],
      "source": [
        "!./APlusB < input1.txt"
      ]
    },
    {
      "cell_type": "code",
      "execution_count": 9,
      "metadata": {
        "colab": {
          "base_uri": "https://localhost:8080/"
        },
        "id": "cKxZOjSlRfIN",
        "outputId": "956dc7af-6066-473e-d658-3953ddaea694"
      },
      "outputs": [
        {
          "output_type": "stream",
          "name": "stdout",
          "text": [
            "9"
          ]
        }
      ],
      "source": [
        "!./APlusB < input2.txt"
      ]
    },
    {
      "cell_type": "markdown",
      "metadata": {
        "id": "Qw2TQWCCUwqk"
      },
      "source": [
        "### Comparing files with grep\n",
        "\n",
        "https://askubuntu.com/questions/546796/comparing-two-text-files"
      ]
    },
    {
      "cell_type": "code",
      "execution_count": 10,
      "metadata": {
        "id": "WVIaAmMKU4QM"
      },
      "outputs": [],
      "source": [
        "!grep -xvFf output1.txt output1.txt"
      ]
    },
    {
      "cell_type": "code",
      "execution_count": 11,
      "metadata": {
        "id": "MQU8gPPjQuYO",
        "colab": {
          "base_uri": "https://localhost:8080/"
        },
        "outputId": "bc4dc769-6e4b-4df4-8253-d044a474d67b"
      },
      "outputs": [
        {
          "output_type": "stream",
          "name": "stdout",
          "text": [
            "9\n"
          ]
        }
      ],
      "source": [
        "!grep -xvFf output1.txt output2.txt"
      ]
    },
    {
      "cell_type": "code",
      "execution_count": 12,
      "metadata": {
        "colab": {
          "base_uri": "https://localhost:8080/"
        },
        "id": "jYL9OuYBTD_l",
        "outputId": "27e2e8e0-8a4e-423a-ef24-1fd1ab5a88dc"
      },
      "outputs": [
        {
          "output_type": "stream",
          "name": "stdout",
          "text": [
            "12\n"
          ]
        }
      ],
      "source": [
        "!grep -xvFf output2.txt output1.txt"
      ]
    },
    {
      "cell_type": "code",
      "execution_count": 13,
      "metadata": {
        "id": "Jlja0Xm4TX9M"
      },
      "outputs": [],
      "source": [
        "!./APlusB < input1.txt> ctest1.txt\n",
        "!grep -xvFf output1.txt ctest1.txt"
      ]
    },
    {
      "cell_type": "code",
      "execution_count": 14,
      "metadata": {
        "id": "g9OIUZA_QLCQ"
      },
      "outputs": [],
      "source": [
        "!./APlusB < input2.txt > ctest2.txt\n",
        "!grep -xvFf output2.txt ctest2.txt"
      ]
    },
    {
      "cell_type": "markdown",
      "metadata": {
        "id": "3BgOaDjUVJk6"
      },
      "source": [
        "## Python"
      ]
    },
    {
      "cell_type": "code",
      "execution_count": 15,
      "metadata": {
        "colab": {
          "base_uri": "https://localhost:8080/"
        },
        "id": "DBvl-T0CTN_8",
        "outputId": "bfae2bf0-96c9-4266-9a27-06876f4ee319"
      },
      "outputs": [
        {
          "output_type": "stream",
          "name": "stdout",
          "text": [
            "Writing sum.py\n"
          ]
        }
      ],
      "source": [
        "%%writefile sum.py\n",
        "# python3\n",
        "\n",
        "def sum_of_two_digits(first_digit, second_digit):\n",
        "    return first_digit + second_digit\n",
        "\n",
        "if __name__ == '__main__':\n",
        "    a, b = map(int, input().split())\n",
        "    print(sum_of_two_digits(a, b))"
      ]
    },
    {
      "cell_type": "code",
      "execution_count": 16,
      "metadata": {
        "colab": {
          "base_uri": "https://localhost:8080/"
        },
        "id": "QKoKM11_WGyF",
        "outputId": "9a715dd4-f9f3-49cb-aa27-3e4740c619e3"
      },
      "outputs": [
        {
          "output_type": "stream",
          "name": "stdout",
          "text": [
            "3 6\n",
            "9\n"
          ]
        }
      ],
      "source": [
        "!python sum.py"
      ]
    },
    {
      "cell_type": "code",
      "execution_count": 17,
      "metadata": {
        "id": "cocFbPRTWrqt"
      },
      "outputs": [],
      "source": [
        "!python sum.py  < input1.txt> ptest1.txt\n",
        "!grep -xvFf output1.txt ptest1.txt"
      ]
    },
    {
      "cell_type": "code",
      "execution_count": 18,
      "metadata": {
        "id": "MorKTa-XXASN"
      },
      "outputs": [],
      "source": [
        "!python sum.py  < input2.txt> ptest2.txt\n",
        "!grep -xvFf output2.txt ptest2.txt"
      ]
    },
    {
      "cell_type": "markdown",
      "metadata": {
        "id": "uvP-mOubW_5F"
      },
      "source": [
        "# II Solving The Maximum Pairwise Product Programming Challenge in C++"
      ]
    },
    {
      "cell_type": "markdown",
      "metadata": {
        "id": "C12yoFR6Xonl"
      },
      "source": [
        "## C++"
      ]
    },
    {
      "cell_type": "markdown",
      "source": [
        "ALGORITMO 1"
      ],
      "metadata": {
        "id": "WgtjIHe5xGJb"
      }
    },
    {
      "cell_type": "code",
      "source": [
        "%%writefile max_pairwise_product_full.cpp\n",
        "#include <iostream>\n",
        "#include <vector>\n",
        "#include <algorithm>\n",
        "\n",
        "int MaxPairwiseProduct(const std::vector<int>& numbers) {\n",
        "    int max_product = 0;\n",
        "    int aux_product = 0;\n",
        "    int n = numbers.size();\n",
        "\n",
        "    for (int first = 0; first < n; ++first) {\n",
        "        for (int second = 0; second < n; ++second) {\n",
        "          if ( first != second ){\n",
        "                aux_product = numbers[first] * numbers[second];\n",
        "                if (aux_product > max_product)  max_product = aux_product;\n",
        "          }\n",
        "        }\n",
        "    }\n",
        "\n",
        "    return max_product;\n",
        "}\n",
        "\n",
        "int main() {\n",
        "    int n;\n",
        "    std::cin >> n;\n",
        "    std::vector<int> numbers(n);\n",
        "    for (int i = 0; i < n; ++i) {\n",
        "        std::cin >> numbers[i];\n",
        "    }\n",
        "\n",
        "    std::cout << MaxPairwiseProduct(numbers) << \"\\n\";\n",
        "    return 0;\n",
        "}"
      ],
      "metadata": {
        "colab": {
          "base_uri": "https://localhost:8080/"
        },
        "id": "3LpfoGv2Ae81",
        "outputId": "0ec20fc7-af63-40f4-b59b-d02c3a4f2b4e"
      },
      "execution_count": 19,
      "outputs": [
        {
          "output_type": "stream",
          "name": "stdout",
          "text": [
            "Writing max_pairwise_product_full.cpp\n"
          ]
        }
      ]
    },
    {
      "cell_type": "code",
      "source": [
        "!g++ max_pairwise_product_full.cpp -o max_pairwise_product_full\n",
        "!./max_pairwise_product_full"
      ],
      "metadata": {
        "id": "PCVo1h6nCF9k",
        "colab": {
          "base_uri": "https://localhost:8080/"
        },
        "outputId": "d80e0ed6-7b85-4c57-b8c9-b2ec54f7fb02"
      },
      "execution_count": 20,
      "outputs": [
        {
          "output_type": "stream",
          "name": "stdout",
          "text": [
            "4\n",
            "3 4 5 6\n",
            "30\n"
          ]
        }
      ]
    },
    {
      "cell_type": "markdown",
      "metadata": {
        "id": "m75IQQPbEHBS"
      },
      "source": [
        "$$n^2 \\ \\text{first != second  comparisons},  n^2 - n \\ \\ \\text{numbers[first] * numbers[second] products},  O(n^2)$$"
      ]
    },
    {
      "cell_type": "markdown",
      "metadata": {
        "id": "e7KhxHGNS3i0"
      },
      "source": [
        "### Test 1: Small numbers"
      ]
    },
    {
      "cell_type": "code",
      "execution_count": 21,
      "metadata": {
        "colab": {
          "base_uri": "https://localhost:8080/"
        },
        "id": "e1mmTzBgShT-",
        "outputId": "5f1d6df3-e464-445a-b152-8686f07389e8"
      },
      "outputs": [
        {
          "output_type": "stream",
          "name": "stdout",
          "text": [
            "Overwriting input1.txt\n"
          ]
        }
      ],
      "source": [
        "%%writefile input1.txt\n",
        "10\n",
        "1 2 3 4 5 6 7 8 9 10"
      ]
    },
    {
      "cell_type": "code",
      "execution_count": 22,
      "metadata": {
        "colab": {
          "base_uri": "https://localhost:8080/"
        },
        "id": "vy_uI0x7TCId",
        "outputId": "c3a58b00-6ff4-4515-8505-4be6ebb3611a"
      },
      "outputs": [
        {
          "output_type": "stream",
          "name": "stdout",
          "text": [
            "90\n"
          ]
        }
      ],
      "source": [
        "!./max_pairwise_product_full < input1.txt"
      ]
    },
    {
      "cell_type": "code",
      "execution_count": 23,
      "metadata": {
        "colab": {
          "base_uri": "https://localhost:8080/"
        },
        "id": "xaj6f9bxC6D6",
        "outputId": "32f17b99-5d40-4837-e71a-6601c451fd37"
      },
      "outputs": [
        {
          "output_type": "stream",
          "name": "stdout",
          "text": [
            "Overwriting output1.txt\n"
          ]
        }
      ],
      "source": [
        "%%writefile output1.txt\n",
        "90"
      ]
    },
    {
      "cell_type": "code",
      "execution_count": 24,
      "metadata": {
        "id": "fYCjAdA_C-wy"
      },
      "outputs": [],
      "source": [
        "!./max_pairwise_product_full< input1.txt > ctest1.txt\n",
        "!grep -xvFf output1.txt ctest1.txt"
      ]
    },
    {
      "cell_type": "code",
      "source": [
        "%%writefile input2.txt\n",
        "10\n",
        "10 9 8 7 6 5 4 3 2 1"
      ],
      "metadata": {
        "colab": {
          "base_uri": "https://localhost:8080/"
        },
        "id": "ZPe40LY14_6f",
        "outputId": "dc9cfe2e-80da-4d7b-dc34-fa5e6966c5b4"
      },
      "execution_count": 25,
      "outputs": [
        {
          "output_type": "stream",
          "name": "stdout",
          "text": [
            "Overwriting input2.txt\n"
          ]
        }
      ]
    },
    {
      "cell_type": "code",
      "source": [
        "%%writefile output2.txt\n",
        "90"
      ],
      "metadata": {
        "colab": {
          "base_uri": "https://localhost:8080/"
        },
        "id": "xiHmF7HA5Faa",
        "outputId": "143c35fa-d167-4ad5-b00e-5f7f6e206da3"
      },
      "execution_count": 26,
      "outputs": [
        {
          "output_type": "stream",
          "name": "stdout",
          "text": [
            "Overwriting output2.txt\n"
          ]
        }
      ]
    },
    {
      "cell_type": "code",
      "source": [
        "!./max_pairwise_product_full< input2.txt > ctest2.txt\n",
        "!grep -xvFf output2.txt ctest2.txt"
      ],
      "metadata": {
        "id": "jjwc9kwb5t_k"
      },
      "execution_count": 27,
      "outputs": []
    },
    {
      "cell_type": "markdown",
      "metadata": {
        "id": "IeZ3kTjpYmR9"
      },
      "source": [
        "### Test 2: largest input numbers 200000 200000 in the input"
      ]
    },
    {
      "cell_type": "code",
      "execution_count": 28,
      "metadata": {
        "colab": {
          "base_uri": "https://localhost:8080/"
        },
        "id": "LQNlZqaqYt7U",
        "outputId": "b011f7d3-ce36-42e1-8592-1a5c4df4873f"
      },
      "outputs": [
        {
          "output_type": "stream",
          "name": "stdout",
          "text": [
            "Writing input3.txt\n"
          ]
        }
      ],
      "source": [
        "%%writefile input3.txt\n",
        "6\n",
        "1 3 200000 9 200000 23"
      ]
    },
    {
      "cell_type": "code",
      "execution_count": 29,
      "metadata": {
        "colab": {
          "base_uri": "https://localhost:8080/"
        },
        "id": "GjQq7QOUCw-9",
        "outputId": "fb44662d-5a76-420d-b0a3-7940132c8063"
      },
      "outputs": [
        {
          "output_type": "execute_result",
          "data": {
            "text/plain": [
              "40000000000"
            ]
          },
          "metadata": {},
          "execution_count": 29
        }
      ],
      "source": [
        "200000*200000"
      ]
    },
    {
      "cell_type": "code",
      "execution_count": 30,
      "metadata": {
        "colab": {
          "base_uri": "https://localhost:8080/"
        },
        "id": "EuS6n3jtDK5C",
        "outputId": "5ee0e168-dc12-48d3-c9d4-5b02b26322bd"
      },
      "outputs": [
        {
          "output_type": "stream",
          "name": "stdout",
          "text": [
            "Writing output3.txt\n"
          ]
        }
      ],
      "source": [
        "%%writefile output3.txt\n",
        "40000000000"
      ]
    },
    {
      "cell_type": "code",
      "execution_count": 31,
      "metadata": {
        "colab": {
          "base_uri": "https://localhost:8080/"
        },
        "id": "2Wad2VZUZDxR",
        "outputId": "91180b5e-5339-4c57-f0dc-f10c9e09ac12"
      },
      "outputs": [
        {
          "output_type": "stream",
          "name": "stdout",
          "text": [
            "1345294336\n"
          ]
        }
      ],
      "source": [
        "!./max_pairwise_product_full < input3.txt"
      ]
    },
    {
      "cell_type": "code",
      "execution_count": 32,
      "metadata": {
        "colab": {
          "base_uri": "https://localhost:8080/"
        },
        "id": "pEvp1ieyDJGq",
        "outputId": "036c213a-6271-4ee8-f7a7-bb9866a060dd"
      },
      "outputs": [
        {
          "output_type": "stream",
          "name": "stdout",
          "text": [
            "1345294336\n"
          ]
        }
      ],
      "source": [
        "!./max_pairwise_product_full < input3.txt > ctest3.txt\n",
        "!grep -xvFf output3.txt ctest3.txt"
      ]
    },
    {
      "cell_type": "code",
      "source": [
        " %%writefile run_all_test.sh\n",
        "#!/bin/bash\n",
        "g++ max_pairwise_product_full.cpp -o max_pairwise_product_full\n",
        "for i in {1..3}\n",
        "do\n",
        "    ./max_pairwise_product_full < input$i.txt > ctest$i.txt\n",
        "    grep -xvFf output$i.txt ctest$i.txt\n",
        "done"
      ],
      "metadata": {
        "colab": {
          "base_uri": "https://localhost:8080/"
        },
        "id": "SrtJrKqM-God",
        "outputId": "e692a92e-7224-4ca7-a0d9-c771ce215aca"
      },
      "execution_count": 33,
      "outputs": [
        {
          "output_type": "stream",
          "name": "stdout",
          "text": [
            "Writing run_all_test.sh\n"
          ]
        }
      ]
    },
    {
      "cell_type": "code",
      "source": [
        "!chmod u+x run_all_test.sh\n",
        "!./run_all_test.sh"
      ],
      "metadata": {
        "colab": {
          "base_uri": "https://localhost:8080/"
        },
        "id": "wGWMHtzS-QnA",
        "outputId": "0c51d2e8-f9f7-4d7d-835c-fe32e77fc2f6"
      },
      "execution_count": 34,
      "outputs": [
        {
          "output_type": "stream",
          "name": "stdout",
          "text": [
            "1345294336\n"
          ]
        }
      ]
    },
    {
      "cell_type": "markdown",
      "metadata": {
        "id": "H2SC0Qt5HCzz"
      },
      "source": [
        "Changing the variables to long long"
      ]
    },
    {
      "cell_type": "code",
      "execution_count": 35,
      "metadata": {
        "colab": {
          "base_uri": "https://localhost:8080/"
        },
        "id": "MPcmsxiQZSfE",
        "outputId": "e16cb569-c5ce-4566-f07b-2ab3e658531f"
      },
      "outputs": [
        {
          "output_type": "stream",
          "name": "stdout",
          "text": [
            "Writing max_pairwise_product_long_full.cpp\n"
          ]
        }
      ],
      "source": [
        "%%writefile max_pairwise_product_long_full.cpp\n",
        "#include <iostream>\n",
        "#include <vector>\n",
        "#include <algorithm>\n",
        "\n",
        "long long MaxPairwiseProduct(const std::vector<int>& numbers) {\n",
        "    long long max_product = 0LL;\n",
        "\t  long long aux_product = 0LL;\n",
        "    int n = numbers.size();\n",
        "\n",
        "    for (int first = 0; first < n; ++first) {\n",
        "        for (int second = 0; second < n; ++second) {\n",
        "          if ( first != second){\n",
        "                aux_product = (long long) numbers[first] * numbers[second];\n",
        "                if (aux_product > max_product)  max_product = aux_product;\n",
        "          }\n",
        "        }\n",
        "    }\n",
        "\n",
        "\n",
        "    return max_product;\n",
        "}\n",
        "\n",
        "int main() {\n",
        "    int n;\n",
        "    std::cin >> n;\n",
        "    std::vector<int> numbers(n);\n",
        "    for (int i = 0; i < n; ++i) {\n",
        "        std::cin >> numbers[i];\n",
        "    }\n",
        "\n",
        "    std::cout << MaxPairwiseProduct(numbers) << \"\\n\";\n",
        "    return 0;\n",
        "}\n"
      ]
    },
    {
      "cell_type": "code",
      "source": [
        "!g++ max_pairwise_product_long_full.cpp -o max_pairwise_product_long_full"
      ],
      "metadata": {
        "id": "W3xQpFXL6wjO"
      },
      "execution_count": 36,
      "outputs": []
    },
    {
      "cell_type": "code",
      "source": [
        "!./max_pairwise_product_long_full < input3.txt"
      ],
      "metadata": {
        "colab": {
          "base_uri": "https://localhost:8080/"
        },
        "id": "H5dvN9M3R9sV",
        "outputId": "3af91d1e-4ec5-481c-c01b-00432288100e"
      },
      "execution_count": 37,
      "outputs": [
        {
          "output_type": "stream",
          "name": "stdout",
          "text": [
            "40000000000\n"
          ]
        }
      ]
    },
    {
      "cell_type": "markdown",
      "source": [
        "### Runing multuple test with a bash shell"
      ],
      "metadata": {
        "id": "gx-sEYdfQ8f8"
      }
    },
    {
      "cell_type": "code",
      "source": [
        " %%writefile run_all_test.sh\n",
        "#!/bin/bash\n",
        "g++ max_pairwise_product_long_full.cpp -o max_pairwise_product_long_full\n",
        "for i in {1..3}\n",
        "do\n",
        "    ./max_pairwise_product_long_full < input$i.txt > ctest$i.txt\n",
        "    grep -xvFf output$i.txt ctest$i.txt\n",
        "done"
      ],
      "metadata": {
        "colab": {
          "base_uri": "https://localhost:8080/"
        },
        "id": "O9qsq2nn7elw",
        "outputId": "133f5812-dc18-46d7-cc6d-be2101778711"
      },
      "execution_count": 38,
      "outputs": [
        {
          "output_type": "stream",
          "name": "stdout",
          "text": [
            "Overwriting run_all_test.sh\n"
          ]
        }
      ]
    },
    {
      "cell_type": "code",
      "source": [
        "!chmod u+x run_all_test.sh\n",
        "!./run_all_test.sh"
      ],
      "metadata": {
        "id": "0g5kKVph7xIA"
      },
      "execution_count": 39,
      "outputs": []
    },
    {
      "cell_type": "markdown",
      "metadata": {
        "id": "XPVHkHxH6_7s"
      },
      "source": [
        "### Test 3  stress tests 6 testing cases files input4.txt/output4.txt .. input10.txt/output10.txt\n",
        "\n",
        "---\n",
        "\n"
      ]
    },
    {
      "cell_type": "code",
      "execution_count": 40,
      "metadata": {
        "id": "PwqpBmYr69fu",
        "colab": {
          "base_uri": "https://localhost:8080/"
        },
        "outputId": "832877c2-a245-4b5a-e5ec-6f9405cb2b57"
      },
      "outputs": [
        {
          "output_type": "stream",
          "name": "stdout",
          "text": [
            "Writing input4.txt\n"
          ]
        }
      ],
      "source": [
        "%%writefile input4.txt\n",
        "4\n",
        "7 12 23 34"
      ]
    },
    {
      "cell_type": "code",
      "source": [
        "%%writefile output4.txt\n",
        "782"
      ],
      "metadata": {
        "colab": {
          "base_uri": "https://localhost:8080/"
        },
        "id": "dZ1VAWH-IU0B",
        "outputId": "38640acb-0f7d-489e-cf03-aa81c67fcc82"
      },
      "execution_count": 41,
      "outputs": [
        {
          "output_type": "stream",
          "name": "stdout",
          "text": [
            "Writing output4.txt\n"
          ]
        }
      ]
    },
    {
      "cell_type": "code",
      "execution_count": 42,
      "metadata": {
        "id": "jBCkMeR6Fw4y",
        "colab": {
          "base_uri": "https://localhost:8080/"
        },
        "outputId": "0cfce8b6-804b-4095-8cf4-ce92fae7ccc5"
      },
      "outputs": [
        {
          "output_type": "stream",
          "name": "stdout",
          "text": [
            "Writing input5.txt\n"
          ]
        }
      ],
      "source": [
        "%%writefile input5.txt\n",
        "5\n",
        "2 4 6 8 10"
      ]
    },
    {
      "cell_type": "code",
      "source": [
        "%%writefile output5.txt\n",
        "80"
      ],
      "metadata": {
        "colab": {
          "base_uri": "https://localhost:8080/"
        },
        "id": "H7Q1nO8nIrpI",
        "outputId": "aacf3405-5cd3-446c-f83f-4b2a0b5fd968"
      },
      "execution_count": 43,
      "outputs": [
        {
          "output_type": "stream",
          "name": "stdout",
          "text": [
            "Writing output5.txt\n"
          ]
        }
      ]
    },
    {
      "cell_type": "code",
      "source": [
        "%%writefile input6.txt\n",
        "6\n",
        "15 30 45 60 75 90"
      ],
      "metadata": {
        "id": "zED8V8wu-eoM",
        "colab": {
          "base_uri": "https://localhost:8080/"
        },
        "outputId": "21a66d0e-c512-4079-941b-c15111a90341"
      },
      "execution_count": 44,
      "outputs": [
        {
          "output_type": "stream",
          "name": "stdout",
          "text": [
            "Writing input6.txt\n"
          ]
        }
      ]
    },
    {
      "cell_type": "code",
      "source": [
        "%%writefile output6.txt\n",
        "6750"
      ],
      "metadata": {
        "colab": {
          "base_uri": "https://localhost:8080/"
        },
        "id": "rwK019xfIt_B",
        "outputId": "162c4700-bc87-4799-dcb8-ca1c77ed7ff8"
      },
      "execution_count": 45,
      "outputs": [
        {
          "output_type": "stream",
          "name": "stdout",
          "text": [
            "Writing output6.txt\n"
          ]
        }
      ]
    },
    {
      "cell_type": "code",
      "source": [
        "%%writefile input7.txt\n",
        "7\n",
        "3 6 9 12 15 18 21"
      ],
      "metadata": {
        "colab": {
          "base_uri": "https://localhost:8080/"
        },
        "id": "Xc4t_bQRIL4C",
        "outputId": "51025d53-78d5-40bb-e9c2-90fa905546c5"
      },
      "execution_count": 46,
      "outputs": [
        {
          "output_type": "stream",
          "name": "stdout",
          "text": [
            "Writing input7.txt\n"
          ]
        }
      ]
    },
    {
      "cell_type": "code",
      "source": [
        "%%writefile output7.txt\n",
        "378"
      ],
      "metadata": {
        "colab": {
          "base_uri": "https://localhost:8080/"
        },
        "id": "3Hv_fAscIwiM",
        "outputId": "22c28ded-2b1c-43ac-a99c-b76e650b200b"
      },
      "execution_count": 47,
      "outputs": [
        {
          "output_type": "stream",
          "name": "stdout",
          "text": [
            "Writing output7.txt\n"
          ]
        }
      ]
    },
    {
      "cell_type": "code",
      "source": [
        "%%writefile input8.txt\n",
        "8\n",
        "11 22 33 44 55 66 77 88"
      ],
      "metadata": {
        "colab": {
          "base_uri": "https://localhost:8080/"
        },
        "id": "rxRvNMW6IMxK",
        "outputId": "9cd76e5d-b322-416e-a582-87226fc35355"
      },
      "execution_count": 48,
      "outputs": [
        {
          "output_type": "stream",
          "name": "stdout",
          "text": [
            "Writing input8.txt\n"
          ]
        }
      ]
    },
    {
      "cell_type": "code",
      "source": [
        "%%writefile output8.txt\n",
        "6776"
      ],
      "metadata": {
        "colab": {
          "base_uri": "https://localhost:8080/"
        },
        "id": "zxiBibZhIyPD",
        "outputId": "378a07bf-042d-4c26-bf41-75325429a599"
      },
      "execution_count": 49,
      "outputs": [
        {
          "output_type": "stream",
          "name": "stdout",
          "text": [
            "Writing output8.txt\n"
          ]
        }
      ]
    },
    {
      "cell_type": "code",
      "source": [
        "%%writefile input9.txt\n",
        "9\n",
        "5 10 15 20 25 30 35 40 45"
      ],
      "metadata": {
        "colab": {
          "base_uri": "https://localhost:8080/"
        },
        "id": "gNyylwnbINay",
        "outputId": "6c1e79a6-8c93-48a7-af0a-b3fd174cf2ed"
      },
      "execution_count": 50,
      "outputs": [
        {
          "output_type": "stream",
          "name": "stdout",
          "text": [
            "Writing input9.txt\n"
          ]
        }
      ]
    },
    {
      "cell_type": "code",
      "source": [
        "%%writefile output9.txt\n",
        "1800"
      ],
      "metadata": {
        "colab": {
          "base_uri": "https://localhost:8080/"
        },
        "id": "GRQbR0TTIzfz",
        "outputId": "1cf10b58-6a92-4dd2-ae03-d905c60a2625"
      },
      "execution_count": 51,
      "outputs": [
        {
          "output_type": "stream",
          "name": "stdout",
          "text": [
            "Writing output9.txt\n"
          ]
        }
      ]
    },
    {
      "cell_type": "code",
      "source": [
        "%%writefile input10.txt\n",
        "10\n",
        "1 2 3 4 5 6 7 8 9 10"
      ],
      "metadata": {
        "colab": {
          "base_uri": "https://localhost:8080/"
        },
        "id": "UTamt_w8IMY5",
        "outputId": "c65bffe0-0364-4f55-b178-a7beec27df59"
      },
      "execution_count": 52,
      "outputs": [
        {
          "output_type": "stream",
          "name": "stdout",
          "text": [
            "Writing input10.txt\n"
          ]
        }
      ]
    },
    {
      "cell_type": "code",
      "source": [
        "%%writefile output10.txt\n",
        "90"
      ],
      "metadata": {
        "colab": {
          "base_uri": "https://localhost:8080/"
        },
        "id": "7sgaUPc_I0rv",
        "outputId": "14ddc405-6d31-44ba-d8ce-31ca9f5bc5fe"
      },
      "execution_count": 53,
      "outputs": [
        {
          "output_type": "stream",
          "name": "stdout",
          "text": [
            "Writing output10.txt\n"
          ]
        }
      ]
    },
    {
      "cell_type": "code",
      "source": [
        "%%writefile stress_test.sh\n",
        "#!/bin/bash\n",
        "g++ max_pairwise_product_long_full.cpp -o max_pairwise_product_long_full\n",
        "\n",
        "for i in {4..10}\n",
        "do\n",
        "    ./max_pairwise_product_long_full < input$i.txt > output$i.txt\n",
        "done"
      ],
      "metadata": {
        "id": "XLDKibHXJTo2",
        "colab": {
          "base_uri": "https://localhost:8080/"
        },
        "outputId": "29962129-355a-4cc8-e06c-3a91de3096ac"
      },
      "execution_count": 54,
      "outputs": [
        {
          "output_type": "stream",
          "name": "stdout",
          "text": [
            "Writing stress_test.sh\n"
          ]
        }
      ]
    },
    {
      "cell_type": "markdown",
      "metadata": {
        "id": "9z9yr5QkeyJF"
      },
      "source": [
        "### Test 4  time test  measure the execution time running with the the largest worst cases input11.txt  (200000 increasing numbers) and inoput12.txt (199998 increasing numbers and  200000, 200000 at the end)"
      ]
    },
    {
      "cell_type": "code",
      "source": [
        "# input11.txt 200000 increasing numbers:  1 2 .. 200000\n",
        "\n",
        "%%writefile WriteTest.cpp\n",
        "\n",
        "#include <iostream>\n",
        "#include <fstream>\n",
        "#include <cstdlib>\n",
        "\n",
        "using namespace std;\n",
        "\n",
        "int main() {\n",
        "  // Create and open a text file\n",
        "  ofstream MyFile(\"input11.txt\");\n",
        "\n",
        " MyFile << 200000 <<\"\\n\";  // n\n",
        " for (int i=1; i <200001; i++){\n",
        "     MyFile << i <<\" \";\n",
        " }\n",
        "\n",
        "  // Close the file\n",
        "  MyFile.close();\n",
        "}"
      ],
      "metadata": {
        "colab": {
          "base_uri": "https://localhost:8080/"
        },
        "id": "UmB1ipWM_nSk",
        "outputId": "964a1980-5c82-444c-87e3-3c77362003d1"
      },
      "execution_count": 144,
      "outputs": [
        {
          "output_type": "stream",
          "name": "stdout",
          "text": [
            "Overwriting WriteTest.cpp\n"
          ]
        }
      ]
    },
    {
      "cell_type": "code",
      "execution_count": 145,
      "metadata": {
        "id": "EH25TkOkZfD9"
      },
      "outputs": [],
      "source": [
        "!g++ WriteTest.cpp -o WriteTest\n",
        "!./WriteTest"
      ]
    },
    {
      "cell_type": "code",
      "source": [
        "199999 * 200000"
      ],
      "metadata": {
        "colab": {
          "base_uri": "https://localhost:8080/"
        },
        "id": "j0mokSOnCCtZ",
        "outputId": "f2b316af-a5c1-4007-dcd0-5c490b0d257c"
      },
      "execution_count": 57,
      "outputs": [
        {
          "output_type": "execute_result",
          "data": {
            "text/plain": [
              "39999800000"
            ]
          },
          "metadata": {},
          "execution_count": 57
        }
      ]
    },
    {
      "cell_type": "code",
      "source": [
        "%%writefile output11.txt\n",
        "39999800000"
      ],
      "metadata": {
        "id": "VoDhDV73B5Mo",
        "colab": {
          "base_uri": "https://localhost:8080/"
        },
        "outputId": "42b013df-6ebf-45a7-b767-9c6a78841180"
      },
      "execution_count": 58,
      "outputs": [
        {
          "output_type": "stream",
          "name": "stdout",
          "text": [
            "Writing output11.txt\n"
          ]
        }
      ]
    },
    {
      "cell_type": "code",
      "execution_count": 59,
      "metadata": {
        "colab": {
          "base_uri": "https://localhost:8080/"
        },
        "id": "oLiMjbAIfPlX",
        "outputId": "a59b5888-4b77-4863-f2db-e2e8669f1d26"
      },
      "outputs": [
        {
          "output_type": "stream",
          "name": "stdout",
          "text": [
            "Overwriting WriteTest.cpp\n"
          ]
        }
      ],
      "source": [
        "# input12.txt 200000 decreasing numbers and 200000, 199999 ...  2 1\n",
        "\n",
        "%%writefile WriteTest.cpp\n",
        "\n",
        "#include <iostream>\n",
        "#include <fstream>\n",
        "#include <cstdlib>\n",
        "\n",
        "using namespace std;\n",
        "\n",
        "int main() {\n",
        "  // Create and open a text file\n",
        "  ofstream MyFile(\"input12.txt\");\n",
        "\n",
        " MyFile << 200000 <<\"\\n\";  // n\n",
        " for (int i=1; i <200001; i++){\n",
        "     MyFile << 200001-i <<\" \";\n",
        " }\n",
        "\n",
        "  // Close the file\n",
        "  MyFile.close();\n",
        "}"
      ]
    },
    {
      "cell_type": "code",
      "source": [
        "!g++ WriteTest.cpp -o WriteTest\n",
        "!./WriteTest"
      ],
      "metadata": {
        "id": "oULNBr_zAd9c"
      },
      "execution_count": 60,
      "outputs": []
    },
    {
      "cell_type": "code",
      "source": [
        "%%writefile output12.txt\n",
        "39999800000"
      ],
      "metadata": {
        "colab": {
          "base_uri": "https://localhost:8080/"
        },
        "id": "PQLyocaFB-y4",
        "outputId": "daa798e6-0c6d-42ad-8b7d-13e652c4dacd"
      },
      "execution_count": 61,
      "outputs": [
        {
          "output_type": "stream",
          "name": "stdout",
          "text": [
            "Writing output12.txt\n"
          ]
        }
      ]
    },
    {
      "cell_type": "markdown",
      "metadata": {
        "id": "JB6f03qO-lj9"
      },
      "source": [
        "Measure time\n",
        "\n",
        "https://askubuntu.com/questions/53444/how-can-i-measure-the-execution-time-of-a-terminal-process"
      ]
    },
    {
      "cell_type": "code",
      "execution_count": 148,
      "metadata": {
        "colab": {
          "base_uri": "https://localhost:8080/"
        },
        "id": "6p2QLEr576zk",
        "outputId": "cecf9a16-dd5b-4d0d-992b-c8410405fdc7"
      },
      "outputs": [
        {
          "output_type": "stream",
          "name": "stdout",
          "text": [
            "2147483646\n",
            "\n",
            "real\t5m4.933s\n",
            "user\t5m2.523s\n",
            "sys\t0m0.116s\n"
          ]
        }
      ],
      "source": [
        "!g++ max_pairwise_product_long_full.cpp -o max_pairwise_product_long_full\n",
        "!time ./max_pairwise_product_long_full< input11.txt"
      ]
    },
    {
      "cell_type": "code",
      "source": [
        "!g++ max_pairwise_product_long_full.cpp -o max_pairwise_product_long_full\n",
        "!time ./max_pairwise_product_long_full< input12.txt"
      ],
      "metadata": {
        "colab": {
          "base_uri": "https://localhost:8080/"
        },
        "id": "cnjCyeUdAnZj",
        "outputId": "096892fd-a9aa-47d7-a09e-276cb343c9e1"
      },
      "execution_count": 149,
      "outputs": [
        {
          "output_type": "stream",
          "name": "stdout",
          "text": [
            "2147483646\n",
            "\n",
            "real\t5m5.841s\n",
            "user\t5m3.407s\n",
            "sys\t0m0.131s\n"
          ]
        }
      ]
    },
    {
      "cell_type": "markdown",
      "metadata": {
        "id": "FXClpBsUJuXC"
      },
      "source": [
        "##### Calculate the number or and upper bound to the number of instructions executed by the algorithm as a function of n, add in each line a comment with the number of instructions that are executed in that line."
      ]
    },
    {
      "cell_type": "code",
      "execution_count": 64,
      "metadata": {
        "colab": {
          "base_uri": "https://localhost:8080/"
        },
        "id": "uG6Mv-Pwlkii",
        "outputId": "bf8fe1af-ab5f-4d91-ecfd-beae773f2404"
      },
      "outputs": [
        {
          "output_type": "stream",
          "name": "stdout",
          "text": [
            "Overwriting max_pairwise_product_long_full.cpp\n"
          ]
        }
      ],
      "source": [
        "%%writefile max_pairwise_product_long_full.cpp\n",
        "#include <iostream>\n",
        "#include <vector>\n",
        "#include <algorithm>\n",
        "\n",
        "long long MaxPairwiseProduct(const std::vector<int>& numbers) {              //N inst exec by line executed\n",
        "    long long max_product = 0LL;                                             //1\n",
        "\t  long long aux_product = 0LL;                                             //1\n",
        "    int n = numbers.size();                                                  //1\n",
        "\n",
        "    for (int first = 0; first < n; ++first) {                                //1+2n\n",
        "        for (int second = 0; second < n; ++second) {                         //n + 2n**2\n",
        "          if ( first != second ){                                            //n**2\n",
        "                aux_product = numbers[first] * numbers[second];              //n**2 -n\n",
        "                if (aux_product > max_product)                               //n**2 -n\n",
        "                    max_product = aux_product;                               //[1, n**2/2 - n/2] upper bound\n",
        "          }\n",
        "        }\n",
        "    }\n",
        "\n",
        "                                                                             // --------------\n",
        "    return max_product;                                                      // 4 + n + [5*n**2+1, 11*n**2/2  - n/2]  upper bound\n",
        "}\n",
        "\n",
        "int main() {                                              //N inst exec by line executed\n",
        "    int n;                                                //1\n",
        "    std::cin >> n;                                        //1\n",
        "    std::vector<int> numbers(n);                          //n\n",
        "    for (int i = 0; i < n; ++i) {                         //1 + 2n\n",
        "        std::cin >> numbers[i];                           //n\n",
        "    }\n",
        "\n",
        "    std::cout << MaxPairwiseProduct(numbers) << \"\\n\";     //1 + 1  + 4 + n + [5*n**2+1, 11*n**2/2  - n/2]\n",
        "\n",
        "    return 0;                                             // --------------\n",
        "}                                                         //  9 + 5*n + [5*n**2+1, 11*n**2/2  - n/2]  upper bound\n"
      ]
    },
    {
      "cell_type": "markdown",
      "metadata": {
        "id": "0vTsUg8OwcHs"
      },
      "source": [
        "Count executed intructions in code"
      ]
    },
    {
      "cell_type": "code",
      "execution_count": 65,
      "metadata": {
        "colab": {
          "base_uri": "https://localhost:8080/"
        },
        "id": "CuRKkqQc137V",
        "outputId": "f364fc25-7711-49c6-fb84-a3abc35f231a"
      },
      "outputs": [
        {
          "output_type": "stream",
          "name": "stdout",
          "text": [
            "Writing max_pairwise_product_long_full_execints.cpp\n"
          ]
        }
      ],
      "source": [
        "%%writefile max_pairwise_product_long_full_execints.cpp\n",
        "#include <iostream>\n",
        "#include <vector>\n",
        "#include <algorithm>\n",
        "\n",
        "long long MaxPairwiseProduct(const std::vector<int>& numbers, long long &execints) {              //N inst exec by line executed\n",
        "\n",
        "    long long max_product = 0LL;                                             //1\n",
        "    execints++;\n",
        "\n",
        "\t  long long aux_product = 0LL;                                             //1\n",
        "    execints++;\n",
        "\n",
        "    int n = numbers.size();                                                  //1\n",
        "    execints++;\n",
        "\n",
        "    execints++;\n",
        "    for (int first = 0; first < n; ++first) {                                //1+2n\n",
        "        execints += 2;\n",
        "\n",
        "        execints++;\n",
        "        for (int second = 0; second < n; ++second) {                         //n + 2n**2\n",
        "          execints += 2;\n",
        "\n",
        "          execints++;\n",
        "          if ( first != second ){                                            //n**2\n",
        "                aux_product = numbers[first] * numbers[second];              //n**2 -n\n",
        "                execints++;\n",
        "\n",
        "                execints++;\n",
        "                if (aux_product > max_product){                               //n**2 -n\n",
        "                    max_product = aux_product;                               //[1,n**2/2 - n/2]  upper bound\n",
        "                    execints++;\n",
        "\n",
        "                }\n",
        "        }\n",
        "      }\n",
        "    }\n",
        "                                                                            // --------------\n",
        "    return max_product;                                                     // 4 + n + [5*n**2+1, 11*n**2/2  - n/2] upper bound\n",
        "}\n",
        "\n",
        "int main() {                                                 //N inst exec by line executed\n",
        "\n",
        "    long long execints =0LL;\n",
        "\n",
        "    int n;                                                   //1\n",
        "    execints++;\n",
        "\n",
        "    std::cin >> n;                                           //1\n",
        "    execints++;\n",
        "\n",
        "    std::vector<int> numbers(n);                             //n\n",
        "    execints += n;\n",
        "\n",
        "    execints++;\n",
        "    for (int i = 0; i < n; ++i) {                            //1 + 2n\n",
        "        execints += 2;\n",
        "\n",
        "        std::cin >> numbers[i];\n",
        "        execints++;                                          //n\n",
        "\n",
        "    }\n",
        "\n",
        "\n",
        "\n",
        "    //std::cout << MaxPairwiseProduct(numbers) << \"\\n\";      //1 + 1  + 4 + n + [5*n**2+1, 11*n**2/2  - n/2] upper bound\n",
        "\n",
        "\n",
        "    execints++;\n",
        "    int M = MaxPairwiseProduct(numbers,execints);\n",
        "\n",
        "    execints++;\n",
        "    std::cout <<  execints << \"\\n\";\n",
        "    return 0;                                                // --------------\n",
        "}                                                            // 9 + 5*n + [5*n**2+1, 11*n**2/2  - n/2]"
      ]
    },
    {
      "cell_type": "markdown",
      "source": [
        "The number of instructions executed by the algooirithm with a list of size $n$ is  \n",
        "\n",
        "$$T (n) = 9 + 5n + \\left[5n^2+1, 11\\frac{n^2}{2}  - \\frac{n}{2}\\right] \\ \\  \\text{upper bound}$$\n",
        "\n",
        "It depends on the size of the lists and  the order of the list.\n",
        "\n",
        "For the input1.txt\n",
        "```\n",
        "10\n",
        "1 2 3 4 5 6 7 8 9 10\n",
        "```\n",
        "$$T = 9 + 5(10) + 5(10)(10) +  9 + 5 + 4 + 3 + 2 + 2 + 2 + 2 + 1 + 0  = 589 $$\n",
        "\n",
        "$$T(10) \\in [560, 604]  $$\n"
      ],
      "metadata": {
        "id": "cUjHtvtdDsmr"
      }
    },
    {
      "cell_type": "code",
      "source": [
        "#The number of times that  max_product = aux_product; in the worst case is less than (n**2 -n)/2 -  upper bound\n",
        "\n",
        "   1  2  3  4  5  6  7  8  9  10\n",
        "1  x  2  3  4  5  6  7  8  9  10         9\n",
        "2  2  x  6  8  10 12 14 16 18 20         5 14\n",
        "3  3  6  x  12 15 18 21 24 27 30         4 18\n",
        "4  4  8  12 x  20 24 28 32 36 40         3 21\n",
        "5  5  10 15 20 x  30 35 40 45 50         2 23\n",
        "6  6  12 18 24 30 x  42 48 54 60         2 25\n",
        "7  7  14 21 28 35 42 x  56 63 70         2 27\n",
        "8  8  18 27 36 45 54 63 72 x  90         1 30\n",
        "10 10 20 30 40 50 60 70 60 90 x          0"
      ],
      "metadata": {
        "id": "K59xQMWiBNFj",
        "colab": {
          "base_uri": "https://localhost:8080/",
          "height": 140
        },
        "outputId": "39747b04-e265-4dbe-fac9-8738ac1620c9"
      },
      "execution_count": 66,
      "outputs": [
        {
          "output_type": "error",
          "ename": "IndentationError",
          "evalue": "ignored",
          "traceback": [
            "\u001b[0;36m  File \u001b[0;32m\"<ipython-input-66-f6ebb1ba87e9>\"\u001b[0;36m, line \u001b[0;32m3\u001b[0m\n\u001b[0;31m    1  2  3  4  5  6  7  8  9  10\u001b[0m\n\u001b[0m    ^\u001b[0m\n\u001b[0;31mIndentationError\u001b[0m\u001b[0;31m:\u001b[0m unexpected indent\n"
          ]
        }
      ]
    },
    {
      "cell_type": "code",
      "source": [
        "9 + 5*(10) + 5*(10)*(10) +  9 + 5 + 4 + 3 + 2 + 2 + 2 + 2 + 1 + 0"
      ],
      "metadata": {
        "colab": {
          "base_uri": "https://localhost:8080/"
        },
        "id": "E3O8dzFfEgir",
        "outputId": "82db452c-8aee-4250-e011-4e55457e42fe"
      },
      "execution_count": 67,
      "outputs": [
        {
          "output_type": "execute_result",
          "data": {
            "text/plain": [
              "589"
            ]
          },
          "metadata": {},
          "execution_count": 67
        }
      ]
    },
    {
      "cell_type": "code",
      "source": [
        "n = 10\n",
        "print( 9 + 5*n + 5*n**2+1,  9 + 5*n + 11*n**2/2  - n/2)"
      ],
      "metadata": {
        "colab": {
          "base_uri": "https://localhost:8080/"
        },
        "id": "TCpdl5u_Gq1a",
        "outputId": "54f05b0d-ae33-4257-baf4-98274cf0be6a"
      },
      "execution_count": 68,
      "outputs": [
        {
          "output_type": "stream",
          "name": "stdout",
          "text": [
            "560 604.0\n"
          ]
        }
      ]
    },
    {
      "cell_type": "code",
      "execution_count": 69,
      "metadata": {
        "colab": {
          "base_uri": "https://localhost:8080/"
        },
        "id": "Kuvm1C05ly2a",
        "outputId": "7aff1a1a-d261-4748-a95a-dffd51c5e4b0"
      },
      "outputs": [
        {
          "output_type": "stream",
          "name": "stdout",
          "text": [
            "589\n"
          ]
        }
      ],
      "source": [
        "!g++ max_pairwise_product_long_full_execints.cpp -o max_pairwise_product_long_full_execints\n",
        "!./max_pairwise_product_long_full_execints < input1.txt"
      ]
    },
    {
      "cell_type": "markdown",
      "source": [
        "\n",
        "For the input2.txt\n",
        "```\n",
        "10\n",
        "10 9 8 7 6 5 4 3 2 1\n",
        "```\n",
        "$$T = 9 + 5*(10) + 5*(10)**2 +  1  = 560 $$"
      ],
      "metadata": {
        "id": "Yr_Lb7CaHfxB"
      }
    },
    {
      "cell_type": "code",
      "source": [
        "9 + 5*(10) + 5*(10)**2 +  1"
      ],
      "metadata": {
        "colab": {
          "base_uri": "https://localhost:8080/"
        },
        "id": "HOdqlwJiZUIp",
        "outputId": "8eb5e7bb-135e-4660-ee0e-361d9829c392"
      },
      "execution_count": 70,
      "outputs": [
        {
          "output_type": "execute_result",
          "data": {
            "text/plain": [
              "560"
            ]
          },
          "metadata": {},
          "execution_count": 70
        }
      ]
    },
    {
      "cell_type": "code",
      "source": [
        "!g++ max_pairwise_product_long_full_execints.cpp -o max_pairwise_product_long_full_execints\n",
        "!./max_pairwise_product_long_full_execints < input4.txt\n",
        "n= 10"
      ],
      "metadata": {
        "id": "_znzLectjFSe",
        "colab": {
          "base_uri": "https://localhost:8080/"
        },
        "outputId": "34e985b7-da16-4e99-c361-457e165f6fa8"
      },
      "execution_count": 71,
      "outputs": [
        {
          "output_type": "stream",
          "name": "stdout",
          "text": [
            "115\n"
          ]
        }
      ]
    },
    {
      "cell_type": "markdown",
      "metadata": {
        "id": "L_uaamxeAHK7"
      },
      "source": [
        "\n",
        "For the input12.txt\n",
        "```\n",
        "200000\n",
        "200000  199999 ... 2 1\n",
        "```\n",
        "$$T = 9 + 5*(200000) + 5*(200000)**2 +1  = 200001000010 $$\n",
        "\n"
      ]
    },
    {
      "cell_type": "code",
      "source": [
        "9 + 5*(200000) + 5*(200000)**2 +1"
      ],
      "metadata": {
        "colab": {
          "base_uri": "https://localhost:8080/"
        },
        "id": "c7X-ewmeXe-h",
        "outputId": "a47aff0e-6d55-495f-d3fa-8bf27c6e67ac"
      },
      "execution_count": 72,
      "outputs": [
        {
          "output_type": "execute_result",
          "data": {
            "text/plain": [
              "200001000010"
            ]
          },
          "metadata": {},
          "execution_count": 72
        }
      ]
    },
    {
      "cell_type": "markdown",
      "metadata": {
        "id": "NXW7QkoBL6xH"
      },
      "source": [
        "Calculate estimated time by instruction and number of instructions by second"
      ]
    },
    {
      "cell_type": "code",
      "source": [
        "!g++ max_pairwise_product_long_full_execints.cpp -o max_pairwise_product_long_full_execints\n",
        "!./max_pairwise_product_long_full_execints < input12.txt\n"
      ],
      "metadata": {
        "colab": {
          "base_uri": "https://localhost:8080/"
        },
        "id": "BMH8mF3EKn2w",
        "outputId": "067c8308-abcf-4908-e844-3c8a2e725631"
      },
      "execution_count": 73,
      "outputs": [
        {
          "output_type": "stream",
          "name": "stdout",
          "text": [
            "115\n",
            "200000 200000  199999 ... 2 1\n",
            "^C\n"
          ]
        }
      ]
    },
    {
      "cell_type": "code",
      "execution_count": 74,
      "metadata": {
        "colab": {
          "base_uri": "https://localhost:8080/"
        },
        "id": "pKqB3i7dIxnc",
        "outputId": "d32f8a8c-cc53-4fcc-a7ff-79d6cd9d2339"
      },
      "outputs": [
        {
          "output_type": "execute_result",
          "data": {
            "text/plain": [
              "1.5299923499617505e-09"
            ]
          },
          "metadata": {},
          "execution_count": 74
        }
      ],
      "source": [
        "# Estimated time by instruction\n",
        "\n",
        "306/200001000010\n"
      ]
    },
    {
      "cell_type": "code",
      "execution_count": 75,
      "metadata": {
        "colab": {
          "base_uri": "https://localhost:8080/"
        },
        "id": "18N1ouqeMhE1",
        "outputId": "0b6d2400-a5c5-4f1f-b970-572caaba3c8d"
      },
      "outputs": [
        {
          "output_type": "execute_result",
          "data": {
            "text/plain": [
              "653598039.248366"
            ]
          },
          "metadata": {},
          "execution_count": 75
        }
      ],
      "source": [
        "# Estimated number of instructions by second\n",
        "\n",
        "1/(306/200001000010)"
      ]
    },
    {
      "cell_type": "markdown",
      "source": [
        "# Estimate the maximun n that can be solved in 1 second\n",
        "\n",
        "$$5n^2 \\times 1.53*10^{-9} s = 1s$$\n",
        "\n",
        "$$ n \\approx 11000$$\n"
      ],
      "metadata": {
        "id": "KyuxejFkL5X_"
      }
    },
    {
      "cell_type": "code",
      "source": [
        "# Verify input13.txt\n",
        "%%writefile WriteTest.cpp\n",
        "\n",
        "#include <iostream>\n",
        "#include <fstream>\n",
        "#include <cstdlib>\n",
        "\n",
        "using namespace std;\n",
        "\n",
        "int main() {\n",
        "  // Create and open a text file\n",
        "  ofstream MyFile(\"input13.txt\");\n",
        "\n",
        " MyFile << 11000 <<\"\\n\";  // n\n",
        " for (int i=1; i <11001; i++){\n",
        "     MyFile << i <<\" \";\n",
        " }\n",
        "\n",
        "  // Close the file\n",
        "  MyFile.close();\n",
        "}"
      ],
      "metadata": {
        "colab": {
          "base_uri": "https://localhost:8080/"
        },
        "id": "WXu5jp-DLTOI",
        "outputId": "a2248c71-99bd-4f33-c24f-ed6039ba157e"
      },
      "execution_count": 76,
      "outputs": [
        {
          "output_type": "stream",
          "name": "stdout",
          "text": [
            "Overwriting WriteTest.cpp\n"
          ]
        }
      ]
    },
    {
      "cell_type": "code",
      "source": [
        "!g++ WriteTest.cpp -o WriteTest\n",
        "!./WriteTest"
      ],
      "metadata": {
        "id": "AQ8N52pUMCeT"
      },
      "execution_count": 77,
      "outputs": []
    },
    {
      "cell_type": "code",
      "source": [
        "!g++ max_pairwise_product_long_full.cpp -o max_pairwise_product_long_full\n",
        "!time ./max_pairwise_product_long_full< input13.txt"
      ],
      "metadata": {
        "colab": {
          "base_uri": "https://localhost:8080/"
        },
        "id": "ussuAokfM2du",
        "outputId": "a85a076d-21be-4233-caae-0db3d19115f8"
      },
      "execution_count": 78,
      "outputs": [
        {
          "output_type": "stream",
          "name": "stdout",
          "text": [
            "120989000\n",
            "\n",
            "real\t0m0.869s\n",
            "user\t0m0.857s\n",
            "sys\t0m0.001s\n"
          ]
        }
      ]
    },
    {
      "cell_type": "markdown",
      "metadata": {
        "id": "Tm_AVmt-QQH4"
      },
      "source": [
        "## Python"
      ]
    },
    {
      "cell_type": "code",
      "execution_count": 79,
      "metadata": {
        "id": "gRCCcd7IQTKZ",
        "colab": {
          "base_uri": "https://localhost:8080/"
        },
        "outputId": "d2b5ebdf-c967-4449-da49-fdadaa4b8db9"
      },
      "outputs": [
        {
          "output_type": "stream",
          "name": "stdout",
          "text": [
            "Writing WriteTestPython.py\n"
          ]
        }
      ],
      "source": [
        "%%writefile WriteTestPython.py\n",
        "#Python3\n",
        "if __name__ == \"__main__\":\n",
        "    with open(\"input14.txt\", \"w\") as f:\n",
        "        f.write(\"11000\\n\")\n",
        "        for i in range(1, 11001):\n",
        "            f.write(f\"{i} \")"
      ]
    },
    {
      "cell_type": "code",
      "execution_count": 80,
      "metadata": {
        "id": "kAEAoNZEQTCw"
      },
      "outputs": [],
      "source": [
        "!python WriteTestPython.py"
      ]
    },
    {
      "cell_type": "code",
      "execution_count": 81,
      "metadata": {
        "id": "hjw7TJrDL0d-",
        "colab": {
          "base_uri": "https://localhost:8080/"
        },
        "outputId": "a99b91a9-8a23-4aa8-a3d5-948eaa520c7c"
      },
      "outputs": [
        {
          "output_type": "stream",
          "name": "stdout",
          "text": [
            "120989000\n",
            "\n",
            "real\t0m1.531s\n",
            "user\t0m1.460s\n",
            "sys\t0m0.002s\n"
          ]
        }
      ],
      "source": [
        "# Verify\n",
        "!g++ max_pairwise_product_long_full.cpp -o max_pairwise_product_long_full\n",
        "!time ./max_pairwise_product_long_full < input14.txt"
      ]
    },
    {
      "cell_type": "markdown",
      "metadata": {
        "id": "MKQKSC-vKePK"
      },
      "source": [
        "## Perform the same analysis for an algorithm in C++ and Python that uses\n",
        "$$\\frac{n^2 - n}{2} = O(n^2)\\ \\ \\text{products}$$"
      ]
    },
    {
      "cell_type": "markdown",
      "source": [
        "ALGORITMO 2"
      ],
      "metadata": {
        "id": "JYdnS4Kv01X-"
      }
    },
    {
      "cell_type": "code",
      "execution_count": 82,
      "metadata": {
        "id": "jkkHHoxSK65p",
        "colab": {
          "base_uri": "https://localhost:8080/"
        },
        "outputId": "34afa215-c61d-4359-f926-6583965c233e"
      },
      "outputs": [
        {
          "output_type": "stream",
          "name": "stdout",
          "text": [
            "Writing max_pairwise_product.cpp\n"
          ]
        }
      ],
      "source": [
        "%%writefile max_pairwise_product.cpp\n",
        "#include <iostream>\n",
        "#include <vector>\n",
        "#include <algorithm>\n",
        "\n",
        "int MaxPairwiseProduct(const std::vector<int>& numbers) {\n",
        "    int max_product = 0;\n",
        "    int n = numbers.size();\n",
        "\n",
        "    for (int first = 0; first < n; ++first) {\n",
        "        for (int second = first + 1; second < n; ++second) {\n",
        "            max_product = std::max(max_product,\n",
        "                numbers[first] * numbers[second]);\n",
        "        }\n",
        "    }\n",
        "\n",
        "    return max_product;\n",
        "}\n",
        "\n",
        "int main() {\n",
        "    int n;\n",
        "    std::cin >> n;\n",
        "    std::vector<int> numbers(n);\n",
        "    for (int i = 0; i < n; ++i) {\n",
        "        std::cin >> numbers[i];\n",
        "    }\n",
        "\n",
        "    std::cout << MaxPairwiseProduct(numbers) << \"\\n\";\n",
        "    return 0;\n",
        "}"
      ]
    },
    {
      "cell_type": "code",
      "execution_count": 83,
      "metadata": {
        "id": "sU8-Ote7K8vz",
        "colab": {
          "base_uri": "https://localhost:8080/"
        },
        "outputId": "c125be7e-5fa2-46f2-9acd-6a5f0867aa29"
      },
      "outputs": [
        {
          "output_type": "stream",
          "name": "stdout",
          "text": [
            "Writing max_pairwise_product_long.cpp\n"
          ]
        }
      ],
      "source": [
        "%%writefile max_pairwise_product_long.cpp\n",
        "#include <iostream>\n",
        "#include <vector>\n",
        "#include <algorithm>\n",
        "\n",
        "long long MaxPairwiseProduct(const std::vector<int>& numbers) {              //N inst exec by line executed\n",
        "    long long max_product = 0LL;                                             //1\n",
        "\t  long long aux_product = 0LL;                                             //1\n",
        "    int n = numbers.size();                                                  //1\n",
        "\n",
        "    for (int first = 0; first < n; ++first) {                                //1+2n\n",
        "        for (int second = first + 1; second < n; ++second) {                 //n + (n-1)n\n",
        "\t\t\t       aux_product =  (long long) numbers[first] * numbers[second];    //(n-1)n/2\n",
        "            if (max_product < aux_product)  {                                //(n-1)n/2\n",
        "\t\t\t\t        max_product = aux_product;                                   //[0, (n-1)n/2]\n",
        "             }\n",
        "        }\n",
        "    }\n",
        "                                                                             // --------------\n",
        "    return max_product;                                                      // 4 + 3n + [2(n-1)n, 2.5 (n-1)n] upper bound\n",
        "}\n",
        "\n",
        "int main() {                                              //N inst exec by line executed\n",
        "    int n;                                                //1\n",
        "    std::cin >> n;                                        //1\n",
        "    std::vector<int> numbers(n);                          //n\n",
        "    for (int i = 0; i < n; ++i) {                         //1 + 2n\n",
        "        std::cin >> numbers[i];                           //n\n",
        "    }\n",
        "\n",
        "    std::cout << MaxPairwiseProduct(numbers) << \"\\n\";     //1 + 1  + 4 + 3n + [2(n-1)n, 2.5 (n-1)n]\n",
        "    return 0;                                             // --------------\n",
        "}                                                         // 9 + 7n + [2(n-1)n, 2.5 (n-1)n] upper bound\n"
      ]
    },
    {
      "cell_type": "code",
      "execution_count": 150,
      "metadata": {
        "id": "5QWT3fneK8nw",
        "colab": {
          "base_uri": "https://localhost:8080/"
        },
        "outputId": "34de2cf0-8a0a-4b77-ead8-a24ebebec2c4"
      },
      "outputs": [
        {
          "output_type": "stream",
          "name": "stdout",
          "text": [
            "39999800000\n",
            "\n",
            "real\t2m20.733s\n",
            "user\t2m19.427s\n",
            "sys\t0m0.084s\n"
          ]
        }
      ],
      "source": [
        "!g++ max_pairwise_product_long.cpp -o max_pairwise_product_long\n",
        "!time ./max_pairwise_product_long < input11.txt"
      ]
    },
    {
      "cell_type": "code",
      "source": [
        "%%writefile stress_test.sh\n",
        "#!/bin/bash\n",
        "g++ max_pairwise_product_long_full.cpp -o max_pairwise_product_long_full\n",
        "\n",
        "for i in {1..10}\n",
        "do\n",
        "    ./max_pairwise_product_long_full < input$i.txt > output$i.txt\n",
        "done"
      ],
      "metadata": {
        "colab": {
          "base_uri": "https://localhost:8080/"
        },
        "id": "PPXZf85O1_v8",
        "outputId": "930947b6-8d33-44a9-dc00-bb09969c4551"
      },
      "execution_count": 85,
      "outputs": [
        {
          "output_type": "stream",
          "name": "stdout",
          "text": [
            "Overwriting stress_test.sh\n"
          ]
        }
      ]
    },
    {
      "cell_type": "code",
      "source": [
        "print(11 + 7*(200000) + 2*(200000)*(199999) + 1, 11 + 7*(200000) + 2.5*(200000)*(199999))"
      ],
      "metadata": {
        "colab": {
          "base_uri": "https://localhost:8080/"
        },
        "id": "nSQ-NYxw2JVZ",
        "outputId": "7c73b479-9be6-43f8-e5b4-e3e1af93efd2"
      },
      "execution_count": 86,
      "outputs": [
        {
          "output_type": "stream",
          "name": "stdout",
          "text": [
            "80001000012 100000900011.0\n"
          ]
        }
      ]
    },
    {
      "cell_type": "code",
      "source": [
        "# Estimated time by instruction\n",
        "\n",
        "141/200001000010"
      ],
      "metadata": {
        "colab": {
          "base_uri": "https://localhost:8080/"
        },
        "id": "cphLeX5D3NE4",
        "outputId": "dd4d032e-5d79-4e09-9b1d-04b168ec882e"
      },
      "execution_count": 87,
      "outputs": [
        {
          "output_type": "execute_result",
          "data": {
            "text/plain": [
              "7.049964749823752e-10"
            ]
          },
          "metadata": {},
          "execution_count": 87
        }
      ]
    },
    {
      "cell_type": "code",
      "source": [
        "# Estimated number of instructions by second\n",
        "\n",
        "1/(141/200001000010)"
      ],
      "metadata": {
        "colab": {
          "base_uri": "https://localhost:8080/"
        },
        "id": "aZROvLbV3BDz",
        "outputId": "e212d384-3eb2-43a3-ac78-44559c3d3a77"
      },
      "execution_count": 88,
      "outputs": [
        {
          "output_type": "execute_result",
          "data": {
            "text/plain": [
              "1418446808.5815604"
            ]
          },
          "metadata": {},
          "execution_count": 88
        }
      ]
    },
    {
      "cell_type": "code",
      "execution_count": 89,
      "metadata": {
        "id": "mxIVvm1RK8dB",
        "colab": {
          "base_uri": "https://localhost:8080/"
        },
        "outputId": "4c38fd5c-90ae-4a53-c067-257b427b2a61"
      },
      "outputs": [
        {
          "output_type": "stream",
          "name": "stdout",
          "text": [
            "Writing max_pairwise_product_n2_py.py\n"
          ]
        }
      ],
      "source": [
        "%%writefile max_pairwise_product_n2_py.py\n",
        "#Python3\n",
        "def max_pairwise_product(l):\n",
        "    max_product = 0\n",
        "    aux_product = 0\n",
        "    n = len(l)\n",
        "    for i in range(n):\n",
        "        for j in range(i + 1, n):\n",
        "            max_product = max(max_product, l[i] * l[j])\n",
        "\n",
        "    return max_product\n",
        "\n",
        "if __name__ == \"__main__\":\n",
        "    n = int(input())\n",
        "    l = list(map(int, input().split()))\n",
        "    print(max_pairwise_product(l))"
      ]
    },
    {
      "cell_type": "markdown",
      "metadata": {
        "id": "1Hsbd-uHOb_j"
      },
      "source": [
        "### Sort solution in C++ and Python\n",
        "\n",
        "$$ O(n \\lg n)$$\n",
        "\n",
        "**Which sorting algorithm is used in GCC?**\n",
        "https://stackoverflow.com/questions/7221257/which-sorting-algorithm-is-used-in-gcc\n",
        "\n",
        "* ...  the algorithm is called introsort, a combination between Insertionsort, Quicksort & Heapsort. ...\n",
        "\n",
        "**Introsort**\n",
        "https://en.wikipedia.org/wiki/Introsort\n",
        "\n",
        "Introsort or introspective sort is a hybrid sorting algorithm that provides both fast average performance and (asymptotically) optimal worst-case performance. It begins with quicksort, it switches to heapsort when the recursion depth exceeds a level based on (the logarithm of) the number of elements being sorted and it switches to insertion sort when the number of elements is below some threshold\n",
        "\n",
        "*   Class\tSorting algorithm\n",
        "*   Data structure\tArray\n",
        "*   Worst-case performance\t$O(n \\lg n)$\n",
        "*   Average performance\t$O(n \\lg n)$\n",
        "\n",
        "**Tinsort**\n",
        "https://en.wikipedia.org/wiki/Timsort\n",
        "\n",
        "Timsort is a hybrid, stable sorting algorithm, derived from merge sort and insertion sort, designed to perform well on many kinds of real-world data. It was implemented by Tim Peters in 2002 for use in the Python programming language.\n",
        "\n",
        "*   Class\tSorting algorithm\n",
        "*   Data structure\tArray\n",
        "*   Worst-case performance\t$O(n \\lg n)$\n",
        "*   Best-case performance $O(n)$\n",
        "*   Average performance\t$O(n \\lg n)$\n",
        "*   Worst-case space complexity $O(n)$"
      ]
    },
    {
      "cell_type": "markdown",
      "metadata": {
        "id": "WMUthAXjOb_k"
      },
      "source": [
        "Add in each line a coment with the number of intstrcution that are executed in that line"
      ]
    },
    {
      "cell_type": "markdown",
      "source": [
        "ALGORITMO 3"
      ],
      "metadata": {
        "id": "SNXRTbcJBLj1"
      }
    },
    {
      "cell_type": "code",
      "source": [
        "%%writefile max_pairwise_product_sort.cpp\n",
        "#include <iostream>\n",
        "#include <vector>\n",
        "#include <algorithm>\n",
        "\n",
        "int main(int argc, char* argv[]){\n",
        "    int n;                                                   //1\n",
        "    std::cin >> n;                                           //1\n",
        "    std::vector<int> v(n);                                   //n\n",
        "    for(int i = 0; i < n; i++){                              //1 + 2n\n",
        "        std::cin >> v[i];                                    //n\n",
        "    }\n",
        "\n",
        "    std::sort(v.begin(), v.end());                          //nlogn\n",
        "    std::cout << (long long) v[n - 1] * v[n - 2] << '\\n';   //2\n",
        "    return 0;\n",
        "}"
      ],
      "metadata": {
        "id": "DoclpTby9pdW",
        "colab": {
          "base_uri": "https://localhost:8080/"
        },
        "outputId": "8e0a28bf-b4ee-40ed-ba5f-2314704a74f1"
      },
      "execution_count": 90,
      "outputs": [
        {
          "output_type": "stream",
          "name": "stdout",
          "text": [
            "Writing max_pairwise_product_sort.cpp\n"
          ]
        }
      ]
    },
    {
      "cell_type": "code",
      "source": [
        "%%writefile max_pairwise_product_sort.py\n",
        "#Python3\n",
        "if __name__ == \"__main__\":\n",
        "    n = int(input())                                        #1\n",
        "    l = list(map(int, input().split()))                     #5n\n",
        "    l.sort()                                                #nlogn at least\n",
        "    print(l[n - 1] * l[n - 2])                              #2"
      ],
      "metadata": {
        "id": "EL1aHzDk9vBi",
        "colab": {
          "base_uri": "https://localhost:8080/"
        },
        "outputId": "28008228-2260-4cfa-8920-a77276710fa1"
      },
      "execution_count": 91,
      "outputs": [
        {
          "output_type": "stream",
          "name": "stdout",
          "text": [
            "Writing max_pairwise_product_sort.py\n"
          ]
        }
      ]
    },
    {
      "cell_type": "markdown",
      "metadata": {
        "id": "v8pdV9ABOb_k"
      },
      "source": [
        "Test with inputs 1 and 2\n",
        "\n"
      ]
    },
    {
      "cell_type": "code",
      "execution_count": 92,
      "metadata": {
        "id": "kdXAyLG4Ob_k",
        "colab": {
          "base_uri": "https://localhost:8080/"
        },
        "outputId": "74445412-0a09-498a-eb35-40263b8f9c92"
      },
      "outputs": [
        {
          "output_type": "stream",
          "name": "stdout",
          "text": [
            "90\n",
            "90\n"
          ]
        }
      ],
      "source": [
        "!g++ max_pairwise_product_sort.cpp -o max_pairwise_product_sort\n",
        "!./max_pairwise_product_sort < input1.txt   #Original array in input1.txt increasing order [1, 2, 3, 4, 5, 6, 7, 8, 9, 10]\n",
        "!./max_pairwise_product_sort < input2.txt   #Original array in input2.txt decreasing order [10, 9, 8, 7, 6, 5, 4, 3, 2, 1]"
      ]
    },
    {
      "cell_type": "code",
      "source": [
        "!python max_pairwise_product_sort.py < input1.txt\n",
        "!python max_pairwise_product_sort.py < input2.txt"
      ],
      "metadata": {
        "id": "MV5t4Wel9z8O",
        "colab": {
          "base_uri": "https://localhost:8080/"
        },
        "outputId": "43f13535-f396-4246-8f64-2c9ecde3f791"
      },
      "execution_count": 93,
      "outputs": [
        {
          "output_type": "stream",
          "name": "stdout",
          "text": [
            "90\n",
            "90\n"
          ]
        }
      ]
    },
    {
      "cell_type": "markdown",
      "metadata": {
        "id": "Sw-5X1q1Ob_k"
      },
      "source": [
        "Test and time it with input 3"
      ]
    },
    {
      "cell_type": "code",
      "execution_count": 94,
      "metadata": {
        "id": "ryHJ30WIOb_k",
        "colab": {
          "base_uri": "https://localhost:8080/"
        },
        "outputId": "3b0a12d7-f203-4566-d2d0-6e68a954cf7f"
      },
      "outputs": [
        {
          "output_type": "stream",
          "name": "stdout",
          "text": [
            "40000000000\n",
            "\n",
            "real\t0m0.004s\n",
            "user\t0m0.001s\n",
            "sys\t0m0.002s\n"
          ]
        }
      ],
      "source": [
        "!g++ max_pairwise_product_sort.cpp -o max_pairwise_product_sort\n",
        "!time ./max_pairwise_product_sort < input3.txt"
      ]
    },
    {
      "cell_type": "code",
      "source": [
        "%%time\n",
        " #Given in secs. *10^-3 ms\n",
        "!python max_pairwise_product_sort.py < input3.txt"
      ],
      "metadata": {
        "id": "COWpduIR938m",
        "colab": {
          "base_uri": "https://localhost:8080/"
        },
        "outputId": "6a38952f-468b-4c42-95af-8ed4ba5d38f5"
      },
      "execution_count": 95,
      "outputs": [
        {
          "output_type": "stream",
          "name": "stdout",
          "text": [
            "40000000000\n",
            "CPU times: user 4.49 ms, sys: 1.24 ms, total: 5.73 ms\n",
            "Wall time: 104 ms\n"
          ]
        }
      ]
    },
    {
      "cell_type": "markdown",
      "metadata": {
        "id": "oJGdPl1HOb_k"
      },
      "source": [
        "20 stress tests"
      ]
    },
    {
      "cell_type": "code",
      "execution_count": 96,
      "metadata": {
        "id": "pXHtO1dEOb_k",
        "colab": {
          "base_uri": "https://localhost:8080/"
        },
        "outputId": "6579439a-dac2-41f6-bf23-8b50721927a4"
      },
      "outputs": [
        {
          "output_type": "stream",
          "name": "stdout",
          "text": [
            "Writing stress_test_cpp.cpp\n"
          ]
        }
      ],
      "source": [
        "%%writefile stress_test_cpp.cpp\n",
        "#include <iostream>\n",
        "#include <vector>\n",
        "#include <algorithm>\n",
        "\n",
        "int main(int argc, char* argv[]){\n",
        "    for(int i = 0; i < 20; i++){\n",
        "        int n = rand() % 49 + 2;\n",
        "        std::vector<int> v(n);\n",
        "        for(int i = 0; i < n; i++){\n",
        "            v[i] = rand() % 1000 + 2;\n",
        "        }\n",
        "        std::sort(v.begin(), v.end());\n",
        "        std::cout << \"n: \" << n << \" Product: \" << (long long) v[n - 1] * v[n - 2] << '\\n';\n",
        "    }\n",
        "    return 0;\n",
        "}"
      ]
    },
    {
      "cell_type": "code",
      "source": [
        "!g++ stress_test_cpp.cpp -o stress_test_cpp\n",
        "!./stress_test_cpp"
      ],
      "metadata": {
        "id": "K_CXySz0996I",
        "colab": {
          "base_uri": "https://localhost:8080/"
        },
        "outputId": "e124f098-06d7-49c3-b26a-ab4b3fde4cc7"
      },
      "execution_count": 97,
      "outputs": [
        {
          "output_type": "stream",
          "name": "stdout",
          "text": [
            "n: 17 Product: 850976\n",
            "n: 25 Product: 857451\n",
            "n: 43 Product: 980036\n",
            "n: 10 Product: 692094\n",
            "n: 30 Product: 839816\n",
            "n: 48 Product: 956363\n",
            "n: 9 Product: 475580\n",
            "n: 46 Product: 954088\n",
            "n: 44 Product: 902850\n",
            "n: 17 Product: 981034\n",
            "n: 40 Product: 928812\n",
            "n: 7 Product: 267968\n",
            "n: 42 Product: 991020\n",
            "n: 27 Product: 908160\n",
            "n: 23 Product: 990016\n",
            "n: 2 Product: 141372\n",
            "n: 4 Product: 418500\n",
            "n: 11 Product: 557996\n",
            "n: 42 Product: 963270\n",
            "n: 17 Product: 690616\n"
          ]
        }
      ]
    },
    {
      "cell_type": "markdown",
      "metadata": {
        "id": "2beTmWFPOb_k"
      },
      "source": [
        "Count executed instructions in code and verify with inputs 1,2 and 3\n"
      ]
    },
    {
      "cell_type": "code",
      "execution_count": 98,
      "metadata": {
        "id": "iuByv4x1Ob_k",
        "colab": {
          "base_uri": "https://localhost:8080/"
        },
        "outputId": "14b6a6b1-54e2-4880-f8ea-23d4e1d8d550"
      },
      "outputs": [
        {
          "output_type": "stream",
          "name": "stdout",
          "text": [
            "Writing max_pairwise_product_sort_ins.cpp\n"
          ]
        }
      ],
      "source": [
        "%%writefile max_pairwise_product_sort_ins.cpp\n",
        "#include <iostream>\n",
        "#include <vector>\n",
        "#include <algorithm>\n",
        "#include <cmath>\n",
        "\n",
        "int main(int argc, char* argv[]){\n",
        "    uint64_t ins = 0;\n",
        "    int n;                                                   //1\n",
        "    ins++;\n",
        "    std::cin >> n;                                           //1\n",
        "    ins++;\n",
        "    std::vector<int> v(n);                                   //n\n",
        "    ins += n;\n",
        "    ins++;\n",
        "    for(int i = 0; i < n; i++){                              //1 + 2n\n",
        "        ins += 2;\n",
        "        std::cin >> v[i];                                    //n\n",
        "        ins++;\n",
        "    }\n",
        "\n",
        "    std::sort(v.begin(), v.end());                           //nlogn at least (nlogn time complexity)\n",
        "    ins += n * log2(n);\n",
        "    std::cout << (long long) v[n - 1] * v[n - 2] << '\\n';    //3\n",
        "    ins += 3;\n",
        "    std::cout << \"Executed instructions: \" << ins << '\\n';   // 7 + 4n + ins(nlogn sort). Where ins(nlogn sort) are, at least, nlogn.\n",
        "    return 0;\n",
        "}"
      ]
    },
    {
      "cell_type": "code",
      "source": [
        "!g++ max_pairwise_product_sort_ins.cpp -o max_pairwise_product_sort_ins\n",
        "!./max_pairwise_product_sort_ins < input1.txt\n",
        "!./max_pairwise_product_sort_ins < input2.txt\n",
        "!./max_pairwise_product_sort_ins < input3.txt"
      ],
      "metadata": {
        "id": "S6jjo4ng-Gwe",
        "colab": {
          "base_uri": "https://localhost:8080/"
        },
        "outputId": "3a9a3623-a30b-4c89-d991-2d11e6ecaecc"
      },
      "execution_count": 99,
      "outputs": [
        {
          "output_type": "stream",
          "name": "stdout",
          "text": [
            "90\n",
            "Executed instructions: 79\n",
            "90\n",
            "Executed instructions: 79\n",
            "40000000000\n",
            "Executed instructions: 45\n"
          ]
        }
      ]
    },
    {
      "cell_type": "code",
      "source": [
        "!time ./max_pairwise_product_sort_ins < input11.txt"
      ],
      "metadata": {
        "id": "hBVymtzM-Jvc",
        "colab": {
          "base_uri": "https://localhost:8080/"
        },
        "outputId": "35ffaf50-9286-4bf3-9d99-016b4320ce45"
      },
      "execution_count": 100,
      "outputs": [
        {
          "output_type": "stream",
          "name": "stdout",
          "text": [
            "39999800000\n",
            "Executed instructions: 4321934\n",
            "\n",
            "real\t0m0.133s\n",
            "user\t0m0.126s\n",
            "sys\t0m0.005s\n"
          ]
        }
      ]
    },
    {
      "cell_type": "code",
      "source": [
        "%%writefile max_pairwise_product_sort_ins.py\n",
        "#Python3\n",
        "import math\n",
        "\n",
        "if __name__ == \"__main__\":\n",
        "    ins = 0\n",
        "    n = int(input())                       #1\n",
        "    ins += 1\n",
        "    l = list(map(int, input().split()))    #5n (n input read, n mappings to int, n iterable to list, n comparisons, n splits through input)\n",
        "    ins += 5 * n\n",
        "    l.sort()                               #nlogn at least\n",
        "    ins += n * math.log2(n)\n",
        "    print(l[n - 1] * l[n - 2])             #2\n",
        "    ins += 2\n",
        "    print(f\"Executed instructions: {int(ins)}\\n\")                             #3 + 5n + ins(nlogn timsort) where ins(nlogn sort) are, at least, nlogn."
      ],
      "metadata": {
        "id": "4FOx_YXx-MWj",
        "colab": {
          "base_uri": "https://localhost:8080/"
        },
        "outputId": "ad9fe8e1-ba87-4983-ea79-912df892d86b"
      },
      "execution_count": 101,
      "outputs": [
        {
          "output_type": "stream",
          "name": "stdout",
          "text": [
            "Writing max_pairwise_product_sort_ins.py\n"
          ]
        }
      ]
    },
    {
      "cell_type": "code",
      "source": [
        "!python max_pairwise_product_sort_ins.py < input1.txt\n",
        "!python max_pairwise_product_sort_ins.py < input2.txt\n",
        "!python max_pairwise_product_sort_ins.py < input3.txt"
      ],
      "metadata": {
        "id": "jlpl477e-Okx",
        "colab": {
          "base_uri": "https://localhost:8080/"
        },
        "outputId": "14dde531-dddd-4dbc-f089-ec88903a30d8"
      },
      "execution_count": 102,
      "outputs": [
        {
          "output_type": "stream",
          "name": "stdout",
          "text": [
            "90\n",
            "Executed instructions: 86\n",
            "\n",
            "90\n",
            "Executed instructions: 86\n",
            "\n",
            "40000000000\n",
            "Executed instructions: 48\n",
            "\n"
          ]
        }
      ]
    },
    {
      "cell_type": "code",
      "source": [
        "%%time\n",
        "!python max_pairwise_product_sort_ins.py < input11.txt"
      ],
      "metadata": {
        "id": "EEHuoQPu-Q3r",
        "colab": {
          "base_uri": "https://localhost:8080/"
        },
        "outputId": "9d3cd405-c053-4e27-cfe7-0714a48599a6"
      },
      "execution_count": 103,
      "outputs": [
        {
          "output_type": "stream",
          "name": "stdout",
          "text": [
            "39999800000\n",
            "Executed instructions: 4521931\n",
            "\n",
            "CPU times: user 7.79 ms, sys: 1.73 ms, total: 9.52 ms\n",
            "Wall time: 203 ms\n"
          ]
        }
      ]
    },
    {
      "cell_type": "code",
      "source": [
        "%%time\n",
        "!python max_pairwise_product_sort_ins.py < input11.txt"
      ],
      "metadata": {
        "colab": {
          "base_uri": "https://localhost:8080/"
        },
        "id": "m8oeAR6V3-NU",
        "outputId": "150a6e1d-9009-451a-df6d-e7fc4d4d510b"
      },
      "execution_count": 104,
      "outputs": [
        {
          "output_type": "stream",
          "name": "stdout",
          "text": [
            "39999800000\n",
            "Executed instructions: 4521931\n",
            "\n",
            "CPU times: user 7.81 ms, sys: 0 ns, total: 7.81 ms\n",
            "Wall time: 207 ms\n"
          ]
        }
      ]
    },
    {
      "cell_type": "markdown",
      "metadata": {
        "id": "x2CXhkwTOb_l"
      },
      "source": [
        "Calculate estimated time by instruction and number of instructions by second"
      ]
    },
    {
      "cell_type": "code",
      "execution_count": 105,
      "metadata": {
        "id": "nTjxyTMtOb_l",
        "colab": {
          "base_uri": "https://localhost:8080/"
        },
        "outputId": "08530b2c-6a17-4dca-94d6-2fc877e648b6"
      },
      "outputs": [
        {
          "output_type": "stream",
          "name": "stdout",
          "text": [
            "1.5104166781846075e-09\n",
            "662068960.4685212\n"
          ]
        }
      ],
      "source": [
        "estimated_time = 0.00683 / 4521931\n",
        "number_of_ins_per_second = 1 / estimated_time\n",
        "print(estimated_time)\n",
        "print(number_of_ins_per_second)"
      ]
    },
    {
      "cell_type": "markdown",
      "metadata": {
        "id": "VMKC5duEOQfk"
      },
      "source": [
        "### Efficient solution largest and second-largest in an list, array or vector in C++ and Python\n",
        " $$2.5 n = O(n)$$\n",
        "\n",
        "\n",
        "\n"
      ]
    },
    {
      "cell_type": "markdown",
      "metadata": {
        "id": "nLcKBwbU0QsE"
      },
      "source": [
        "Add in each line a coment with the number of intstrcution that are executed in that line"
      ]
    },
    {
      "cell_type": "markdown",
      "source": [
        "ALGORITMO 4"
      ],
      "metadata": {
        "id": "8TW0v46fA84q"
      }
    },
    {
      "cell_type": "code",
      "execution_count": 106,
      "metadata": {
        "id": "knls5Fh3NSt_",
        "colab": {
          "base_uri": "https://localhost:8080/"
        },
        "outputId": "f533cc20-830e-4206-8dff-80b1d33f2c4d"
      },
      "outputs": [
        {
          "output_type": "stream",
          "name": "stdout",
          "text": [
            "Writing max_pairwise_product_ef.cpp\n"
          ]
        }
      ],
      "source": [
        "%%writefile max_pairwise_product_ef.cpp\n",
        "#include <iostream>\n",
        "#include <vector>\n",
        "#include <algorithm>\n",
        "\n",
        "long long max_pairwise_product_f(std::vector<int>& v){\n",
        "    int n = v.size();                        //1\n",
        "    long long p_max = 0;                     //1\n",
        "    long long s_max = 0;                     //1\n",
        "    for(int i = 0; i < n; ++i) {             //1 + 2n\n",
        "        if (v[i] > s_max){                    //n\n",
        "            s_max = v[i];                    //[0, n]\n",
        "        }\n",
        "        if (v[i] > p_max){                   //n\n",
        "            s_max = p_max;                   //[0, n]\n",
        "            p_max = v[i];                    //[0, n]\n",
        "        }\n",
        "    }\n",
        "    return (long long) p_max * s_max;       //2 -> 9 + 4n + 3[0, n]           //[0, n] means that, in the worst case, executes n times.\n",
        "}\n",
        "\n",
        "int main(int argc, char* argv[]){\n",
        "    int n;                                  //1\n",
        "    std::cin >> n;                          //1\n",
        "    std::vector<int> v(n);                  //n\n",
        "    for(int i = 0; i < n; i++){             //1 + 2n\n",
        "        std::cin >> v[i];                   //n\n",
        "    }\n",
        "    std::cout << max_pairwise_product_f(v) << '\\n'; //1 -> 4 + 4n\n",
        "    return 0;\n",
        "}"
      ]
    },
    {
      "cell_type": "code",
      "source": [
        "%%writefile max_pairwise_product_ef.py\n",
        "#Python3\n",
        "def max_pairwise_product_f(l):\n",
        "    p_max = 0\n",
        "    s_max = 0\n",
        "    for i in l:\n",
        "        if i > s_max:\n",
        "            s_max = i\n",
        "        if i > p_max:\n",
        "            s_max = p_max\n",
        "            p_max = i\n",
        "\n",
        "    return p_max * s_max\n",
        "\n",
        "if __name__ == \"__main__\":\n",
        "    n = int(input())\n",
        "    l = list(map(int, input().split()))\n",
        "    print(max_pairwise_product_f(l))"
      ],
      "metadata": {
        "id": "aTLy1Jo8-YXz",
        "colab": {
          "base_uri": "https://localhost:8080/"
        },
        "outputId": "aab79d2f-d48b-4f0d-c5e2-e8dc685336c6"
      },
      "execution_count": 107,
      "outputs": [
        {
          "output_type": "stream",
          "name": "stdout",
          "text": [
            "Writing max_pairwise_product_ef.py\n"
          ]
        }
      ]
    },
    {
      "cell_type": "markdown",
      "metadata": {
        "id": "-JCijbWxNSii"
      },
      "source": [
        "Test with inputs 1 and 2\n",
        "\n"
      ]
    },
    {
      "cell_type": "code",
      "execution_count": 108,
      "metadata": {
        "id": "TrTGAfqlNVXT",
        "colab": {
          "base_uri": "https://localhost:8080/"
        },
        "outputId": "b4a1af88-0a2e-4f5f-beee-cedd8f3a0ad4"
      },
      "outputs": [
        {
          "output_type": "stream",
          "name": "stdout",
          "text": [
            "90\n",
            "90\n"
          ]
        }
      ],
      "source": [
        "!g++ max_pairwise_product_ef.cpp -o max_pairwise_product_ef\n",
        "!./max_pairwise_product_ef < input1.txt\n",
        "!./max_pairwise_product_ef < input2.txt"
      ]
    },
    {
      "cell_type": "code",
      "source": [
        "!python max_pairwise_product_ef.py < input1.txt\n",
        "!python max_pairwise_product_ef.py < input2.txt"
      ],
      "metadata": {
        "id": "2CXkNc-z-dAK",
        "colab": {
          "base_uri": "https://localhost:8080/"
        },
        "outputId": "dc3f2a2b-a7e8-4392-f5eb-50fb96b48ebb"
      },
      "execution_count": 109,
      "outputs": [
        {
          "output_type": "stream",
          "name": "stdout",
          "text": [
            "90\n",
            "90\n"
          ]
        }
      ]
    },
    {
      "cell_type": "markdown",
      "metadata": {
        "id": "PRX51wADNR8b"
      },
      "source": [
        "Test and time it with input 3"
      ]
    },
    {
      "cell_type": "code",
      "execution_count": 110,
      "metadata": {
        "id": "v4z7-Is_NRt7",
        "colab": {
          "base_uri": "https://localhost:8080/"
        },
        "outputId": "d28ff0b8-114f-4dc6-8589-85d7fb37ed96"
      },
      "outputs": [
        {
          "output_type": "stream",
          "name": "stdout",
          "text": [
            "40000000000\n",
            "\n",
            "real\t0m0.003s\n",
            "user\t0m0.001s\n",
            "sys\t0m0.002s\n"
          ]
        }
      ],
      "source": [
        "!g++ max_pairwise_product_ef.cpp -o max_pairwise_product_ef\n",
        "!time ./max_pairwise_product_ef < input3.txt"
      ]
    },
    {
      "cell_type": "code",
      "source": [
        "!g++ max_pairwise_product_ef.cpp -o max_pairwise_product_ef\n",
        "!time ./max_pairwise_product_ef < input11.txt"
      ],
      "metadata": {
        "id": "FeF9vZjj-jgB",
        "colab": {
          "base_uri": "https://localhost:8080/"
        },
        "outputId": "9f570b15-04cc-4d76-fa22-6dde7f92f593"
      },
      "execution_count": 111,
      "outputs": [
        {
          "output_type": "stream",
          "name": "stdout",
          "text": [
            "39999800000\n",
            "\n",
            "real\t0m0.070s\n",
            "user\t0m0.069s\n",
            "sys\t0m0.000s\n"
          ]
        }
      ]
    },
    {
      "cell_type": "code",
      "source": [
        "%%time\n",
        "!python max_pairwise_product_ef.py < input3.txt"
      ],
      "metadata": {
        "id": "Bgbx1BB5-l_X",
        "colab": {
          "base_uri": "https://localhost:8080/"
        },
        "outputId": "5ee4169c-d2f2-4248-9218-3f38ca7a0aa6"
      },
      "execution_count": 112,
      "outputs": [
        {
          "output_type": "stream",
          "name": "stdout",
          "text": [
            "40000000000\n",
            "CPU times: user 5.55 ms, sys: 1.09 ms, total: 6.64 ms\n",
            "Wall time: 105 ms\n"
          ]
        }
      ]
    },
    {
      "cell_type": "code",
      "source": [
        "%%time\n",
        "!python max_pairwise_product_ef.py < input11.txt"
      ],
      "metadata": {
        "id": "MTifClHk-nrY",
        "colab": {
          "base_uri": "https://localhost:8080/"
        },
        "outputId": "8a90640a-69a1-402d-fbdc-c982fda2f300"
      },
      "execution_count": 113,
      "outputs": [
        {
          "output_type": "stream",
          "name": "stdout",
          "text": [
            "39999800000\n",
            "CPU times: user 9.53 ms, sys: 459 µs, total: 9.99 ms\n",
            "Wall time: 211 ms\n"
          ]
        }
      ]
    },
    {
      "cell_type": "markdown",
      "metadata": {
        "id": "rpdfs0_TNZJf"
      },
      "source": [
        "20 stress tests"
      ]
    },
    {
      "cell_type": "code",
      "execution_count": 114,
      "metadata": {
        "id": "Lu4tYcKzNcTT",
        "colab": {
          "base_uri": "https://localhost:8080/"
        },
        "outputId": "64fa8d30-69d5-484a-ad17-1c41aaede056"
      },
      "outputs": [
        {
          "output_type": "stream",
          "name": "stdout",
          "text": [
            "Writing stress_tests_ef_cpp.cpp\n"
          ]
        }
      ],
      "source": [
        "%%writefile stress_tests_ef_cpp.cpp\n",
        "#include <iostream>\n",
        "#include <vector>\n",
        "#include <algorithm>\n",
        "\n",
        "long long ins = 0;\n",
        "\n",
        "long long max_pairwise_product_f(std::vector<int>& v){\n",
        "    int n = v.size();\n",
        "    ins++;\n",
        "    long long p_max = 0;\n",
        "    ins++;\n",
        "    long long s_max = 0;\n",
        "    ins++;\n",
        "    ins++;\n",
        "    for(int i = 0; i < n; ++i) {\n",
        "        ins += 2;\n",
        "        ins++;\n",
        "        if (v[i] > s_max){\n",
        "            s_max = v[i];\n",
        "            ins++;\n",
        "        }\n",
        "        ins++;\n",
        "        if (v[i] > p_max){\n",
        "            s_max = p_max;\n",
        "            ins++;\n",
        "            p_max = v[i];\n",
        "            ins++;\n",
        "        }\n",
        "    }\n",
        "\n",
        "    return (long long) p_max * s_max;\n",
        "}\n",
        "\n",
        "int main(int argc, char* argv[]){\n",
        "    for(int i = 0; i < 20; i++){\n",
        "        int n = rand() % 69 + 2;\n",
        "        std::vector<int> v(n);\n",
        "        for(int i = 0; i < n; i++){\n",
        "            v[i] = rand() % 1000 + 2;\n",
        "        }\n",
        "        std::cout << \"n: \" << n << \" Product: \" << max_pairwise_product_f(v) << '\\n';\n",
        "    }\n",
        "    return 0;\n",
        "}"
      ]
    },
    {
      "cell_type": "code",
      "source": [
        "%%writefile stress_tests_ef_py.py\n",
        "#Python3\n",
        "import random\n",
        "def max_pairwise_product_f(l):\n",
        "    p_max = 0\n",
        "    s_max = 0\n",
        "    for i in l:\n",
        "        if i > s_max:\n",
        "            s_max = i\n",
        "        if i > p_max:\n",
        "            s_max = p_max\n",
        "            p_max = i\n",
        "\n",
        "    return p_max * s_max\n",
        "\n",
        "if __name__ == \"__main__\":\n",
        "    for i in range(20):\n",
        "        n = random.randint(2, 99)\n",
        "        l = [random.randint(17, 24531) for i in range(n)]\n",
        "        print(f\"n: {n} Product: {max_pairwise_product_f(l)}\")"
      ],
      "metadata": {
        "id": "3wzoUp1F-s6q",
        "colab": {
          "base_uri": "https://localhost:8080/"
        },
        "outputId": "bf00eb43-d02f-46cb-ff7e-114950ba0d8c"
      },
      "execution_count": 115,
      "outputs": [
        {
          "output_type": "stream",
          "name": "stdout",
          "text": [
            "Writing stress_tests_ef_py.py\n"
          ]
        }
      ]
    },
    {
      "cell_type": "code",
      "source": [
        "!g++ stress_tests_ef_cpp.cpp -o stress_tests_ef_cpp\n",
        "!./stress_tests_ef_cpp"
      ],
      "metadata": {
        "id": "gwmlvB7o-wv8",
        "colab": {
          "base_uri": "https://localhost:8080/"
        },
        "outputId": "0393fb93-e1f7-4def-b934-626ee48df81f"
      },
      "execution_count": 116,
      "outputs": [
        {
          "output_type": "stream",
          "name": "stdout",
          "text": [
            "n: 36 Product: 863968\n",
            "n: 57 Product: 980036\n",
            "n: 60 Product: 898343\n",
            "n: 31 Product: 927682\n",
            "n: 13 Product: 762600\n",
            "n: 51 Product: 954088\n",
            "n: 12 Product: 683388\n",
            "n: 26 Product: 981034\n",
            "n: 70 Product: 960364\n",
            "n: 14 Product: 858552\n",
            "n: 61 Product: 993010\n",
            "n: 52 Product: 963270\n",
            "n: 10 Product: 631764\n",
            "n: 32 Product: 994008\n",
            "n: 21 Product: 960319\n",
            "n: 24 Product: 828625\n",
            "n: 2 Product: 74562\n",
            "n: 54 Product: 904397\n",
            "n: 8 Product: 886974\n",
            "n: 23 Product: 911064\n"
          ]
        }
      ]
    },
    {
      "cell_type": "code",
      "source": [
        "!python stress_tests_ef_py.py"
      ],
      "metadata": {
        "id": "4jNrPAG7-y_9",
        "colab": {
          "base_uri": "https://localhost:8080/"
        },
        "outputId": "45d71f3a-4bd8-4f4f-b852-9ba0d0c3573c"
      },
      "execution_count": 117,
      "outputs": [
        {
          "output_type": "stream",
          "name": "stdout",
          "text": [
            "n: 16 Product: 365308852\n",
            "n: 8 Product: 491973152\n",
            "n: 75 Product: 582468033\n",
            "n: 59 Product: 572477246\n",
            "n: 21 Product: 491749830\n",
            "n: 42 Product: 576935120\n",
            "n: 24 Product: 430366608\n",
            "n: 65 Product: 587932136\n",
            "n: 88 Product: 588691800\n",
            "n: 73 Product: 594578880\n",
            "n: 38 Product: 599441700\n",
            "n: 40 Product: 515825940\n",
            "n: 35 Product: 571676974\n",
            "n: 47 Product: 579124216\n",
            "n: 62 Product: 577536183\n",
            "n: 86 Product: 578715162\n",
            "n: 45 Product: 560760676\n",
            "n: 31 Product: 550244214\n",
            "n: 57 Product: 584985970\n",
            "n: 85 Product: 585610416\n"
          ]
        }
      ]
    },
    {
      "cell_type": "markdown",
      "metadata": {
        "id": "L8U4151JNbxk"
      },
      "source": [
        "Count executed instructions in code and verify with inputs 1,2 and 3\n"
      ]
    },
    {
      "cell_type": "code",
      "execution_count": 118,
      "metadata": {
        "id": "dh85RM8vNhFz",
        "colab": {
          "base_uri": "https://localhost:8080/"
        },
        "outputId": "c74b04b2-9dc0-4c90-95bd-46e7190e9e31"
      },
      "outputs": [
        {
          "output_type": "stream",
          "name": "stdout",
          "text": [
            "Writing max_pairwise_product_ef_ins.cpp\n"
          ]
        }
      ],
      "source": [
        "%%writefile max_pairwise_product_ef_ins.cpp\n",
        "#include <iostream>\n",
        "#include <vector>\n",
        "#include <algorithm>\n",
        "\n",
        "long long ins = 0;\n",
        "\n",
        "long long max_pairwise_product_f(std::vector<int>& v){\n",
        "    int n = v.size();                        //1\n",
        "    ins++;\n",
        "    long long p_max = 0;                     //1\n",
        "    ins++;\n",
        "    long long s_max = 0;                     //1\n",
        "    ins++;\n",
        "    ins++;\n",
        "    for(int i = 0; i < n; ++i) {             //1 + 2n\n",
        "        ins += 2;\n",
        "        ins++;\n",
        "        if (v[i] > s_max){                    //n\n",
        "            s_max = v[i];                     //[0, n]\n",
        "            ins++;\n",
        "        }\n",
        "        ins++;\n",
        "        if (v[i] > p_max){                   //n\n",
        "            s_max = p_max;                   //[0, n]\n",
        "            ins++;\n",
        "            p_max = v[i];                    //[0, n]\n",
        "            ins++;\n",
        "        }\n",
        "    }\n",
        "    ins += 2;\n",
        "    return (long long) p_max * s_max;       //2 -> 6 + 4n + 3[0, n]          //[0, n] means that, in the worst case, executes n times.\n",
        "}\n",
        "\n",
        "int main(int argc, char* argv[]){\n",
        "    int n;                                  //1\n",
        "    ins++;\n",
        "    std::cin >> n;                          //1\n",
        "    ins++;\n",
        "    std::vector<int> v(n);                  //n\n",
        "    ins += n;\n",
        "    ins++;\n",
        "    for(int i = 0; i < n; i++){             //1 + 2n\n",
        "        ins += 2;\n",
        "        std::cin >> v[i];                   //n\n",
        "        ins++;\n",
        "    }\n",
        "\n",
        "    std::cout << max_pairwise_product_f(v) << '\\n'; //1 -> 4 + 4n + 6 + 4n + 3[0, n] -> 10 +8n + 3[0, n] -> 10 + 11n worst case.\n",
        "    std::cout << \"Executed instructions: \" << ins << '\\n';\n",
        "    return 0;\n",
        "}"
      ]
    },
    {
      "cell_type": "code",
      "source": [
        "%%writefile max_pairwise_product_ef_ins_py.py\n",
        "#Python3\n",
        "ins = 0\n",
        "def max_pairwise_product_f(l):\n",
        "    global ins\n",
        "    p_max = 0                               #1\n",
        "    ins += 1\n",
        "    s_max = 0                               #1\n",
        "    ins += 1\n",
        "    ins += 1\n",
        "    for i in l:                             #1 + 2n\n",
        "        ins += 2\n",
        "        if i > s_max:                       #n\n",
        "            s_max = i                       #[0, n]           #[0, n] means that, in the worst case, executes n times\n",
        "            ins += 1\n",
        "        if i > p_max:                       #n\n",
        "            s_max = p_max                   #[0, n]\n",
        "            ins += 1\n",
        "            p_max = i                       #[0, n]\n",
        "            ins += 1\n",
        "\n",
        "    ins += 2\n",
        "    return p_max * s_max                    #2       #5 + 4n + 3[0, n] -> 5 + 7n worst\n",
        "\n",
        "if __name__ == \"__main__\":\n",
        "        n = int(input())                                 #1\n",
        "        ins += 1\n",
        "        l = list(map(int, input().split()))              #5n\n",
        "        ins += 5 * n\n",
        "        ins += 1\n",
        "        print(max_pairwise_product_f(l))                 #1\n",
        "        print(f\"Executed instructions: {ins}\")           #-> 2 + 5n + 5 + 7n -> 7 + 12n"
      ],
      "metadata": {
        "id": "ENzuq1pK---q",
        "colab": {
          "base_uri": "https://localhost:8080/"
        },
        "outputId": "f1a6ce9f-18cb-4a75-f4c7-786cea22f69f"
      },
      "execution_count": 119,
      "outputs": [
        {
          "output_type": "stream",
          "name": "stdout",
          "text": [
            "Writing max_pairwise_product_ef_ins_py.py\n"
          ]
        }
      ]
    },
    {
      "cell_type": "code",
      "source": [
        "!g++ max_pairwise_product_ef_ins.cpp -o max_pairwise_product_ef_ins\n",
        "!./max_pairwise_product_ef_ins < input1.txt\n",
        "!./max_pairwise_product_ef_ins < input2.txt\n",
        "!./max_pairwise_product_ef_ins < input3.txt"
      ],
      "metadata": {
        "id": "t8RL1Rd0_BOT",
        "colab": {
          "base_uri": "https://localhost:8080/"
        },
        "outputId": "a4f3ca5c-9c75-4edf-f582-5c8bb1aa82a0"
      },
      "execution_count": 120,
      "outputs": [
        {
          "output_type": "stream",
          "name": "stdout",
          "text": [
            "90\n",
            "Executed instructions: 119\n",
            "90\n",
            "Executed instructions: 93\n",
            "40000000000\n",
            "Executed instructions: 68\n"
          ]
        }
      ]
    },
    {
      "cell_type": "code",
      "source": [
        "!time ./max_pairwise_product_ef_ins < input11.txt"
      ],
      "metadata": {
        "id": "p8mBWJpF_DTC",
        "colab": {
          "base_uri": "https://localhost:8080/"
        },
        "outputId": "8684cbce-7512-4ecb-a31a-efdd0da4139a"
      },
      "execution_count": 121,
      "outputs": [
        {
          "output_type": "stream",
          "name": "stdout",
          "text": [
            "39999800000\n",
            "Executed instructions: 2200009\n",
            "\n",
            "real\t0m0.075s\n",
            "user\t0m0.067s\n",
            "sys\t0m0.002s\n"
          ]
        }
      ]
    },
    {
      "cell_type": "code",
      "source": [
        "!python max_pairwise_product_ef_ins_py.py < input1.txt\n",
        "!python max_pairwise_product_ef_ins_py.py < input2.txt"
      ],
      "metadata": {
        "id": "nJeR7IPX_E1S",
        "colab": {
          "base_uri": "https://localhost:8080/"
        },
        "outputId": "be992f33-16a5-4d76-d1a3-b6b052930d0b"
      },
      "execution_count": 122,
      "outputs": [
        {
          "output_type": "stream",
          "name": "stdout",
          "text": [
            "90\n",
            "Executed instructions: 107\n",
            "90\n",
            "Executed instructions: 81\n"
          ]
        }
      ]
    },
    {
      "cell_type": "code",
      "source": [
        "%%time\n",
        "!python max_pairwise_product_ef_ins_py.py < input3.txt"
      ],
      "metadata": {
        "id": "gHiJMZEI_GfK",
        "colab": {
          "base_uri": "https://localhost:8080/"
        },
        "outputId": "67f55971-0991-43fa-a8a1-528901fb14e4"
      },
      "execution_count": 123,
      "outputs": [
        {
          "output_type": "stream",
          "name": "stdout",
          "text": [
            "40000000000\n",
            "Executed instructions: 60\n",
            "CPU times: user 8.9 ms, sys: 0 ns, total: 8.9 ms\n",
            "Wall time: 109 ms\n"
          ]
        }
      ]
    },
    {
      "cell_type": "code",
      "source": [
        "%%time\n",
        "!python max_pairwise_product_ef_ins_py.py < input11.txt"
      ],
      "metadata": {
        "id": "JKvYLkhO_G9X",
        "colab": {
          "base_uri": "https://localhost:8080/"
        },
        "outputId": "ca37f220-8c20-455c-fcfc-564153abf203"
      },
      "execution_count": 124,
      "outputs": [
        {
          "output_type": "stream",
          "name": "stdout",
          "text": [
            "39999800000\n",
            "Executed instructions: 2000007\n",
            "CPU times: user 4.97 ms, sys: 1.95 ms, total: 6.92 ms\n",
            "Wall time: 206 ms\n"
          ]
        }
      ]
    },
    {
      "cell_type": "markdown",
      "metadata": {
        "id": "K6ybgCmpNygr"
      },
      "source": [
        "Calculate estimated time by instruction and number of instructions by second"
      ]
    },
    {
      "cell_type": "code",
      "execution_count": 125,
      "metadata": {
        "id": "kwe3G1O3Nz1w",
        "colab": {
          "base_uri": "https://localhost:8080/"
        },
        "outputId": "6630f243-aa5f-4ab2-f9dd-0567cdd1a21c"
      },
      "outputs": [
        {
          "output_type": "stream",
          "name": "stdout",
          "text": [
            "2.3136268987990502e-09\n",
            "432221807.4656189\n"
          ]
        }
      ],
      "source": [
        "estimated_time = 0.00509/ 2200009\n",
        "number_of_ins_per_second = 1 / estimated_time\n",
        "print(estimated_time)\n",
        "print(number_of_ins_per_second)"
      ]
    },
    {
      "cell_type": "markdown",
      "metadata": {
        "id": "sUpIWcykOGpT"
      },
      "source": [
        "### Super efficient solution\n",
        "\n",
        "Whitout storing the list in memory, only stpring the largest and second largest and whitout calling a function, add in each line a coment with the number of instructions that are executed in that line\n",
        "\n",
        "in C++ and Python\n",
        " $$2 n = O(n)$$"
      ]
    },
    {
      "cell_type": "markdown",
      "source": [
        "ALGORITMO 5"
      ],
      "metadata": {
        "id": "lDTLg-yzA3-E"
      }
    },
    {
      "cell_type": "code",
      "execution_count": 126,
      "metadata": {
        "id": "hBLt_xBQLy8E",
        "colab": {
          "base_uri": "https://localhost:8080/"
        },
        "outputId": "84c1fe80-8e25-4d52-e6be-0018ee1abef1"
      },
      "outputs": [
        {
          "output_type": "stream",
          "name": "stdout",
          "text": [
            "Writing max_pairwise_product_gef_cpp.cpp\n"
          ]
        }
      ],
      "source": [
        "%%writefile max_pairwise_product_gef_cpp.cpp\n",
        "#include <iostream>\n",
        "#include <vector>\n",
        "#include <algorithm>\n",
        "#include <climits>\n",
        "\n",
        "int main(int argc, char* argv[]){\n",
        "    int n;\n",
        "    std::cin >> n;\n",
        "    int p_max = INT_MIN;\n",
        "    int s_max = INT_MIN;\n",
        "\n",
        "    for (int i = 0; i < n; i++){\n",
        "        int x;\n",
        "        std::cin >> x;\n",
        "        if(x > p_max){\n",
        "            s_max = p_max;\n",
        "            p_max = x;\n",
        "        }\n",
        "        else if(x > s_max){\n",
        "            s_max = x;\n",
        "        }\n",
        "    }\n",
        "\n",
        "    std::cout << (long long) p_max * s_max << \"\\n\";\n",
        "    return 0;\n",
        "}"
      ]
    },
    {
      "cell_type": "markdown",
      "metadata": {
        "id": "683gc3roHqzb"
      },
      "source": [
        "Test with inputs 1 and 2\n",
        "\n",
        "\n"
      ]
    },
    {
      "cell_type": "code",
      "execution_count": 127,
      "metadata": {
        "id": "b7d4LA8OIc2_",
        "colab": {
          "base_uri": "https://localhost:8080/"
        },
        "outputId": "976e339e-1ef7-4f68-d968-30dc6edbeb45"
      },
      "outputs": [
        {
          "output_type": "stream",
          "name": "stdout",
          "text": [
            "90\n",
            "90\n"
          ]
        }
      ],
      "source": [
        "!g++ max_pairwise_product_gef_cpp.cpp -o max_pairwise_product_gef_cpp\n",
        "!./max_pairwise_product_gef_cpp < input1.txt\n",
        "!./max_pairwise_product_gef_cpp < input2.txt"
      ]
    },
    {
      "cell_type": "markdown",
      "metadata": {
        "id": "36Ugn1odIeJz"
      },
      "source": [
        "Test and time it with input 3"
      ]
    },
    {
      "cell_type": "code",
      "execution_count": 128,
      "metadata": {
        "id": "jDyMbCnxHqSN",
        "colab": {
          "base_uri": "https://localhost:8080/"
        },
        "outputId": "4c19e88f-37ab-4990-e449-8c3297de61b2"
      },
      "outputs": [
        {
          "output_type": "stream",
          "name": "stdout",
          "text": [
            "40000000000\n",
            "\n",
            "real\t0m0.003s\n",
            "user\t0m0.000s\n",
            "sys\t0m0.003s\n"
          ]
        }
      ],
      "source": [
        "!g++ max_pairwise_product_gef_cpp.cpp -o max_pairwise_product_gef_cpp\n",
        "!time ./max_pairwise_product_gef_cpp < input3.txt"
      ]
    },
    {
      "cell_type": "markdown",
      "metadata": {
        "id": "bhqiKQG6fjKM"
      },
      "source": [
        "20 stress tests"
      ]
    },
    {
      "cell_type": "code",
      "execution_count": 129,
      "metadata": {
        "id": "2KsiXKhALzwm",
        "colab": {
          "base_uri": "https://localhost:8080/"
        },
        "outputId": "deff046c-31e6-4649-d64f-6f8bbd8c0426"
      },
      "outputs": [
        {
          "output_type": "stream",
          "name": "stdout",
          "text": [
            "Writing stress_tests_gef_cpp.cpp\n"
          ]
        }
      ],
      "source": [
        "%%writefile stress_tests_gef_cpp.cpp\n",
        "#include <iostream>\n",
        "#include <vector>\n",
        "#include <algorithm>\n",
        "#include <climits>\n",
        "\n",
        "int main(int argc, char* argv[]){\n",
        "    for(int i = 0; i < 20; i++){\n",
        "        int n = rand() % 77 + 2;\n",
        "        int p_max = INT_MIN;\n",
        "        int s_max = INT_MIN;\n",
        "\n",
        "        for (int i = 0; i < n; i++){\n",
        "            int x = rand() % 1000 + 2;\n",
        "            if(x > p_max){\n",
        "                s_max = p_max;\n",
        "                p_max = x;\n",
        "            }\n",
        "            else if(x > s_max){\n",
        "                s_max = x;\n",
        "            }\n",
        "        }\n",
        "\n",
        "        std::cout << \"n: \" << n << \" Product: \" << (long long) p_max * s_max << \"\\n\";\n",
        "    }\n",
        "    return 0;\n",
        "}"
      ]
    },
    {
      "cell_type": "code",
      "source": [
        "!g++ stress_tests_gef_cpp.cpp -o stress_tests_gef_cpp\n",
        "!./stress_tests_gef_cpp"
      ],
      "metadata": {
        "id": "9wee-cWx_VkI",
        "colab": {
          "base_uri": "https://localhost:8080/"
        },
        "outputId": "29c20f0f-e865-423c-b942-4e45b5b68ef9"
      },
      "execution_count": 130,
      "outputs": [
        {
          "output_type": "stream",
          "name": "stdout",
          "text": [
            "n: 52 Product: 863968\n",
            "n: 59 Product: 956084\n",
            "n: 53 Product: 898343\n",
            "n: 22 Product: 927682\n",
            "n: 2 Product: 56643\n",
            "n: 32 Product: 928140\n",
            "n: 48 Product: 885256\n",
            "n: 26 Product: 981034\n",
            "n: 40 Product: 928812\n",
            "n: 23 Product: 876600\n",
            "n: 55 Product: 991020\n",
            "n: 27 Product: 990016\n",
            "n: 11 Product: 557996\n",
            "n: 70 Product: 994008\n",
            "n: 53 Product: 961308\n",
            "n: 58 Product: 926316\n",
            "n: 39 Product: 979080\n",
            "n: 3 Product: 290360\n",
            "n: 23 Product: 876015\n",
            "n: 26 Product: 874290\n"
          ]
        }
      ]
    },
    {
      "cell_type": "markdown",
      "metadata": {
        "id": "fEXj8GHJH5p1"
      },
      "source": [
        "Count executed instructions in code and verify with inputs 1,2 and 3"
      ]
    },
    {
      "cell_type": "code",
      "execution_count": 131,
      "metadata": {
        "id": "LF1DHjKXIAsF",
        "colab": {
          "base_uri": "https://localhost:8080/"
        },
        "outputId": "3bbe61a9-dfbf-4081-a318-084d9571dae6"
      },
      "outputs": [
        {
          "output_type": "stream",
          "name": "stdout",
          "text": [
            "Writing max_pairwise_product_gef_ins_cpp.cpp\n"
          ]
        }
      ],
      "source": [
        "%%writefile max_pairwise_product_gef_ins_cpp.cpp\n",
        "#include <iostream>\n",
        "#include <vector>\n",
        "#include <algorithm>\n",
        "#include <climits>\n",
        "\n",
        "int main(int argc, char* argv[]){\n",
        "    uint64_t ins = 0;\n",
        "    int n;                          //1\n",
        "    ins++;\n",
        "    std::cin >> n;                  //1\n",
        "    ins++;\n",
        "    int p_max = INT_MIN;            //1\n",
        "    ins++;\n",
        "    int s_max = INT_MIN;            //1\n",
        "    ins++;\n",
        "    ins++;\n",
        "    for (int i = 0; i < n; i++){    //1 + 2n\n",
        "        ins += 2;\n",
        "        int x;                      //n\n",
        "        ins++;\n",
        "        std::cin >> x;              //n\n",
        "        ins++;\n",
        "        ins += 2; //both ifs\n",
        "        if(x > p_max){              //[0, n]           //[0, n] means that, in the worst case, executes n times.\n",
        "            s_max = p_max;          //[0, n]\n",
        "            ins++;\n",
        "            p_max = x;              //[0, n]\n",
        "            ins++;\n",
        "        }\n",
        "        else if(x > s_max){         //[0, n]\n",
        "            s_max = x;              //[0, n]\n",
        "            ins++;\n",
        "        }\n",
        "    }\n",
        "\n",
        "    ins += 3;\n",
        "    std::cout << (long long) p_max * s_max << \"\\n\"; //3 -> 8 + 4n + 5[0, n] -> 8 + 9n worst case.\n",
        "    std::cout << \"Executed instructions: \" << ins << '\\n';\n",
        "    return 0;\n",
        "}"
      ]
    },
    {
      "cell_type": "code",
      "source": [
        "!g++ max_pairwise_product_gef_ins_cpp.cpp -o max_pairwise_product_gef_ins_cpp\n",
        "!./max_pairwise_product_gef_ins_cpp < input1.txt\n",
        "!./max_pairwise_product_gef_ins_cpp < input2.txt\n",
        "!./max_pairwise_product_gef_ins_cpp < input3.txt"
      ],
      "metadata": {
        "id": "4V0HKHZm_bRg",
        "colab": {
          "base_uri": "https://localhost:8080/"
        },
        "outputId": "ae890567-8d7c-4fcc-eb53-e484987da605"
      },
      "execution_count": 132,
      "outputs": [
        {
          "output_type": "stream",
          "name": "stdout",
          "text": [
            "90\n",
            "Executed instructions: 88\n",
            "90\n",
            "Executed instructions: 71\n",
            "40000000000\n",
            "Executed instructions: 52\n"
          ]
        }
      ]
    },
    {
      "cell_type": "code",
      "source": [
        "!time ./max_pairwise_product_gef_ins_cpp < input11.txt"
      ],
      "metadata": {
        "id": "St1BDulT_dPg",
        "colab": {
          "base_uri": "https://localhost:8080/"
        },
        "outputId": "45cf3faf-8c0c-4cb2-fb39-36c3f57a2e5b"
      },
      "execution_count": 133,
      "outputs": [
        {
          "output_type": "stream",
          "name": "stdout",
          "text": [
            "39999800000\n",
            "Executed instructions: 1600008\n",
            "\n",
            "real\t0m0.079s\n",
            "user\t0m0.074s\n",
            "sys\t0m0.000s\n"
          ]
        }
      ]
    },
    {
      "cell_type": "markdown",
      "metadata": {
        "id": "yae7sSm2IG9U"
      },
      "source": [
        "Calculate estimated time by instruction and number of instructions by second"
      ]
    },
    {
      "cell_type": "code",
      "execution_count": 134,
      "metadata": {
        "id": "suouY7BYL2dz",
        "colab": {
          "base_uri": "https://localhost:8080/"
        },
        "outputId": "8a52525c-4131-44e1-afdb-b428f2e2ec2b"
      },
      "outputs": [
        {
          "output_type": "stream",
          "name": "stdout",
          "text": [
            "4.5624771876140615e-08\n",
            "21917917.80821918\n"
          ]
        }
      ],
      "source": [
        "estimated_time = 0.073 / 1600008\n",
        "number_of_ins_per_second = 1 / estimated_time\n",
        "print(estimated_time)\n",
        "print(number_of_ins_per_second)"
      ]
    },
    {
      "cell_type": "markdown",
      "metadata": {
        "id": "sy33CNNfPxcE"
      },
      "source": [
        "### Super efficient solution in Python\n",
        "\n",
        "Whitout storing the list in memory and whitout calling a function, add in each line a coment with the number of intstrcution that are executed in that line"
      ]
    },
    {
      "cell_type": "code",
      "execution_count": 135,
      "metadata": {
        "id": "_mOjJwKrPxcJ",
        "colab": {
          "base_uri": "https://localhost:8080/"
        },
        "outputId": "7493995f-e5d8-4cf9-d342-0a99706d6500"
      },
      "outputs": [
        {
          "output_type": "stream",
          "name": "stdout",
          "text": [
            "Writing max_pairwise_product_gef_py.py\n"
          ]
        }
      ],
      "source": [
        "%%writefile max_pairwise_product_gef_py.py\n",
        "#Python3\n",
        "if __name__ == \"__main__\":\n",
        "    n = int(input())\n",
        "    p_max = -1\n",
        "    s_max = -1\n",
        "    for i in input().split():\n",
        "        i = int(i)\n",
        "        if(i > p_max):\n",
        "            s_max = p_max\n",
        "            p_max = i\n",
        "        elif i > s_max:\n",
        "            s_max = i\n",
        "    print(p_max * s_max)"
      ]
    },
    {
      "cell_type": "markdown",
      "metadata": {
        "id": "K08Eow0hPxcJ"
      },
      "source": [
        "Test with inputs 1 and 2\n",
        "\n",
        "\n"
      ]
    },
    {
      "cell_type": "code",
      "execution_count": 136,
      "metadata": {
        "id": "1_mUee2cPxcJ",
        "colab": {
          "base_uri": "https://localhost:8080/"
        },
        "outputId": "43cfea36-a398-460b-f96f-35cf40002418"
      },
      "outputs": [
        {
          "output_type": "stream",
          "name": "stdout",
          "text": [
            "90\n",
            "90\n"
          ]
        }
      ],
      "source": [
        "!python max_pairwise_product_gef_py.py < input1.txt\n",
        "!python max_pairwise_product_gef_py.py < input2.txt"
      ]
    },
    {
      "cell_type": "markdown",
      "metadata": {
        "id": "CE5DB3CmPxcJ"
      },
      "source": [
        "Test and time it with input 3"
      ]
    },
    {
      "cell_type": "code",
      "execution_count": 137,
      "metadata": {
        "id": "lyLhFOoePxcJ",
        "colab": {
          "base_uri": "https://localhost:8080/"
        },
        "outputId": "dec52e0e-3df7-41f3-85bb-8ce5a07e9407"
      },
      "outputs": [
        {
          "output_type": "stream",
          "name": "stdout",
          "text": [
            "40000000000\n",
            "CPU times: user 6.77 ms, sys: 0 ns, total: 6.77 ms\n",
            "Wall time: 105 ms\n"
          ]
        }
      ],
      "source": [
        "%%time\n",
        "!python max_pairwise_product_gef_py.py < input3.txt"
      ]
    },
    {
      "cell_type": "markdown",
      "metadata": {
        "id": "HZEI236lPxcK"
      },
      "source": [
        "20 stress tests"
      ]
    },
    {
      "cell_type": "code",
      "execution_count": 138,
      "metadata": {
        "id": "_LoV-p4zPxcK",
        "colab": {
          "base_uri": "https://localhost:8080/"
        },
        "outputId": "2ad9ac70-512d-4ab1-e559-20cf8c7902d2"
      },
      "outputs": [
        {
          "output_type": "stream",
          "name": "stdout",
          "text": [
            "Writing stress_tests_gef_py.py\n"
          ]
        }
      ],
      "source": [
        "%%writefile stress_tests_gef_py.py\n",
        "import random\n",
        "#Python3\n",
        "if __name__ == \"__main__\":\n",
        "    for i in range(20):\n",
        "        n = random.randint(2, 99)\n",
        "        p_max = -1\n",
        "        s_max = -1\n",
        "        for x in range(n):\n",
        "            i = random.randint(19, 133700)\n",
        "            if(i > p_max):\n",
        "                s_max = p_max\n",
        "                p_max = i\n",
        "            elif i > s_max:\n",
        "                s_max = i\n",
        "        print(f\"n: {n} Product: {p_max * s_max}\")"
      ]
    },
    {
      "cell_type": "code",
      "source": [
        "!python stress_tests_gef_py.py"
      ],
      "metadata": {
        "id": "K3xh6XH2_tao",
        "colab": {
          "base_uri": "https://localhost:8080/"
        },
        "outputId": "567bbe0e-dc36-43e2-8bd8-60456366c0d9"
      },
      "execution_count": 139,
      "outputs": [
        {
          "output_type": "stream",
          "name": "stdout",
          "text": [
            "n: 93 Product: 17435678260\n",
            "n: 75 Product: 17729028801\n",
            "n: 61 Product: 16762952646\n",
            "n: 99 Product: 17487704500\n",
            "n: 76 Product: 17019787523\n",
            "n: 6 Product: 6454362695\n",
            "n: 56 Product: 17503503186\n",
            "n: 19 Product: 13787546006\n",
            "n: 70 Product: 16370434745\n",
            "n: 28 Product: 17288105470\n",
            "n: 81 Product: 17602861440\n",
            "n: 9 Product: 14125847988\n",
            "n: 75 Product: 16993152000\n",
            "n: 38 Product: 17283964554\n",
            "n: 89 Product: 17392834200\n",
            "n: 61 Product: 17410842338\n",
            "n: 72 Product: 17206721031\n",
            "n: 22 Product: 17547691504\n",
            "n: 67 Product: 17451213821\n",
            "n: 95 Product: 17175539254\n"
          ]
        }
      ]
    },
    {
      "cell_type": "markdown",
      "metadata": {
        "id": "IRVdP3iuPxcK"
      },
      "source": [
        "Count executed instructions in code and verify with inputs 1,2 and 3"
      ]
    },
    {
      "cell_type": "code",
      "execution_count": 140,
      "metadata": {
        "id": "RghJOg78PxcK",
        "colab": {
          "base_uri": "https://localhost:8080/"
        },
        "outputId": "32518aad-238b-4e21-ca03-4616abb003a0"
      },
      "outputs": [
        {
          "output_type": "stream",
          "name": "stdout",
          "text": [
            "Writing max_pairwise_product_gef_ins_py.py\n"
          ]
        }
      ],
      "source": [
        "%%writefile max_pairwise_product_gef_ins_py.py\n",
        "import random\n",
        "#Python3\n",
        "if __name__ == \"__main__\":\n",
        "        ins = 0\n",
        "        n = int(input())                 #1\n",
        "        ins += 1\n",
        "        p_max = -1                       #1\n",
        "        ins += 1\n",
        "        s_max = -1                       #1\n",
        "        ins += 1\n",
        "        ins += 1\n",
        "        for i in input().split():        #1 + 3n (n reads, 2n comparisons unitl end of input)\n",
        "            ins += 2\n",
        "            i = int(i)                   #n\n",
        "            ins += 1\n",
        "            ins += 2\n",
        "            if(i > p_max):               #[0, n]\n",
        "                s_max = p_max            #[0, n]\n",
        "                ins += 1\n",
        "                p_max = i                #[0, n]\n",
        "                ins += 1\n",
        "            elif i > s_max:              #[0, n]\n",
        "                s_max = i                #[0, n]\n",
        "                ins += 1\n",
        "        print(p_max * s_max)             #2\n",
        "        print(f\"Executed instructions: {ins}\") #->6 + 4n + 5[0, n] -> 6 + 9n worst case"
      ]
    },
    {
      "cell_type": "code",
      "source": [
        "!python max_pairwise_product_gef_ins_py.py < input1.txt\n",
        "!python max_pairwise_product_gef_ins_py.py < input2.txt\n",
        "!python max_pairwise_product_gef_ins_py.py < input3.txt"
      ],
      "metadata": {
        "id": "q_RMNaZZ_0Zj",
        "colab": {
          "base_uri": "https://localhost:8080/"
        },
        "outputId": "182b5c72-70e5-4cdd-d65c-080ef84df7f9"
      },
      "execution_count": 141,
      "outputs": [
        {
          "output_type": "stream",
          "name": "stdout",
          "text": [
            "90\n",
            "Executed instructions: 74\n",
            "90\n",
            "Executed instructions: 57\n",
            "40000000000\n",
            "Executed instructions: 42\n"
          ]
        }
      ]
    },
    {
      "cell_type": "code",
      "source": [
        "%%time\n",
        "!python max_pairwise_product_gef_ins_py.py < input11.txt"
      ],
      "metadata": {
        "id": "Xw9Nh1mp_2G8",
        "colab": {
          "base_uri": "https://localhost:8080/"
        },
        "outputId": "20870b7b-fa47-481b-81ae-9ae08542216e"
      },
      "execution_count": 142,
      "outputs": [
        {
          "output_type": "stream",
          "name": "stdout",
          "text": [
            "39999800000\n",
            "Executed instructions: 1400004\n",
            "CPU times: user 7.21 ms, sys: 1.03 ms, total: 8.24 ms\n",
            "Wall time: 306 ms\n"
          ]
        }
      ]
    },
    {
      "cell_type": "markdown",
      "metadata": {
        "id": "R6qeUjPaPxcK"
      },
      "source": [
        "Calculate estimated time by instruction and number of instructions by second"
      ]
    },
    {
      "cell_type": "code",
      "execution_count": 143,
      "metadata": {
        "id": "iLdXYvn3PxcK",
        "colab": {
          "base_uri": "https://localhost:8080/"
        },
        "outputId": "d4065b12-8ec9-4b8f-b904-2b5b1bd504b2"
      },
      "outputs": [
        {
          "output_type": "stream",
          "name": "stdout",
          "text": [
            "3.871417510235685e-09\n",
            "258303321.0332103\n"
          ]
        }
      ],
      "source": [
        "estimated_time = 0.00542 / 1400004\n",
        "number_of_ins_per_second = 1 / estimated_time\n",
        "print(estimated_time)\n",
        "print(number_of_ins_per_second)"
      ]
    }
  ],
  "metadata": {
    "colab": {
      "provenance": [],
      "include_colab_link": true
    },
    "kernelspec": {
      "display_name": "Python 3",
      "name": "python3"
    },
    "language_info": {
      "name": "python"
    }
  },
  "nbformat": 4,
  "nbformat_minor": 0
}